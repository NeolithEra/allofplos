{
 "cells": [
  {
   "cell_type": "markdown",
   "metadata": {},
   "source": [
    "# Basics on Using `Corpus`\n",
    "\n",
    "One of the easiest ways to get started with allofplos is to use the `Corpus` class. \n",
    "\n",
    "But, you ask:\n",
    "\n",
    "> Why use the `Corpus` class?\n",
    "\n",
    "It is a straightforward way to get back `Article` objects from your corpus without needing to instantiate them one by one.\n",
    "\n",
    "It also has handy utilities if you wanted to do more specific things that we're not going to get into.\n",
    "\n",
    "> How do I use it? \n",
    "\n",
    "Eager, are we‽ I thought you'd never ask!"
   ]
  },
  {
   "cell_type": "markdown",
   "metadata": {},
   "source": [
    "# Import Corpus\n",
    "\n",
    "First, we need to import `Corpus`. \n",
    "\n",
    "We're also going to import the `starterdir` corpus directory to use the corpus that comes with `allofplos`."
   ]
  },
  {
   "cell_type": "code",
   "execution_count": 1,
   "metadata": {},
   "outputs": [],
   "source": [
    "from allofplos import Corpus, starterdir"
   ]
  },
  {
   "cell_type": "markdown",
   "metadata": {},
   "source": [
    "## Instantiate Corpus\n",
    "\n",
    "Second we need to instantiate the `Corpus` object. \n",
    "\n",
    "In this case we're going to pass in `starterdir` so we use allofplos' starter corpus. "
   ]
  },
  {
   "cell_type": "code",
   "execution_count": 2,
   "metadata": {},
   "outputs": [],
   "source": [
    "corpus = Corpus(starterdir)"
   ]
  },
  {
   "cell_type": "markdown",
   "metadata": {},
   "source": [
    "## Use Corpus\n",
    "\n",
    "Now you're ready to use `corpus`!"
   ]
  },
  {
   "cell_type": "markdown",
   "metadata": {},
   "source": [
    "### See how many articles are in the corpus\n",
    "\n",
    "You can use `len(corpus)` to get the number of articles in the corpus."
   ]
  },
  {
   "cell_type": "code",
   "execution_count": 3,
   "metadata": {},
   "outputs": [
    {
     "data": {
      "text/plain": [
       "122"
      ]
     },
     "execution_count": 3,
     "metadata": {},
     "output_type": "execute_result"
    }
   ],
   "source": [
    "len(corpus)"
   ]
  },
  {
   "cell_type": "markdown",
   "metadata": {},
   "source": [
    "### Display a random article \n",
    "\n",
    "To get a single random article we use `corpus.random_article`.\n",
    "\n",
    "This will resample the article each time you ask for it."
   ]
  },
  {
   "cell_type": "code",
   "execution_count": 4,
   "metadata": {},
   "outputs": [
    {
     "data": {
      "text/plain": [
       "DOI: 10.1371/journal.pmed.1001186\n",
       "Title: Guidance for Evidence-Informed Policies about Health Systems: Linking Guidance Development to Policy Development"
      ]
     },
     "metadata": {},
     "output_type": "display_data"
    }
   ],
   "source": [
    "display(corpus.random_article)"
   ]
  },
  {
   "cell_type": "markdown",
   "metadata": {},
   "source": [
    "### Display an article from a specific doi\n",
    "\n",
    "\n",
    "If you already know the doi for the article you are interested in, you can access the doi like you would in a dictionary: `corpus[your_doi]`."
   ]
  },
  {
   "cell_type": "code",
   "execution_count": 5,
   "metadata": {},
   "outputs": [
    {
     "data": {
      "text/plain": [
       "DOI: 10.1371/journal.pcbi.1004141\n",
       "Title: The Equivalence of Information-Theoretic and Likelihood-Based Methods for Neural Dimensionality Reduction"
      ]
     },
     "execution_count": 5,
     "metadata": {},
     "output_type": "execute_result"
    }
   ],
   "source": [
    "corpus['10.1371/journal.pcbi.1004141']"
   ]
  },
  {
   "cell_type": "markdown",
   "metadata": {},
   "source": [
    "### Access every article in the corpus\n",
    "\n",
    "You can use python's `for article in corpus:` syntax to do something to each article in your corpus.\n",
    "\n",
    "This will return the articles in a new random order each time you call it."
   ]
  },
  {
   "cell_type": "code",
   "execution_count": 6,
   "metadata": {},
   "outputs": [
    {
     "name": "stdout",
     "output_type": "stream",
     "text": [
      "doi: 10.1371/journal.pmed.1001080 journal: PLOS Medicine\n",
      "doi: 10.1371/journal.pbio.1001636 journal: PLOS Biology\n",
      "doi: 10.1371/journal.pone.0126470 journal: PLOS ONE\n",
      "doi: 10.1371/journal.pone.0108198 journal: PLOS ONE\n",
      "doi: 10.1371/journal.pone.0147124 journal: PLOS ONE\n",
      "doi: 10.1371/journal.pone.0040259 journal: PLOS ONE\n",
      "doi: 10.1371/journal.pbio.1001044 journal: PLOS Biology\n",
      "doi: 10.1371/journal.pone.0070598 journal: PLOS ONE\n",
      "doi: 10.1371/journal.pcbi.1001051 journal: PLOS Computational Biology\n",
      "doi: 10.1371/journal.pone.0118238 journal: PLOS ONE\n",
      "doi: 10.1371/journal.pone.0146913 journal: PLOS ONE\n",
      "doi: 10.1371/journal.pone.0160653 journal: PLOS ONE\n",
      "doi: 10.1371/journal.pmed.0030445 journal: PLOS Medicine\n",
      "doi: 10.1371/journal.pone.0118342 journal: PLOS ONE\n",
      "doi: 10.1371/journal.ppat.1002735 journal: PLOS Pathogens\n",
      "doi: 10.1371/journal.pcbi.1002484 journal: PLOS Computational Biology\n",
      "doi: 10.1371/journal.pone.0116201 journal: PLOS ONE\n",
      "doi: 10.1371/journal.pcbi.1000112 journal: PLOS Computational Biology\n",
      "doi: 10.1371/journal.pgen.1003316 journal: PLOS Genetics\n",
      "doi: 10.1371/journal.pone.0050698 journal: PLOS ONE\n",
      "doi: 10.1371/journal.pmed.0020124 journal: PLOS Medicine\n",
      "doi: 10.1371/journal.pone.0008915 journal: PLOS ONE\n",
      "doi: 10.1371/journal.pgen.1000052 journal: PLOS Genetics\n",
      "doi: 10.1371/journal.pbio.0020334 journal: PLOS Biology\n",
      "doi: 10.1371/journal.pone.0116586 journal: PLOS ONE\n",
      "doi: 10.1371/journal.pcbi.1000204 journal: PLOS Computational Biology\n",
      "doi: 10.1371/journal.pmed.0030132 journal: PLOS Medicine\n",
      "doi: 10.1371/journal.pone.0153170 journal: PLOS ONE\n",
      "doi: 10.1371/journal.pbio.1001289 journal: PLOS Biology\n",
      "doi: 10.1371/journal.pone.0081648 journal: PLOS ONE\n",
      "doi: 10.1371/journal.pone.0114370 journal: PLOS ONE\n",
      "doi: 10.1371/journal.pmed.1000431 journal: PLOS Medicine\n",
      "doi: 10.1371/journal.pone.0152025 journal: PLOS ONE\n",
      "doi: 10.1371/journal.pone.0120049 journal: PLOS ONE\n",
      "doi: 10.1371/journal.pone.0028031 journal: PLOS ONE\n",
      "doi: 10.1371/journal.pone.0115067 journal: PLOS ONE\n",
      "doi: 10.1371/journal.pone.0067179 journal: PLOS ONE\n",
      "doi: 10.1371/journal.pone.0078921 journal: PLOS ONE\n",
      "doi: 10.1371/journal.ppat.0040045 journal: PLOS Pathogens\n",
      "doi: 10.1371/journal.pcbi.1004692 journal: PLOS Computational Biology\n",
      "doi: 10.1371/journal.pbio.1001199 journal: PLOS Biology\n",
      "doi: 10.1371/journal.pone.0117014 journal: PLOS ONE\n",
      "doi: 10.1371/journal.pone.0046041 journal: PLOS ONE\n",
      "doi: 10.1371/journal.pcbi.1001083 journal: PLOS Computational Biology\n",
      "doi: 10.1371/journal.pone.0117949 journal: PLOS ONE\n",
      "doi: 10.1371/journal.pone.0055490 journal: PLOS ONE\n",
      "doi: 10.1371/journal.pone.0119705 journal: PLOS ONE\n",
      "doi: 10.1371/journal.pone.0002554 journal: PLOS ONE\n",
      "doi: 10.1371/journal.pone.0012262 journal: PLOS ONE\n",
      "doi: 10.1371/journal.pone.0117688 journal: PLOS ONE\n",
      "doi: 10.1371/journal.ppat.1000105 journal: PLOS Pathogens\n",
      "doi: 10.1371/journal.pbio.1001315 journal: PLOS Biology\n",
      "doi: 10.1371/journal.pmed.1001473 journal: PLOS Medicine\n",
      "doi: 10.1371/journal.pone.0138823 journal: PLOS ONE\n",
      "doi: 10.1371/journal.pcbi.1004141 journal: PLOS Computational Biology\n",
      "doi: 10.1371/journal.pmed.0020171 journal: PLOS Medicine\n",
      "doi: 10.1371/journal.pone.0067380 journal: PLOS ONE\n",
      "doi: 10.1371/journal.pcbi.0030158 journal: PLOS Computational Biology\n",
      "doi: 10.1371/journal.ppat.1003133 journal: PLOS Pathogens\n",
      "doi: 10.1371/journal.pmed.1001418 journal: PLOS Medicine\n",
      "doi: 10.1371/journal.pone.0100977 journal: PLOS ONE\n",
      "doi: 10.1371/journal.pcbi.1004079 journal: PLOS Computational Biology\n",
      "doi: 10.1371/journal.pone.0010685 journal: PLOS ONE\n",
      "doi: 10.1371/journal.pmed.1001186 journal: PLOS Medicine\n",
      "doi: 10.1371/journal.pcbi.1004089 journal: PLOS Computational Biology\n",
      "doi: 10.1371/journal.pmed.0030520 journal: PLOS Medicine\n",
      "doi: 10.1371/journal.pmed.0020007 journal: PLOS Medicine\n",
      "doi: 10.1371/journal.pmed.1000097 journal: PLOS Medicine\n",
      "doi: 10.1371/journal.pmed.1001786 journal: PLOS Medicine\n",
      "doi: 10.1371/journal.pone.0068090 journal: PLOS ONE\n",
      "doi: 10.1371/journal.pone.0097541 journal: PLOS ONE\n",
      "doi: 10.1371/journal.pbio.0020188 journal: PLOS Biology\n",
      "doi: 10.1371/journal.pone.0153152 journal: PLOS ONE\n",
      "doi: 10.1371/journal.pone.0052690 journal: PLOS ONE\n",
      "doi: 10.1371/journal.pbio.1001473 journal: PLOS Biology\n",
      "doi: 10.1371/journal.ppat.1002247 journal: PLOS Pathogens\n",
      "doi: 10.1371/journal.pcbi.1000589 journal: PLOS Computational Biology\n",
      "doi: 10.1371/journal.pcbi.1004152 journal: PLOS Computational Biology\n",
      "doi: 10.1371/journal.pmed.1001300 journal: PLOS Medicine\n",
      "doi: 10.1371/journal.pone.0067227 journal: PLOS ONE\n",
      "doi: 10.1371/journal.pbio.0040088 journal: PLOS Biology\n",
      "doi: 10.1371/journal.pbio.0030408 journal: PLOS Biology\n",
      "doi: 10.1371/journal.pone.0116752 journal: PLOS ONE\n",
      "doi: 10.1371/journal.ppat.0020025 journal: PLOS Pathogens\n",
      "doi: 10.1371/journal.pcbi.1004453 journal: PLOS Computational Biology\n",
      "doi: 10.1371/journal.pone.0152459 journal: PLOS ONE\n",
      "doi: 10.1371/journal.pcbi.1004113 journal: PLOS Computational Biology\n",
      "doi: 10.1371/journal.pone.0121226 journal: PLOS ONE\n",
      "doi: 10.1371/journal.pone.0016329 journal: PLOS ONE\n",
      "doi: 10.1371/journal.pone.0016976 journal: PLOS ONE\n",
      "doi: 10.1371/journal.pone.0074790 journal: PLOS ONE\n",
      "doi: 10.1371/journal.pntd.0001969 journal: PLOS Neglected Tropical Diseases\n",
      "doi: 10.1371/journal.pone.0120924 journal: PLOS ONE\n",
      "doi: 10.1371/journal.pone.0111971 journal: PLOS ONE\n",
      "doi: 10.1371/journal.pone.0119074 journal: PLOS ONE\n",
      "doi: 10.1371/journal.pone.0008519 journal: PLOS ONE\n",
      "doi: 10.1371/journal.pone.0026358 journal: PLOS ONE\n",
      "doi: 10.1371/journal.pmed.1001518 journal: PLOS Medicine\n",
      "doi: 10.1371/journal.pone.0047391 journal: PLOS ONE\n",
      "doi: 10.1371/journal.ppat.1002769 journal: PLOS Pathogens\n",
      "doi: 10.1371/journal.pmed.0030205 journal: PLOS Medicine\n",
      "doi: 10.1371/journal.pntd.0000149 journal: PLOS Neglected Tropical Diseases\n",
      "doi: 10.1371/journal.pone.0087236 journal: PLOS ONE\n",
      "doi: 10.1371/journal.pone.0058242 journal: PLOS ONE\n",
      "doi: 10.1371/journal.pone.0078761 journal: PLOS ONE\n",
      "doi: 10.1371/journal.pntd.0001041 journal: PLOS Neglected Tropical Diseases\n",
      "doi: 10.1371/journal.pgen.1002912 journal: PLOS Genetics\n",
      "doi: 10.1371/journal.pone.0066742 journal: PLOS ONE\n",
      "doi: 10.1371/journal.ppat.1005207 journal: PLOS Pathogens\n",
      "doi: 10.1371/journal.pntd.0002570 journal: PLOS Neglected Tropical Diseases\n",
      "doi: 10.1371/journal.pcbi.1003292 journal: PLOS Computational Biology\n",
      "doi: 10.1371/journal.pcbi.1004082 journal: PLOS Computational Biology\n",
      "doi: 10.1371/journal.pone.0042593 journal: PLOS ONE\n",
      "doi: 10.1371/journal.ppat.1000166 journal: PLOS Pathogens\n",
      "doi: 10.1371/journal.pmed.0020402 journal: PLOS Medicine\n",
      "doi: 10.1371/journal.pone.0080518 journal: PLOS ONE\n",
      "doi: 10.1371/journal.pone.0069640 journal: PLOS ONE\n",
      "doi: 10.1371/journal.pone.0036880 journal: PLOS ONE\n",
      "doi: 10.1371/journal.pone.0005723 journal: PLOS ONE\n",
      "doi: 10.1371/journal.pmed.0040303 journal: PLOS Medicine\n",
      "doi: 10.1371/journal.pcbi.1004156 journal: PLOS Computational Biology\n",
      "doi: 10.1371/journal.pbio.1000359 journal: PLOS Biology\n"
     ]
    }
   ],
   "source": [
    "for article in corpus:\n",
    "    print(\"doi:\", article.doi, \"journal:\", article.journal)"
   ]
  },
  {
   "cell_type": "markdown",
   "metadata": {},
   "source": [
    "### Access a random sample of articles\n",
    "\n",
    "You can use the `corpus.random_sample()` method to get a random sample of articles from the corpus. \n",
    "\n",
    "The best way to use this is by iterating through the random sample: `for article in corpus.random_sample(x)`\n",
    "\n",
    "**NB**: It returns a generator (not a list) to avoid using too much memory."
   ]
  },
  {
   "cell_type": "code",
   "execution_count": 7,
   "metadata": {},
   "outputs": [
    {
     "data": {
      "text/plain": [
       "DOI: 10.1371/journal.ppat.1002247\n",
       "Title: Vaccinia Virus Protein C6 Is a Virulence Factor that Binds TBK-1 Adaptor Proteins and Inhibits Activation of IRF3 and IRF7"
      ]
     },
     "metadata": {},
     "output_type": "display_data"
    },
    {
     "data": {
      "text/plain": [
       "DOI: 10.1371/journal.pone.0068090\n",
       "Title: Abnormal Contextual Modulation of Visual Contour Detection in Patients with Schizophrenia"
      ]
     },
     "metadata": {},
     "output_type": "display_data"
    },
    {
     "data": {
      "text/plain": [
       "DOI: 10.1371/journal.pcbi.1004113\n",
       "Title: HPV Clearance and the Neglected Role of Stochasticity"
      ]
     },
     "metadata": {},
     "output_type": "display_data"
    },
    {
     "data": {
      "text/plain": [
       "DOI: 10.1371/journal.pone.0055490\n",
       "Title: Genetic Testing for TMEM154 Mutations Associated with Lentivirus Susceptibility in Sheep"
      ]
     },
     "metadata": {},
     "output_type": "display_data"
    },
    {
     "data": {
      "text/plain": [
       "DOI: 10.1371/journal.pone.0117688\n",
       "Title: Iterative Most-Likely Point Registration (IMLP): A Robust Algorithm for Computing Optimal Shape Alignment"
      ]
     },
     "metadata": {},
     "output_type": "display_data"
    },
    {
     "data": {
      "text/plain": [
       "DOI: 10.1371/journal.pone.0121226\n",
       "Title: AIB-OR: Improving Onion Routing Circuit Construction Using Anonymous Identity-Based Cryptosystems"
      ]
     },
     "metadata": {},
     "output_type": "display_data"
    },
    {
     "data": {
      "text/plain": [
       "DOI: 10.1371/journal.pone.0153170\n",
       "Title: Renal Transplant Recipients Treated with Calcineurin-Inhibitors Lack Circulating Immature Transitional CD19+CD24hiCD38hi Regulatory B-Lymphocytes"
      ]
     },
     "metadata": {},
     "output_type": "display_data"
    },
    {
     "data": {
      "text/plain": [
       "DOI: 10.1371/journal.pone.0046041\n",
       "Title: Potential Role of M. tuberculosis Specific IFN-γ and IL-2 ELISPOT Assays in Discriminating Children with Active or Latent Tuberculosis"
      ]
     },
     "metadata": {},
     "output_type": "display_data"
    },
    {
     "data": {
      "text/plain": [
       "DOI: 10.1371/journal.pone.0100977\n",
       "Title: Identification of a Major Phosphopeptide in Human Tristetraprolin by Phosphopeptide Mapping and Mass Spectrometry"
      ]
     },
     "metadata": {},
     "output_type": "display_data"
    },
    {
     "data": {
      "text/plain": [
       "DOI: 10.1371/journal.pbio.1001199\n",
       "Title: Interplay between BRCA1 and RHAMM Regulates Epithelial Apicobasal Polarization and May Influence Risk of Breast Cancer"
      ]
     },
     "metadata": {},
     "output_type": "display_data"
    },
    {
     "data": {
      "text/plain": [
       "DOI: 10.1371/journal.pmed.1001473\n",
       "Title: Uncovering Treatment Burden as a Key Concept for Stroke Care: A Systematic Review of Qualitative Research"
      ]
     },
     "metadata": {},
     "output_type": "display_data"
    },
    {
     "data": {
      "text/plain": [
       "DOI: 10.1371/journal.ppat.1002735\n",
       "Title: Synergistic Parasite-Pathogen Interactions Mediated by Host Immunity Can Drive the Collapse of Honeybee Colonies"
      ]
     },
     "metadata": {},
     "output_type": "display_data"
    },
    {
     "data": {
      "text/plain": [
       "DOI: 10.1371/journal.pmed.1000097\n",
       "Title: Preferred Reporting Items for Systematic Reviews and Meta-Analyses: The PRISMA Statement"
      ]
     },
     "metadata": {},
     "output_type": "display_data"
    },
    {
     "data": {
      "text/plain": [
       "DOI: 10.1371/journal.pmed.0020124\n",
       "Title: Why Most Published Research Findings Are False"
      ]
     },
     "metadata": {},
     "output_type": "display_data"
    },
    {
     "data": {
      "text/plain": [
       "DOI: 10.1371/journal.ppat.1000166\n",
       "Title: The Pseudomonas Quinolone Signal (PQS) Balances Life and Death in Pseudomonas aeruginosa Populations"
      ]
     },
     "metadata": {},
     "output_type": "display_data"
    },
    {
     "data": {
      "text/plain": [
       "DOI: 10.1371/journal.pcbi.1000112\n",
       "Title: Evolution of Evolvability in Gene Regulatory Networks"
      ]
     },
     "metadata": {},
     "output_type": "display_data"
    },
    {
     "data": {
      "text/plain": [
       "DOI: 10.1371/journal.pone.0026358\n",
       "Title: Benefit from B-Lymphocyte Depletion Using the Anti-CD20 Antibody Rituximab in Chronic Fatigue Syndrome. A Double-Blind and Placebo-Controlled Study"
      ]
     },
     "metadata": {},
     "output_type": "display_data"
    },
    {
     "data": {
      "text/plain": [
       "DOI: 10.1371/journal.pone.0087236\n",
       "Title: New Material of Beelzebufo, a Hyperossified Frog (Amphibia: Anura) from the Late Cretaceous of Madagascar"
      ]
     },
     "metadata": {},
     "output_type": "display_data"
    },
    {
     "data": {
      "text/plain": [
       "DOI: 10.1371/journal.pcbi.1004089\n",
       "Title: Delayed Response and Biosonar Perception Explain Movement Coordination in Trawling Bats"
      ]
     },
     "metadata": {},
     "output_type": "display_data"
    },
    {
     "data": {
      "text/plain": [
       "DOI: 10.1371/journal.pone.0005723\n",
       "Title: Complete Primate Skeleton from the Middle Eocene of Messel in Germany: Morphology and Paleobiology"
      ]
     },
     "metadata": {},
     "output_type": "display_data"
    },
    {
     "data": {
      "text/plain": [
       "DOI: 10.1371/journal.pone.0120049\n",
       "Title: Effects of Acute Exposure to Increased Plasma Branched-Chain Amino Acid Concentrations on Insulin-Mediated Plasma Glucose Turnover in Healthy Young Subjects"
      ]
     },
     "metadata": {},
     "output_type": "display_data"
    },
    {
     "data": {
      "text/plain": [
       "DOI: 10.1371/journal.pone.0116201\n",
       "Title: Relation between Financial Market Structure and the Real Economy: Comparison between Clustering Methods"
      ]
     },
     "metadata": {},
     "output_type": "display_data"
    },
    {
     "data": {
      "text/plain": [
       "DOI: 10.1371/journal.pone.0080518\n",
       "Title: Ecoinformatics Can Reveal Yield Gaps Associated with Crop-Pest Interactions: A Proof-of-Concept"
      ]
     },
     "metadata": {},
     "output_type": "display_data"
    },
    {
     "data": {
      "text/plain": [
       "DOI: 10.1371/journal.pone.0069640\n",
       "Title: Alternative Immunomodulatory Strategies for Xenotransplantation: CD80/CD86-CTLA4 Pathway-Modified Immature Dendritic Cells Promote Xenograft Survival"
      ]
     },
     "metadata": {},
     "output_type": "display_data"
    },
    {
     "data": {
      "text/plain": [
       "DOI: 10.1371/journal.pone.0108198\n",
       "Title: Correction: Macrophage Control of Phagocytosed Mycobacteria Is Increased by Factors Secreted by Alveolar Epithelial Cells through Nitric Oxide Independent Mechanisms"
      ]
     },
     "metadata": {},
     "output_type": "display_data"
    },
    {
     "data": {
      "text/plain": [
       "DOI: 10.1371/journal.ppat.0020025\n",
       "Title: Identification of a Novel Gammaretrovirus in Prostate Tumors of Patients Homozygous for R462Q RNASEL Variant"
      ]
     },
     "metadata": {},
     "output_type": "display_data"
    },
    {
     "data": {
      "text/plain": [
       "DOI: 10.1371/journal.pmed.1001518\n",
       "Title: Acupuncture and Counselling for Depression in Primary Care: A Randomised Controlled Trial"
      ]
     },
     "metadata": {},
     "output_type": "display_data"
    },
    {
     "data": {
      "text/plain": [
       "DOI: 10.1371/journal.pmed.0030205\n",
       "Title: Mischievous Odds Ratios"
      ]
     },
     "metadata": {},
     "output_type": "display_data"
    },
    {
     "data": {
      "text/plain": [
       "DOI: 10.1371/journal.pone.0147124\n",
       "Title: A Microarray-Based Analysis Reveals that a Short Photoperiod Promotes Hair Growth in the Arbas Cashmere Goat"
      ]
     },
     "metadata": {},
     "output_type": "display_data"
    },
    {
     "data": {
      "text/plain": [
       "DOI: 10.1371/journal.pone.0028031\n",
       "Title: Polymorphisms in Genes Involved in the NF-κB Signalling Pathway Are Associated with Bone Mineral Density, Geometry and Turnover in Men"
      ]
     },
     "metadata": {},
     "output_type": "display_data"
    },
    {
     "data": {
      "text/plain": [
       "DOI: 10.1371/journal.pbio.1000359\n",
       "Title: The Light-Driven Proton Pump Proteorhodopsin Enhances Bacterial Survival during Tough Times"
      ]
     },
     "metadata": {},
     "output_type": "display_data"
    },
    {
     "data": {
      "text/plain": [
       "DOI: 10.1371/journal.pmed.0030445\n",
       "Title: Social Medicine in the Twenty-First Century"
      ]
     },
     "metadata": {},
     "output_type": "display_data"
    },
    {
     "data": {
      "text/plain": [
       "DOI: 10.1371/journal.pone.0078761\n",
       "Title: Additive Partitioning of Coral Reef Fish Diversity across Hierarchical Spatial Scales throughout the Caribbean"
      ]
     },
     "metadata": {},
     "output_type": "display_data"
    },
    {
     "data": {
      "text/plain": [
       "DOI: 10.1371/journal.pbio.1001636\n",
       "Title: Lost Branches on the Tree of Life"
      ]
     },
     "metadata": {},
     "output_type": "display_data"
    },
    {
     "data": {
      "text/plain": [
       "DOI: 10.1371/journal.pone.0117949\n",
       "Title: Exact Solutions of Linear Reaction-Diffusion Processes on a Uniformly Growing Domain: Criteria for Successful Colonization"
      ]
     },
     "metadata": {},
     "output_type": "display_data"
    },
    {
     "data": {
      "text/plain": [
       "DOI: 10.1371/journal.ppat.1000105\n",
       "Title: Anti-Fungal Innate Immunity in C. elegans Is Enhanced by Evolutionary Diversification of Antimicrobial Peptides"
      ]
     },
     "metadata": {},
     "output_type": "display_data"
    },
    {
     "data": {
      "text/plain": [
       "DOI: 10.1371/journal.pbio.1001289\n",
       "Title: Neuroscience, Ethics, and National Security: The State of the Art"
      ]
     },
     "metadata": {},
     "output_type": "display_data"
    },
    {
     "data": {
      "text/plain": [
       "DOI: 10.1371/journal.ppat.1003133\n",
       "Title: Schmallenberg Virus Pathogenesis, Tropism and Interaction with the Innate Immune System of the Host"
      ]
     },
     "metadata": {},
     "output_type": "display_data"
    },
    {
     "data": {
      "text/plain": [
       "DOI: 10.1371/journal.pbio.0030408\n",
       "Title: Stimulating the Brain Makes the Fingers More Sensitive"
      ]
     },
     "metadata": {},
     "output_type": "display_data"
    },
    {
     "data": {
      "text/plain": [
       "DOI: 10.1371/journal.pmed.0030132\n",
       "Title: Bigger and Better: How Pfizer Redefined Erectile Dysfunction"
      ]
     },
     "metadata": {},
     "output_type": "display_data"
    },
    {
     "data": {
      "text/plain": [
       "DOI: 10.1371/journal.pmed.0020402\n",
       "Title: Tackling Inherited Blindness"
      ]
     },
     "metadata": {},
     "output_type": "display_data"
    },
    {
     "data": {
      "text/plain": [
       "DOI: 10.1371/journal.pmed.1001300\n",
       "Title: Multidrug Resistant Pulmonary Tuberculosis Treatment Regimens and Patient Outcomes: An Individual Patient Data Meta-analysis of 9,153 Patients"
      ]
     },
     "metadata": {},
     "output_type": "display_data"
    },
    {
     "data": {
      "text/plain": [
       "DOI: 10.1371/journal.ppat.1005207\n",
       "Title: Retraction: Extreme Resistance as a Host Counter-counter Defense against Viral Suppression of RNA Silencing"
      ]
     },
     "metadata": {},
     "output_type": "display_data"
    },
    {
     "data": {
      "text/plain": [
       "DOI: 10.1371/journal.pntd.0001041\n",
       "Title: A Phase Two Randomised Controlled Double Blind Trial of High Dose Intravenous Methylprednisolone and Oral Prednisolone versus Intravenous Normal Saline and Oral Prednisolone in Individuals with Leprosy Type 1 Reactions and/or Nerve Function Impairment"
      ]
     },
     "metadata": {},
     "output_type": "display_data"
    },
    {
     "data": {
      "text/plain": [
       "DOI: 10.1371/journal.pcbi.1003292\n",
       "Title: Reconstructing the Genomic Content of Microbiome Taxa through Shotgun Metagenomic Deconvolution"
      ]
     },
     "metadata": {},
     "output_type": "display_data"
    },
    {
     "data": {
      "text/plain": [
       "DOI: 10.1371/journal.pone.0138823\n",
       "Title: Structure-Activity Relationship of Indole-Tethered Pyrimidine Derivatives that Concurrently Inhibit Epidermal Growth Factor Receptor and Other Angiokinases"
      ]
     },
     "metadata": {},
     "output_type": "display_data"
    },
    {
     "data": {
      "text/plain": [
       "DOI: 10.1371/journal.pcbi.1000589\n",
       "Title: A Quick Guide for Developing Effective Bioinformatics Programming Skills"
      ]
     },
     "metadata": {},
     "output_type": "display_data"
    },
    {
     "data": {
      "text/plain": [
       "DOI: 10.1371/journal.pone.0078921\n",
       "Title: Serum Based Diagnosis of Asthma Using Raman Spectroscopy: An Early Phase Pilot Study"
      ]
     },
     "metadata": {},
     "output_type": "display_data"
    },
    {
     "data": {
      "text/plain": [
       "DOI: 10.1371/journal.pmed.0020007\n",
       "Title: Educating the Brain to Avoid Dementia: Can Mental Exercise Prevent Alzheimer Disease?"
      ]
     },
     "metadata": {},
     "output_type": "display_data"
    },
    {
     "data": {
      "text/plain": [
       "DOI: 10.1371/journal.pone.0074790\n",
       "Title: Identification and Characterization of a Novel Plasmodium falciparum Adhesin Involved in Erythrocyte Invasion"
      ]
     },
     "metadata": {},
     "output_type": "display_data"
    }
   ],
   "source": [
    "for article in corpus.random_sample(50):\n",
    "    display(article)"
   ]
  },
  {
   "cell_type": "markdown",
   "metadata": {},
   "source": [
    "# Now you know! \n",
    "\n",
    "Now you know the basics of using the `Corpus` class. \n",
    "\n",
    "- You can point `Corpus(directory)` to a corpus directory on your file system. \n",
    "- You can how many articles are in your corpus with `len(Corpus())`\n",
    "- You can get one random article with `Corpus().random_article`.\n",
    "- You can get the article with a specific doi with `Corpus()[doi]`.\n",
    "- You can access all of the articles in a corpus iteratively with `for article in Corpus():`.\n",
    "- You can access `x` random articles from the corpus with `for article in Corpus().random_sample(x):`.\n",
    "\n",
    "Now it's time to check out the Article tutorial. Once it exists, we'll definitely link to it here."
   ]
  }
 ],
 "metadata": {
  "kernelspec": {
   "display_name": "Python 3",
   "language": "python",
   "name": "python3"
  },
  "language_info": {
   "codemirror_mode": {
    "name": "ipython",
    "version": 3
   },
   "file_extension": ".py",
   "mimetype": "text/x-python",
   "name": "python",
   "nbconvert_exporter": "python",
   "pygments_lexer": "ipython3",
   "version": "3.6.4"
  }
 },
 "nbformat": 4,
 "nbformat_minor": 2
}
