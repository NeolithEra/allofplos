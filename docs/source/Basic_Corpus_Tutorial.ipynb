{
 "cells": [
  {
   "cell_type": "markdown",
   "metadata": {},
   "source": [
    "# Basics on Using `Corpus`\n",
    "\n",
    "One of the easiest ways to get started with allofplos is to use the `Corpus` class. \n",
    "\n",
    "But, you ask:\n",
    "\n",
    "> Why use the `Corpus` class?\n",
    "\n",
    "It is a straightforward way to get back `Article` objects from your corpus without needing to instantiate them one by one.\n",
    "\n",
    "It also has handy utilities if you wanted to do more specific things that we're not going to get into.\n",
    "\n",
    "> How do I use it? \n",
    "\n",
    "Eager, are we‽ I thought you'd never ask!"
   ]
  },
  {
   "cell_type": "markdown",
   "metadata": {},
   "source": [
    "## Import Corpus\n",
    "\n",
    "First, we need to import `Corpus`. \n",
    "\n",
    "We're also going to import the `starterdir` corpus directory to use the corpus that comes with `allofplos`."
   ]
  },
  {
   "cell_type": "code",
   "execution_count": 4,
   "metadata": {},
   "outputs": [],
   "source": [
    "from allofplos import Corpus, starterdir"
   ]
  },
  {
   "cell_type": "markdown",
   "metadata": {},
   "source": [
    "## Instantiate Corpus\n",
    "\n",
    "Second we need to instantiate the `Corpus` object. \n",
    "\n",
    "In this case we're going to pass in `starterdir` so we use allofplos' starter corpus. "
   ]
  },
  {
   "cell_type": "code",
   "execution_count": null,
   "metadata": {
    "collapsed": true
   },
   "outputs": [],
   "source": [
    "corpus = Corpus(starterdir)"
   ]
  },
  {
   "cell_type": "markdown",
   "metadata": {},
   "source": [
    "## Use Corpus\n",
    "\n",
    "Now you're ready to use `corpus`!"
   ]
  },
  {
   "cell_type": "markdown",
   "metadata": {},
   "source": [
    "### See how many articles are in the corpus\n",
    "\n",
    "You can use `len(corpus)` to get the number of articles in the corpus."
   ]
  },
  {
   "cell_type": "code",
   "execution_count": 6,
   "metadata": {},
   "outputs": [
    {
     "data": {
      "text/plain": [
       "122"
      ]
     },
     "execution_count": 6,
     "metadata": {},
     "output_type": "execute_result"
    }
   ],
   "source": [
    "len(corpus)"
   ]
  },
  {
   "cell_type": "markdown",
   "metadata": {},
   "source": [
    "### Display a random article \n",
    "\n",
    "To get a single random article we use `corpus.random_article`.\n",
    "\n",
    "This will resample the article each time you ask for it."
   ]
  },
  {
   "cell_type": "code",
   "execution_count": 5,
   "metadata": {},
   "outputs": [
    {
     "data": {
      "text/plain": [
       "DOI: 10.1371/journal.pone.0052690\n",
       "Title: The Internal Organization of Mycobacterial Partition Assembly: Does the DNA Wrap a Protein Core?"
      ]
     },
     "metadata": {},
     "output_type": "display_data"
    }
   ],
   "source": [
    "display(corpus.random_article)"
   ]
  },
  {
   "cell_type": "markdown",
   "metadata": {},
   "source": [
    "### Display every article in the corpus\n",
    "\n",
    "You can use python's `for article in corpus:` syntax to do something to each article in your corpus.\n",
    "\n",
    "This will return the articles in a new random order each time you call it."
   ]
  },
  {
   "cell_type": "code",
   "execution_count": 8,
   "metadata": {},
   "outputs": [
    {
     "data": {
      "text/plain": [
       "DOI: 10.1371/journal.pmed.0020171\n",
       "Title: Intention to Lose Weight, Weight Changes, and 18-y Mortality in Overweight Individuals without Co-Morbidities"
      ]
     },
     "metadata": {},
     "output_type": "display_data"
    },
    {
     "data": {
      "text/plain": [
       "DOI: 10.1371/journal.pmed.1001518\n",
       "Title: Acupuncture and Counselling for Depression in Primary Care: A Randomised Controlled Trial"
      ]
     },
     "metadata": {},
     "output_type": "display_data"
    },
    {
     "data": {
      "text/plain": [
       "DOI: 10.1371/journal.pone.0070598\n",
       "Title: In-Lake Processes Offset Increased Terrestrial Inputs of Dissolved Organic Carbon and Color to Lakes"
      ]
     },
     "metadata": {},
     "output_type": "display_data"
    },
    {
     "data": {
      "text/plain": [
       "DOI: 10.1371/journal.pone.0117949\n",
       "Title: Exact Solutions of Linear Reaction-Diffusion Processes on a Uniformly Growing Domain: Criteria for Successful Colonization"
      ]
     },
     "metadata": {},
     "output_type": "display_data"
    },
    {
     "data": {
      "text/plain": [
       "DOI: 10.1371/journal.pcbi.1004082\n",
       "Title: On the Number of Neurons and Time Scale of Integration Underlying the Formation of Percepts in the Brain"
      ]
     },
     "metadata": {},
     "output_type": "display_data"
    },
    {
     "data": {
      "text/plain": [
       "DOI: 10.1371/journal.pbio.0020188\n",
       "Title: Taking the Stem Cell Debate to the Public"
      ]
     },
     "metadata": {},
     "output_type": "display_data"
    },
    {
     "data": {
      "text/plain": [
       "DOI: 10.1371/journal.pone.0058242\n",
       "Title: Improved Glomerular Filtration Rate Estimation by an Artificial Neural Network"
      ]
     },
     "metadata": {},
     "output_type": "display_data"
    },
    {
     "data": {
      "text/plain": [
       "DOI: 10.1371/journal.pmed.1001080\n",
       "Title: Neonatal Mortality Levels for 193 Countries in 2009 with Trends since 1990: A Systematic Analysis of Progress, Projections, and Priorities"
      ]
     },
     "metadata": {},
     "output_type": "display_data"
    },
    {
     "data": {
      "text/plain": [
       "DOI: 10.1371/journal.pone.0153152\n",
       "Title: \"May I Buy a Pack of Marlboros, Please?\" A Systematic Review of Evidence to Improve the Validity and Impact of Youth Undercover Buy Inspections"
      ]
     },
     "metadata": {},
     "output_type": "display_data"
    },
    {
     "data": {
      "text/plain": [
       "DOI: 10.1371/journal.pone.0008519\n",
       "Title: Failure to Detect the Novel Retrovirus XMRV in Chronic Fatigue Syndrome"
      ]
     },
     "metadata": {},
     "output_type": "display_data"
    },
    {
     "data": {
      "text/plain": [
       "DOI: 10.1371/journal.pone.0116752\n",
       "Title: A Kramers-Moyal Approach to the Analysis of Third-Order Noise with Applications in Option Valuation"
      ]
     },
     "metadata": {},
     "output_type": "display_data"
    },
    {
     "data": {
      "text/plain": [
       "DOI: 10.1371/journal.pmed.0030132\n",
       "Title: Bigger and Better: How Pfizer Redefined Erectile Dysfunction"
      ]
     },
     "metadata": {},
     "output_type": "display_data"
    },
    {
     "data": {
      "text/plain": [
       "DOI: 10.1371/journal.pone.0069640\n",
       "Title: Alternative Immunomodulatory Strategies for Xenotransplantation: CD80/CD86-CTLA4 Pathway-Modified Immature Dendritic Cells Promote Xenograft Survival"
      ]
     },
     "metadata": {},
     "output_type": "display_data"
    },
    {
     "data": {
      "text/plain": [
       "DOI: 10.1371/journal.pone.0116586\n",
       "Title: Diminished Response of Arctic Plants to Warming over Time"
      ]
     },
     "metadata": {},
     "output_type": "display_data"
    },
    {
     "data": {
      "text/plain": [
       "DOI: 10.1371/journal.pone.0152025\n",
       "Title: Notch Signaling Activates Stem Cell Properties of Müller Glia through Transcriptional Regulation and Skp2-mediated Degradation of p27Kip1"
      ]
     },
     "metadata": {},
     "output_type": "display_data"
    },
    {
     "data": {
      "text/plain": [
       "DOI: 10.1371/journal.pcbi.1004141\n",
       "Title: The Equivalence of Information-Theoretic and Likelihood-Based Methods for Neural Dimensionality Reduction"
      ]
     },
     "metadata": {},
     "output_type": "display_data"
    },
    {
     "data": {
      "text/plain": [
       "DOI: 10.1371/journal.pone.0121226\n",
       "Title: AIB-OR: Improving Onion Routing Circuit Construction Using Anonymous Identity-Based Cryptosystems"
      ]
     },
     "metadata": {},
     "output_type": "display_data"
    },
    {
     "data": {
      "text/plain": [
       "DOI: 10.1371/journal.pmed.1001300\n",
       "Title: Multidrug Resistant Pulmonary Tuberculosis Treatment Regimens and Patient Outcomes: An Individual Patient Data Meta-analysis of 9,153 Patients"
      ]
     },
     "metadata": {},
     "output_type": "display_data"
    },
    {
     "data": {
      "text/plain": [
       "DOI: 10.1371/journal.pbio.0030408\n",
       "Title: Stimulating the Brain Makes the Fingers More Sensitive"
      ]
     },
     "metadata": {},
     "output_type": "display_data"
    },
    {
     "data": {
      "text/plain": [
       "DOI: 10.1371/journal.pone.0068090\n",
       "Title: Abnormal Contextual Modulation of Visual Contour Detection in Patients with Schizophrenia"
      ]
     },
     "metadata": {},
     "output_type": "display_data"
    },
    {
     "data": {
      "text/plain": [
       "DOI: 10.1371/journal.pcbi.0030158\n",
       "Title: Retraction: Measures of Clade Confidence Do Not Correlate with Accuracy of Phylogenetic Trees"
      ]
     },
     "metadata": {},
     "output_type": "display_data"
    },
    {
     "data": {
      "text/plain": [
       "DOI: 10.1371/journal.pmed.0040303\n",
       "Title: Which Single Intervention Would Do the Most to Improve the Health of Those Living on Less Than $1 Per Day?"
      ]
     },
     "metadata": {},
     "output_type": "display_data"
    },
    {
     "data": {
      "text/plain": [
       "DOI: 10.1371/journal.pone.0081648\n",
       "Title: Assessing “Dangerous Climate Change”: Required Reduction of Carbon Emissions to Protect Young People, Future Generations and Nature"
      ]
     },
     "metadata": {},
     "output_type": "display_data"
    },
    {
     "data": {
      "text/plain": [
       "DOI: 10.1371/journal.pcbi.1004692\n",
       "Title: Ensemble Tractography"
      ]
     },
     "metadata": {},
     "output_type": "display_data"
    },
    {
     "data": {
      "text/plain": [
       "DOI: 10.1371/journal.pone.0036880\n",
       "Title: Mentalizing Deficits Constrain Belief in a Personal God"
      ]
     },
     "metadata": {},
     "output_type": "display_data"
    },
    {
     "data": {
      "text/plain": [
       "DOI: 10.1371/journal.pone.0047391\n",
       "Title: Monitoring HIV Viral Load in Resource Limited Settings: Still a Matter of Debate?"
      ]
     },
     "metadata": {},
     "output_type": "display_data"
    },
    {
     "data": {
      "text/plain": [
       "DOI: 10.1371/journal.pmed.1001473\n",
       "Title: Uncovering Treatment Burden as a Key Concept for Stroke Care: A Systematic Review of Qualitative Research"
      ]
     },
     "metadata": {},
     "output_type": "display_data"
    },
    {
     "data": {
      "text/plain": [
       "DOI: 10.1371/journal.pone.0050698\n",
       "Title: Anatomical Brain Images Alone Can Accurately Diagnose Chronic Neuropsychiatric Illnesses"
      ]
     },
     "metadata": {},
     "output_type": "display_data"
    },
    {
     "data": {
      "text/plain": [
       "DOI: 10.1371/journal.pone.0042593\n",
       "Title: The Impact of Psychological Stress on Men's Judgements of Female Body Size"
      ]
     },
     "metadata": {},
     "output_type": "display_data"
    },
    {
     "data": {
      "text/plain": [
       "DOI: 10.1371/journal.pmed.0030445\n",
       "Title: Social Medicine in the Twenty-First Century"
      ]
     },
     "metadata": {},
     "output_type": "display_data"
    },
    {
     "data": {
      "text/plain": [
       "DOI: 10.1371/journal.pbio.0040088\n",
       "Title: Relaxed Phylogenetics and Dating with Confidence"
      ]
     },
     "metadata": {},
     "output_type": "display_data"
    },
    {
     "data": {
      "text/plain": [
       "DOI: 10.1371/journal.pmed.1001186\n",
       "Title: Guidance for Evidence-Informed Policies about Health Systems: Linking Guidance Development to Policy Development"
      ]
     },
     "metadata": {},
     "output_type": "display_data"
    },
    {
     "data": {
      "text/plain": [
       "DOI: 10.1371/journal.pcbi.1004079\n",
       "Title: 3-way Networks: Application of Hypergraphs for Modelling Increased Complexity in Comparative Genomics"
      ]
     },
     "metadata": {},
     "output_type": "display_data"
    },
    {
     "data": {
      "text/plain": [
       "DOI: 10.1371/journal.pbio.1001199\n",
       "Title: Interplay between BRCA1 and RHAMM Regulates Epithelial Apicobasal Polarization and May Influence Risk of Breast Cancer"
      ]
     },
     "metadata": {},
     "output_type": "display_data"
    },
    {
     "data": {
      "text/plain": [
       "DOI: 10.1371/journal.pbio.0020334\n",
       "Title: EGF Signal Propagation during C. elegans Vulval Development Mediated by ROM-1 Rhomboid"
      ]
     },
     "metadata": {},
     "output_type": "display_data"
    },
    {
     "data": {
      "text/plain": [
       "DOI: 10.1371/journal.pmed.0020402\n",
       "Title: Tackling Inherited Blindness"
      ]
     },
     "metadata": {},
     "output_type": "display_data"
    },
    {
     "data": {
      "text/plain": [
       "DOI: 10.1371/journal.pmed.0020007\n",
       "Title: Educating the Brain to Avoid Dementia: Can Mental Exercise Prevent Alzheimer Disease?"
      ]
     },
     "metadata": {},
     "output_type": "display_data"
    },
    {
     "data": {
      "text/plain": [
       "DOI: 10.1371/journal.pone.0008915\n",
       "Title: Parameter Identifiability and Redundancy: Theoretical Considerations"
      ]
     },
     "metadata": {},
     "output_type": "display_data"
    },
    {
     "data": {
      "text/plain": [
       "DOI: 10.1371/journal.ppat.0020025\n",
       "Title: Identification of a Novel Gammaretrovirus in Prostate Tumors of Patients Homozygous for R462Q RNASEL Variant"
      ]
     },
     "metadata": {},
     "output_type": "display_data"
    },
    {
     "data": {
      "text/plain": [
       "DOI: 10.1371/journal.pmed.0030520\n",
       "Title: Angiotensin-Converting Enzyme I/D Polymorphism and Preeclampsia Risk: Evidence of Small-Study Bias"
      ]
     },
     "metadata": {},
     "output_type": "display_data"
    },
    {
     "data": {
      "text/plain": [
       "DOI: 10.1371/journal.pntd.0001969\n",
       "Title: An In-Depth Analysis of a Piece of Shit: Distribution of Schistosoma mansoni and Hookworm Eggs in Human Stool"
      ]
     },
     "metadata": {},
     "output_type": "display_data"
    },
    {
     "data": {
      "text/plain": [
       "DOI: 10.1371/journal.pone.0118238\n",
       "Title: Self-Organization of Plant Vascular Systems: Claims and Counter-Claims about the Flux-Based Auxin Transport Model"
      ]
     },
     "metadata": {},
     "output_type": "display_data"
    },
    {
     "data": {
      "text/plain": [
       "DOI: 10.1371/journal.pone.0138823\n",
       "Title: Structure-Activity Relationship of Indole-Tethered Pyrimidine Derivatives that Concurrently Inhibit Epidermal Growth Factor Receptor and Other Angiokinases"
      ]
     },
     "metadata": {},
     "output_type": "display_data"
    },
    {
     "data": {
      "text/plain": [
       "DOI: 10.1371/journal.pone.0046041\n",
       "Title: Potential Role of M. tuberculosis Specific IFN-γ and IL-2 ELISPOT Assays in Discriminating Children with Active or Latent Tuberculosis"
      ]
     },
     "metadata": {},
     "output_type": "display_data"
    },
    {
     "data": {
      "text/plain": [
       "DOI: 10.1371/journal.pone.0115067\n",
       "Title: Effects of Different PER Translational Kinetics on the Dynamics of a Core Circadian Clock Model"
      ]
     },
     "metadata": {},
     "output_type": "display_data"
    },
    {
     "data": {
      "text/plain": [
       "DOI: 10.1371/journal.pone.0120924\n",
       "Title: Glowing Seashells: Diversity of Fossilized Coloration Patterns on Coral Reef-Associated Cone Snail (Gastropoda: Conidae) Shells from the Neogene of the Dominican Republic"
      ]
     },
     "metadata": {},
     "output_type": "display_data"
    },
    {
     "data": {
      "text/plain": [
       "DOI: 10.1371/journal.pone.0026358\n",
       "Title: Benefit from B-Lymphocyte Depletion Using the Anti-CD20 Antibody Rituximab in Chronic Fatigue Syndrome. A Double-Blind and Placebo-Controlled Study"
      ]
     },
     "metadata": {},
     "output_type": "display_data"
    },
    {
     "data": {
      "text/plain": [
       "DOI: 10.1371/journal.pone.0119074\n",
       "Title: The Effect of Cluster Size Variability on Statistical Power in Cluster-Randomized Trials"
      ]
     },
     "metadata": {},
     "output_type": "display_data"
    },
    {
     "data": {
      "text/plain": [
       "DOI: 10.1371/journal.pgen.1003316\n",
       "Title: Genome-Wide Diversity in the Levant Reveals Recent Structuring by Culture"
      ]
     },
     "metadata": {},
     "output_type": "display_data"
    },
    {
     "data": {
      "text/plain": [
       "DOI: 10.1371/journal.pbio.1001289\n",
       "Title: Neuroscience, Ethics, and National Security: The State of the Art"
      ]
     },
     "metadata": {},
     "output_type": "display_data"
    },
    {
     "data": {
      "text/plain": [
       "DOI: 10.1371/journal.pone.0010685\n",
       "Title: Why Functional Pre-Erythrocytic and Bloodstage Malaria Vaccines Fail: A Meta-Analysis of Fully Protective Immunizations and Novel Immunological Model"
      ]
     },
     "metadata": {},
     "output_type": "display_data"
    },
    {
     "data": {
      "text/plain": [
       "DOI: 10.1371/journal.pbio.1001315\n",
       "Title: Sialyllactose in Viral Membrane Gangliosides Is a Novel Molecular Recognition Pattern for Mature Dendritic Cell Capture of HIV-1"
      ]
     },
     "metadata": {},
     "output_type": "display_data"
    },
    {
     "data": {
      "text/plain": [
       "DOI: 10.1371/journal.pone.0087236\n",
       "Title: New Material of Beelzebufo, a Hyperossified Frog (Amphibia: Anura) from the Late Cretaceous of Madagascar"
      ]
     },
     "metadata": {},
     "output_type": "display_data"
    },
    {
     "data": {
      "text/plain": [
       "DOI: 10.1371/journal.pone.0147124\n",
       "Title: A Microarray-Based Analysis Reveals that a Short Photoperiod Promotes Hair Growth in the Arbas Cashmere Goat"
      ]
     },
     "metadata": {},
     "output_type": "display_data"
    },
    {
     "data": {
      "text/plain": [
       "DOI: 10.1371/journal.pcbi.1004089\n",
       "Title: Delayed Response and Biosonar Perception Explain Movement Coordination in Trawling Bats"
      ]
     },
     "metadata": {},
     "output_type": "display_data"
    },
    {
     "data": {
      "text/plain": [
       "DOI: 10.1371/journal.pone.0074790\n",
       "Title: Identification and Characterization of a Novel Plasmodium falciparum Adhesin Involved in Erythrocyte Invasion"
      ]
     },
     "metadata": {},
     "output_type": "display_data"
    },
    {
     "data": {
      "text/plain": [
       "DOI: 10.1371/journal.pone.0153170\n",
       "Title: Renal Transplant Recipients Treated with Calcineurin-Inhibitors Lack Circulating Immature Transitional CD19+CD24hiCD38hi Regulatory B-Lymphocytes"
      ]
     },
     "metadata": {},
     "output_type": "display_data"
    },
    {
     "data": {
      "text/plain": [
       "DOI: 10.1371/journal.ppat.1003133\n",
       "Title: Schmallenberg Virus Pathogenesis, Tropism and Interaction with the Innate Immune System of the Host"
      ]
     },
     "metadata": {},
     "output_type": "display_data"
    },
    {
     "data": {
      "text/plain": [
       "DOI: 10.1371/journal.pone.0100977\n",
       "Title: Identification of a Major Phosphopeptide in Human Tristetraprolin by Phosphopeptide Mapping and Mass Spectrometry"
      ]
     },
     "metadata": {},
     "output_type": "display_data"
    },
    {
     "data": {
      "text/plain": [
       "DOI: 10.1371/journal.pone.0117014\n",
       "Title: Model Selection Emphasises the Importance of Non-Chromosomal Information in Genetic Studies"
      ]
     },
     "metadata": {},
     "output_type": "display_data"
    },
    {
     "data": {
      "text/plain": [
       "DOI: 10.1371/journal.pone.0152459\n",
       "Title: Prognostic Value of Overexpressed p16INK4a in Vulvar Cancer: A Meta-Analysis"
      ]
     },
     "metadata": {},
     "output_type": "display_data"
    },
    {
     "data": {
      "text/plain": [
       "DOI: 10.1371/journal.pone.0160653\n",
       "Title: Demonstration of Protein-Based Human Identification Using the Hair Shaft Proteome"
      ]
     },
     "metadata": {},
     "output_type": "display_data"
    },
    {
     "data": {
      "text/plain": [
       "DOI: 10.1371/journal.pmed.0020124\n",
       "Title: Why Most Published Research Findings Are False"
      ]
     },
     "metadata": {},
     "output_type": "display_data"
    },
    {
     "data": {
      "text/plain": [
       "DOI: 10.1371/journal.ppat.1002769\n",
       "Title: Linking the Transcriptional Profiles and the Physiological States of Mycobacterium tuberculosis during an Extended Intracellular Infection"
      ]
     },
     "metadata": {},
     "output_type": "display_data"
    },
    {
     "data": {
      "text/plain": [
       "DOI: 10.1371/journal.pone.0067227\n",
       "Title: The Relationship between Leukocyte Mitochondrial DNA Copy Number and Telomere Length in Community-Dwelling Elderly Women"
      ]
     },
     "metadata": {},
     "output_type": "display_data"
    },
    {
     "data": {
      "text/plain": [
       "DOI: 10.1371/journal.pone.0120049\n",
       "Title: Effects of Acute Exposure to Increased Plasma Branched-Chain Amino Acid Concentrations on Insulin-Mediated Plasma Glucose Turnover in Healthy Young Subjects"
      ]
     },
     "metadata": {},
     "output_type": "display_data"
    },
    {
     "data": {
      "text/plain": [
       "DOI: 10.1371/journal.pone.0067179\n",
       "Title: Human Parvovirus B19 Induced Apoptotic Bodies Contain Altered Self-Antigens that are Phagocytosed by Antigen Presenting Cells"
      ]
     },
     "metadata": {},
     "output_type": "display_data"
    },
    {
     "data": {
      "text/plain": [
       "DOI: 10.1371/journal.pntd.0002570\n",
       "Title: NTDs V.2.0: “Blue Marble Health”—Neglected Tropical Disease Control and Elimination in a Shifting Health Policy Landscape"
      ]
     },
     "metadata": {},
     "output_type": "display_data"
    },
    {
     "data": {
      "text/plain": [
       "DOI: 10.1371/journal.pone.0016329\n",
       "Title: Expanding the Diversity of Mycobacteriophages: Insights into Genome Architecture and Evolution"
      ]
     },
     "metadata": {},
     "output_type": "display_data"
    },
    {
     "data": {
      "text/plain": [
       "DOI: 10.1371/journal.pcbi.1004113\n",
       "Title: HPV Clearance and the Neglected Role of Stochasticity"
      ]
     },
     "metadata": {},
     "output_type": "display_data"
    },
    {
     "data": {
      "text/plain": [
       "DOI: 10.1371/journal.ppat.1002247\n",
       "Title: Vaccinia Virus Protein C6 Is a Virulence Factor that Binds TBK-1 Adaptor Proteins and Inhibits Activation of IRF3 and IRF7"
      ]
     },
     "metadata": {},
     "output_type": "display_data"
    },
    {
     "data": {
      "text/plain": [
       "DOI: 10.1371/journal.pmed.1000431\n",
       "Title: Strategies and Practices in Off-Label Marketing of Pharmaceuticals: A Retrospective Analysis of Whistleblower Complaints"
      ]
     },
     "metadata": {},
     "output_type": "display_data"
    },
    {
     "data": {
      "text/plain": [
       "DOI: 10.1371/journal.pone.0066742\n",
       "Title: Relative Impact of Multimorbid Chronic Conditions on Health-Related Quality of Life – Results from the MultiCare Cohort Study"
      ]
     },
     "metadata": {},
     "output_type": "display_data"
    },
    {
     "data": {
      "text/plain": [
       "DOI: 10.1371/journal.pcbi.1004156\n",
       "Title: Energy Landscape Reveals That the Budding Yeast Cell Cycle Is a Robust and Adaptive Multi-stage Process"
      ]
     },
     "metadata": {},
     "output_type": "display_data"
    },
    {
     "data": {
      "text/plain": [
       "DOI: 10.1371/journal.pone.0097541\n",
       "Title: Correction: Pollen and Phytolith Evidence for Rice Cultivation and Vegetation Change during the Mid-Late Holocene at the Jiangli Site, Suzhou, East China"
      ]
     },
     "metadata": {},
     "output_type": "display_data"
    },
    {
     "data": {
      "text/plain": [
       "DOI: 10.1371/journal.pone.0055490\n",
       "Title: Genetic Testing for TMEM154 Mutations Associated with Lentivirus Susceptibility in Sheep"
      ]
     },
     "metadata": {},
     "output_type": "display_data"
    },
    {
     "data": {
      "text/plain": [
       "DOI: 10.1371/journal.pcbi.1000204\n",
       "Title: Defrosting the Digital Library: Bibliographic Tools for the Next Generation Web"
      ]
     },
     "metadata": {},
     "output_type": "display_data"
    },
    {
     "data": {
      "text/plain": [
       "DOI: 10.1371/journal.pone.0016976\n",
       "Title: A Systematic Review and Meta-Analysis of the Efficacy and Safety of Intermittent Preventive Treatment of Malaria in Children (IPTc)"
      ]
     },
     "metadata": {},
     "output_type": "display_data"
    },
    {
     "data": {
      "text/plain": [
       "DOI: 10.1371/journal.pcbi.1000112\n",
       "Title: Evolution of Evolvability in Gene Regulatory Networks"
      ]
     },
     "metadata": {},
     "output_type": "display_data"
    },
    {
     "data": {
      "text/plain": [
       "DOI: 10.1371/journal.pone.0028031\n",
       "Title: Polymorphisms in Genes Involved in the NF-κB Signalling Pathway Are Associated with Bone Mineral Density, Geometry and Turnover in Men"
      ]
     },
     "metadata": {},
     "output_type": "display_data"
    },
    {
     "data": {
      "text/plain": [
       "DOI: 10.1371/journal.pcbi.1002484\n",
       "Title: Theoretical Analysis of Competing Conformational Transitions in Superhelical DNA"
      ]
     },
     "metadata": {},
     "output_type": "display_data"
    },
    {
     "data": {
      "text/plain": [
       "DOI: 10.1371/journal.pone.0080518\n",
       "Title: Ecoinformatics Can Reveal Yield Gaps Associated with Crop-Pest Interactions: A Proof-of-Concept"
      ]
     },
     "metadata": {},
     "output_type": "display_data"
    },
    {
     "data": {
      "text/plain": [
       "DOI: 10.1371/journal.pone.0114370\n",
       "Title: Strategies of Eradicating Glioma Cells: A Multi-Scale Mathematical Model with MiR-451-AMPK-mTOR Control"
      ]
     },
     "metadata": {},
     "output_type": "display_data"
    },
    {
     "data": {
      "text/plain": [
       "DOI: 10.1371/journal.pone.0067380\n",
       "Title: Thresher Sharks Use Tail-Slaps as a Hunting Strategy"
      ]
     },
     "metadata": {},
     "output_type": "display_data"
    },
    {
     "data": {
      "text/plain": [
       "DOI: 10.1371/journal.pcbi.1001051\n",
       "Title: Theoretical Analysis of the Stress Induced B-Z Transition in Superhelical DNA"
      ]
     },
     "metadata": {},
     "output_type": "display_data"
    },
    {
     "data": {
      "text/plain": [
       "DOI: 10.1371/journal.pone.0118342\n",
       "Title: An Efficient Algorithm to Perform Local Concerted Movements of a Chain Molecule"
      ]
     },
     "metadata": {},
     "output_type": "display_data"
    },
    {
     "data": {
      "text/plain": [
       "DOI: 10.1371/journal.pone.0126470\n",
       "Title: Topology Analysis of Social Networks Extracted from Literature"
      ]
     },
     "metadata": {},
     "output_type": "display_data"
    },
    {
     "data": {
      "text/plain": [
       "DOI: 10.1371/journal.ppat.1002735\n",
       "Title: Synergistic Parasite-Pathogen Interactions Mediated by Host Immunity Can Drive the Collapse of Honeybee Colonies"
      ]
     },
     "metadata": {},
     "output_type": "display_data"
    },
    {
     "data": {
      "text/plain": [
       "DOI: 10.1371/journal.pmed.0030205\n",
       "Title: Mischievous Odds Ratios"
      ]
     },
     "metadata": {},
     "output_type": "display_data"
    },
    {
     "data": {
      "text/plain": [
       "DOI: 10.1371/journal.ppat.1000166\n",
       "Title: The Pseudomonas Quinolone Signal (PQS) Balances Life and Death in Pseudomonas aeruginosa Populations"
      ]
     },
     "metadata": {},
     "output_type": "display_data"
    },
    {
     "data": {
      "text/plain": [
       "DOI: 10.1371/journal.pone.0116201\n",
       "Title: Relation between Financial Market Structure and the Real Economy: Comparison between Clustering Methods"
      ]
     },
     "metadata": {},
     "output_type": "display_data"
    },
    {
     "data": {
      "text/plain": [
       "DOI: 10.1371/journal.pone.0146913\n",
       "Title: Reproducibility of Brain Morphometry from Short-Term Repeat Clinical MRI Examinations: A Retrospective Study"
      ]
     },
     "metadata": {},
     "output_type": "display_data"
    },
    {
     "data": {
      "text/plain": [
       "DOI: 10.1371/journal.pcbi.1000589\n",
       "Title: A Quick Guide for Developing Effective Bioinformatics Programming Skills"
      ]
     },
     "metadata": {},
     "output_type": "display_data"
    },
    {
     "data": {
      "text/plain": [
       "DOI: 10.1371/journal.pntd.0000149\n",
       "Title: Neglected Diseases and Poverty in “The Other America”: The Greatest Health Disparity in the United States?"
      ]
     },
     "metadata": {},
     "output_type": "display_data"
    },
    {
     "data": {
      "text/plain": [
       "DOI: 10.1371/journal.pgen.1002912\n",
       "Title: Advances in Quantitative Trait Analysis in Yeast"
      ]
     },
     "metadata": {},
     "output_type": "display_data"
    },
    {
     "data": {
      "text/plain": [
       "DOI: 10.1371/journal.pone.0111971\n",
       "Title: Modeling Curvature-Dependent Subcellular Localization of the Small Sporulation Protein SpoVM in Bacillus subtilis"
      ]
     },
     "metadata": {},
     "output_type": "display_data"
    },
    {
     "data": {
      "text/plain": [
       "DOI: 10.1371/journal.pone.0119705\n",
       "Title: TBI Server: A Web Server for Predicting Ion Effects in RNA Folding"
      ]
     },
     "metadata": {},
     "output_type": "display_data"
    },
    {
     "data": {
      "text/plain": [
       "DOI: 10.1371/journal.pone.0052690\n",
       "Title: The Internal Organization of Mycobacterial Partition Assembly: Does the DNA Wrap a Protein Core?"
      ]
     },
     "metadata": {},
     "output_type": "display_data"
    },
    {
     "data": {
      "text/plain": [
       "DOI: 10.1371/journal.pone.0002554\n",
       "Title: A Comparison of Wood Density between Classical Cremonese and Modern Violins"
      ]
     },
     "metadata": {},
     "output_type": "display_data"
    },
    {
     "data": {
      "text/plain": [
       "DOI: 10.1371/journal.pmed.1001786\n",
       "Title: Intra-tumor Genetic Heterogeneity and Mortality in Head and Neck Cancer: Analysis of Data from The Cancer Genome Atlas"
      ]
     },
     "metadata": {},
     "output_type": "display_data"
    },
    {
     "data": {
      "text/plain": [
       "DOI: 10.1371/journal.pone.0040259\n",
       "Title: The Eyes Don’t Have It: Lie Detection and Neuro-Linguistic Programming"
      ]
     },
     "metadata": {},
     "output_type": "display_data"
    },
    {
     "data": {
      "text/plain": [
       "DOI: 10.1371/journal.pbio.1001636\n",
       "Title: Lost Branches on the Tree of Life"
      ]
     },
     "metadata": {},
     "output_type": "display_data"
    },
    {
     "data": {
      "text/plain": [
       "DOI: 10.1371/journal.ppat.1005207\n",
       "Title: Retraction: Extreme Resistance as a Host Counter-counter Defense against Viral Suppression of RNA Silencing"
      ]
     },
     "metadata": {},
     "output_type": "display_data"
    },
    {
     "data": {
      "text/plain": [
       "DOI: 10.1371/journal.pone.0108198\n",
       "Title: Correction: Macrophage Control of Phagocytosed Mycobacteria Is Increased by Factors Secreted by Alveolar Epithelial Cells through Nitric Oxide Independent Mechanisms"
      ]
     },
     "metadata": {},
     "output_type": "display_data"
    },
    {
     "data": {
      "text/plain": [
       "DOI: 10.1371/journal.pcbi.1003292\n",
       "Title: Reconstructing the Genomic Content of Microbiome Taxa through Shotgun Metagenomic Deconvolution"
      ]
     },
     "metadata": {},
     "output_type": "display_data"
    },
    {
     "data": {
      "text/plain": [
       "DOI: 10.1371/journal.pone.0078921\n",
       "Title: Serum Based Diagnosis of Asthma Using Raman Spectroscopy: An Early Phase Pilot Study"
      ]
     },
     "metadata": {},
     "output_type": "display_data"
    },
    {
     "data": {
      "text/plain": [
       "DOI: 10.1371/journal.ppat.1000105\n",
       "Title: Anti-Fungal Innate Immunity in C. elegans Is Enhanced by Evolutionary Diversification of Antimicrobial Peptides"
      ]
     },
     "metadata": {},
     "output_type": "display_data"
    },
    {
     "data": {
      "text/plain": [
       "DOI: 10.1371/journal.pone.0012262\n",
       "Title: Cancer Biomarker Discovery: The Entropic Hallmark"
      ]
     },
     "metadata": {},
     "output_type": "display_data"
    },
    {
     "data": {
      "text/plain": [
       "DOI: 10.1371/journal.pmed.1001418\n",
       "Title: Life Expectancies of South African Adults Starting Antiretroviral Treatment: Collaborative Analysis of Cohort Studies"
      ]
     },
     "metadata": {},
     "output_type": "display_data"
    },
    {
     "data": {
      "text/plain": [
       "DOI: 10.1371/journal.pbio.1000359\n",
       "Title: The Light-Driven Proton Pump Proteorhodopsin Enhances Bacterial Survival during Tough Times"
      ]
     },
     "metadata": {},
     "output_type": "display_data"
    },
    {
     "data": {
      "text/plain": [
       "DOI: 10.1371/journal.pone.0078761\n",
       "Title: Additive Partitioning of Coral Reef Fish Diversity across Hierarchical Spatial Scales throughout the Caribbean"
      ]
     },
     "metadata": {},
     "output_type": "display_data"
    },
    {
     "data": {
      "text/plain": [
       "DOI: 10.1371/journal.pbio.1001473\n",
       "Title: The Oxytricha trifallax Macronuclear Genome: A Complex Eukaryotic Genome with 16,000 Tiny Chromosomes"
      ]
     },
     "metadata": {},
     "output_type": "display_data"
    },
    {
     "data": {
      "text/plain": [
       "DOI: 10.1371/journal.pntd.0001041\n",
       "Title: A Phase Two Randomised Controlled Double Blind Trial of High Dose Intravenous Methylprednisolone and Oral Prednisolone versus Intravenous Normal Saline and Oral Prednisolone in Individuals with Leprosy Type 1 Reactions and/or Nerve Function Impairment"
      ]
     },
     "metadata": {},
     "output_type": "display_data"
    },
    {
     "data": {
      "text/plain": [
       "DOI: 10.1371/journal.pmed.1000097\n",
       "Title: Preferred Reporting Items for Systematic Reviews and Meta-Analyses: The PRISMA Statement"
      ]
     },
     "metadata": {},
     "output_type": "display_data"
    },
    {
     "data": {
      "text/plain": [
       "DOI: 10.1371/journal.ppat.0040045\n",
       "Title: Iron Source Preference and Regulation of Iron Uptake in Cryptococcus neoformans"
      ]
     },
     "metadata": {},
     "output_type": "display_data"
    },
    {
     "data": {
      "text/plain": [
       "DOI: 10.1371/journal.pone.0117688\n",
       "Title: Iterative Most-Likely Point Registration (IMLP): A Robust Algorithm for Computing Optimal Shape Alignment"
      ]
     },
     "metadata": {},
     "output_type": "display_data"
    },
    {
     "data": {
      "text/plain": [
       "DOI: 10.1371/journal.pbio.1001044\n",
       "Title: Cancer: The Whole Story"
      ]
     },
     "metadata": {},
     "output_type": "display_data"
    },
    {
     "data": {
      "text/plain": [
       "DOI: 10.1371/journal.pgen.1000052\n",
       "Title: A Genome-Wide Gene Expression Signature of Environmental Geography in Leukocytes of Moroccan Amazighs"
      ]
     },
     "metadata": {},
     "output_type": "display_data"
    },
    {
     "data": {
      "text/plain": [
       "DOI: 10.1371/journal.pone.0005723\n",
       "Title: Complete Primate Skeleton from the Middle Eocene of Messel in Germany: Morphology and Paleobiology"
      ]
     },
     "metadata": {},
     "output_type": "display_data"
    },
    {
     "data": {
      "text/plain": [
       "DOI: 10.1371/journal.pcbi.1004152\n",
       "Title: Predicting Epidemic Risk from Past Temporal Contact Data"
      ]
     },
     "metadata": {},
     "output_type": "display_data"
    },
    {
     "data": {
      "text/plain": [
       "DOI: 10.1371/journal.pcbi.1001083\n",
       "Title: Automatic Design of Digital Synthetic Gene Circuits"
      ]
     },
     "metadata": {},
     "output_type": "display_data"
    },
    {
     "data": {
      "text/plain": [
       "DOI: 10.1371/journal.pcbi.1004453\n",
       "Title: Quantitative Live Imaging of Human Embryonic Stem Cell Derived Neural Rosettes Reveals Structure-Function Dynamics Coupled to Cortical Development"
      ]
     },
     "metadata": {},
     "output_type": "display_data"
    }
   ],
   "source": [
    "for article in corpus:\n",
    "    display(article)"
   ]
  },
  {
   "cell_type": "markdown",
   "metadata": {},
   "source": [
    "# Now you know! \n",
    "\n",
    "Now you know the basics of using the `Corpus` class. \n",
    "\n",
    "- You can point a `Corpus()` instance to a corpus directory on your file system. \n",
    "- You can how many articles are in that `Corpus()`\n",
    "- You can get one or many articles to play around with. \n",
    "\n",
    "Now it's time to check out the Article tutorial. Once it exists, we'll definitely link to it here."
   ]
  }
 ],
 "metadata": {
  "kernelspec": {
   "display_name": "Python 3",
   "language": "python",
   "name": "python3"
  },
  "language_info": {
   "codemirror_mode": {
    "name": "ipython",
    "version": 3
   },
   "file_extension": ".py",
   "mimetype": "text/x-python",
   "name": "python",
   "nbconvert_exporter": "python",
   "pygments_lexer": "ipython3",
   "version": "3.6.4"
  }
 },
 "nbformat": 4,
 "nbformat_minor": 2
}
