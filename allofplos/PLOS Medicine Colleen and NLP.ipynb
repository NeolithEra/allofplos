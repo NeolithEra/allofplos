{
 "cells": [
  {
   "cell_type": "code",
   "execution_count": null,
   "metadata": {},
   "outputs": [],
   "source": [
    "import os\n",
    "import datetime\n",
    "import lxml.etree as et\n",
    "import csv\n",
    "pmcdir = 'pmc_articles'\n",
    "from plos_corpus import (corpusdir, get_article_pubdate, check_if_uncorrected_proof, listdir_nohidden,\n",
    "                         get_article_xml, file_to_doi, doi_to_file, get_all_solr_dois, download_check_and_move)\n",
    "\n",
    "from samples.corpus_analysis import (get_plos_article_type, get_article_dtd, get_random_list_of_dois, \n",
    "                                     get_related_retraction_article, check_article_type, get_plos_journal,\n",
    "                                     get_article_title, parse_article_date, get_corpus_metadata,\n",
    "                                     get_article_abstract, corpus_metadata_to_csv, get_article_dates,\n",
    "                                     read_corpus_metadata_from_csv)\n"
   ]
  },
  {
   "cell_type": "markdown",
   "metadata": {},
   "source": [
    "This notebook is for tracking Colleen Crangle's requests for test corpuses for NLP. First up is all PLOS ONE articles for which \"diabet\" (for diabetes, diabetic, etc) appears in the abstract."
   ]
  },
  {
   "cell_type": "code",
   "execution_count": null,
   "metadata": {},
   "outputs": [],
   "source": [
    "one_list = [article for article in listdir_nohidden(corpusdir) if 'pone' in article]\n",
    "\n",
    "def assemble_diabetes_corpus(article_list):\n",
    "    \"\"\"\n",
    "    Find all PLOS ONE articles that say something about diabetes or technology in the abstract.\n",
    "    \"\"\"\n",
    "    diabetes_article_list = [article for article in article_list if 'diabet' in get_article_abstract(article).lower()]\n",
    "    return diabetes_article_list"
   ]
  },
  {
   "cell_type": "code",
   "execution_count": null,
   "metadata": {},
   "outputs": [],
   "source": [
    "diabetes_article_list = assemble_diabetes_corpus(one_list)"
   ]
  },
  {
   "cell_type": "code",
   "execution_count": null,
   "metadata": {},
   "outputs": [],
   "source": [
    "diabetes_metadata = get_corpus_metadata(article_list=diabetes_article_list)"
   ]
  },
  {
   "cell_type": "code",
   "execution_count": null,
   "metadata": {},
   "outputs": [],
   "source": [
    "corpus_metadata_to_csv(diabetes_metadata)"
   ]
  },
  {
   "cell_type": "code",
   "execution_count": null,
   "metadata": {},
   "outputs": [],
   "source": []
  }
 ],
 "metadata": {
  "kernelspec": {
   "display_name": "py3",
   "language": "python",
   "name": "python3"
  },
  "language_info": {
   "codemirror_mode": {
    "name": "ipython",
    "version": 3
   },
   "file_extension": ".py",
   "mimetype": "text/x-python",
   "name": "python",
   "nbconvert_exporter": "python",
   "pygments_lexer": "ipython3",
   "version": "3.6.3"
  },
  "toc": {
   "nav_menu": {
    "height": "12px",
    "width": "252px"
   },
   "number_sections": true,
   "sideBar": true,
   "skip_h1_title": false,
   "toc_cell": false,
   "toc_position": {},
   "toc_section_display": "block",
   "toc_window_display": false
  }
 },
 "nbformat": 4,
 "nbformat_minor": 2
}
