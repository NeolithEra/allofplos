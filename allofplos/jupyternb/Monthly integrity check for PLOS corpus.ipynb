{
 "cells": [
  {
   "cell_type": "markdown",
   "metadata": {},
   "source": [
    "# What to check:\n",
    "* Maybe as part of existing monthly maintenance?\n",
    "* First test this on a small subset of articles\n",
    "For each file in folder, make sure filename == relevant DOI field in XML\n",
    "    If so, pass_file_name_test is True\n",
    "    else pass_file_name_test is False\n",
    "List of solr query DOIs == list of DOIs in article XML folder == list of DOIs in zip file\n",
    "    if DOIs in solr and not folder, download those from solr & add to folder & zip\n",
    "        and if it's that one messed-up article, only if it's been fixed\n",
    "        if it's been fixed, print note to remove this logic from the code\n",
    "    if DOIs in folder in solr, write those DOIs to error-list & txt file & email with warning\n",
    "        if no error proceed to XML content testing\n",
    "        if error print that content still needs to be checked\n",
    "    \n",
    "Content of content-repo XML == Content of article folder XML == Content of zip file XML\n",
    "    if content in repo doesn't match article folder via https://bitbucket.org/ianb/formencode/src/tip/formencode/doctest_xml_compare.py?fileviewer=file-view-default#cl-70\n",
    "    if uncorrected proof vs vor_update, download vor_update\n",
    "    otherwise save diff and return error (or: preserve old version and make content-repo default and take diff via https://www.logilab.org/859 )"
   ]
  },
  {
   "cell_type": "code",
   "execution_count": null,
   "metadata": {
    "collapsed": true
   },
   "outputs": [],
   "source": [
    "file_list = drive.ListFile({'q': \"'root' in parents and trashed=false\"}).GetList()\n",
    "gdrive_zip_file = [item for item in file_list if item[\"id\"] == gd_id]\n",
    "gdrive_zip_filename = (item for item in gdrive_zip_file['originalFilename'])\n",
    "current_zipname = str(glob(prefix_zip_name+\"*.zip\")[0])\n",
    "if gdrive_filename == current_zipname:  \n",
    "    print(\"Zip file up-to-date on Google drive. No changes made.\")"
   ]
  },
  {
   "cell_type": "code",
   "execution_count": 7,
   "metadata": {
    "collapsed": true
   },
   "outputs": [],
   "source": [
    "import filecmp\n",
    "import os"
   ]
  },
  {
   "cell_type": "code",
   "execution_count": 6,
   "metadata": {},
   "outputs": [
    {
     "data": {
      "text/plain": [
       "True"
      ]
     },
     "execution_count": 6,
     "metadata": {},
     "output_type": "execute_result"
    }
   ],
   "source": [
    "filecmp.cmp('test_file.txt', 'accman_to_check_list.txt', shallow=False)"
   ]
  },
  {
   "cell_type": "code",
   "execution_count": 8,
   "metadata": {},
   "outputs": [
    {
     "data": {
      "text/plain": [
       "os.stat_result(st_mode=33188, st_ino=10556917, st_dev=16777220, st_nlink=1, st_uid=738185890, st_gid=984564325, st_size=903, st_atime=1490388647, st_mtime=1490388644, st_ctime=1490388644)"
      ]
     },
     "execution_count": 8,
     "metadata": {},
     "output_type": "execute_result"
    }
   ],
   "source": []
  },
  {
   "cell_type": "code",
   "execution_count": null,
   "metadata": {
    "collapsed": true
   },
   "outputs": [],
   "source": []
  }
 ],
 "metadata": {
  "kernelspec": {
   "display_name": "py3",
   "language": "python",
   "name": "py3"
  },
  "language_info": {
   "codemirror_mode": {
    "name": "ipython",
    "version": 3
   },
   "file_extension": ".py",
   "mimetype": "text/x-python",
   "name": "python",
   "nbconvert_exporter": "python",
   "pygments_lexer": "ipython3",
   "version": "3.6.1"
  },
  "toc": {
   "colors": {
    "hover_highlight": "#DAA520",
    "navigate_num": "#000000",
    "navigate_text": "#333333",
    "running_highlight": "#FF0000",
    "selected_highlight": "#FFD700",
    "sidebar_border": "#EEEEEE",
    "wrapper_background": "#FFFFFF"
   },
   "moveMenuLeft": true,
   "nav_menu": {
    "height": "30px",
    "width": "252px"
   },
   "navigate_menu": true,
   "number_sections": true,
   "sideBar": true,
   "threshold": 4,
   "toc_cell": false,
   "toc_section_display": "block",
   "toc_window_display": false,
   "widenNotebook": false
  }
 },
 "nbformat": 4,
 "nbformat_minor": 2
}
