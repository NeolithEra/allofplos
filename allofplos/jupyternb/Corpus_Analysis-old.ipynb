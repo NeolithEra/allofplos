{
 "cells": [
  {
   "cell_type": "markdown",
   "metadata": {},
   "source": [
    "# Required functions"
   ]
  },
  {
   "cell_type": "code",
   "execution_count": 1,
   "metadata": {
    "code_folding": [],
    "collapsed": true
   },
   "outputs": [],
   "source": [
    "from Samples.corpus_analysis import *"
   ]
  },
  {
   "cell_type": "markdown",
   "metadata": {
    "heading_collapsed": true
   },
   "source": [
    "# PLOS article types"
   ]
  },
  {
   "cell_type": "markdown",
   "metadata": {
    "hidden": true
   },
   "source": [
    "## JATS-standard NLM article types"
   ]
  },
  {
   "cell_type": "code",
   "execution_count": 2,
   "metadata": {
    "editable": false,
    "hidden": true,
    "run_control": {
     "frozen": true
    },
    "scrolled": true
   },
   "outputs": [
    {
     "name": "stdout",
     "output_type": "stream",
     "text": [
      "15 types of articles found.\n",
      "[('research-article', 204109), ('correction', 9113), ('article-commentary', 1284), ('discussion', 1087), ('review-article', 612), ('other', 584), ('editorial', 340), ('letter', 300), ('retraction', 79), ('book-review', 77), ('meeting-report', 38), ('case-report', 23), ('expression-of-concern', 13), ('obituary', 10), ('brief-report', 1)]\n"
     ]
    }
   ],
   "source": [
    "jats_article_type_list = get_jats_article_type_list()\n",
    "print(jats_article_type_list)"
   ]
  },
  {
   "cell_type": "markdown",
   "metadata": {
    "hidden": true
   },
   "source": [
    "## PLOS article types"
   ]
  },
  {
   "cell_type": "code",
   "execution_count": 2,
   "metadata": {
    "editable": false,
    "hidden": true,
    "run_control": {
     "frozen": true
    },
    "scrolled": true
   },
   "outputs": [
    {
     "name": "stdout",
     "output_type": "stream",
     "text": [
      "60 types of articles found.\n",
      "[('Research Article', 202673), ('Correction', 9124), ('Synopsis', 1093), ('Perspective', 801), ('Review', 555), ('Editorial', 486), ('Pearls', 438), ('Essay', 379), ('Policy Forum', 309), ('Correspondence', 287), ('Primer', 237), ('Viewpoints', 209), ('Community Page', 139), ('Opinion', 136), ('Health in Action', 118), ('Education', 103), ('Retraction', 79), ('Book Review/Science in the Media', 76), ('Message from ISCB', 70), ('Symposium', 70), ('Policy Platform', 54), ('Feature', 53), ('Formal Comment', 52), ('Research in Translation', 51), ('Guidelines and Guidance', 51), ('Collection Review', 50), ('Research Matters', 44), ('Interview', 44), ('The PLoS Medicine Debate', 38), ('Historical Profiles and Perspectives', 38), ('Unsolved Mystery', 34), ('Overview', 34), ('Neglected Diseases', 29), ('Expert Commentary', 29), ('Learning Forum', 27), ('From Innovation to Application', 24), ('Obituary', 22), ('Quiz', 21), ('Correspondence and Other Communications', 13), ('Expression of Concern', 13), ('Journal Club', 12), ('Meta-Research Article', 12), ('Student Forum', 12), ('Open Highlights', 11), ('Topic Page', 11), ('Case Report', 10), ('Photo Quiz', 10), ('Best Practice', 5), ('Deep Reads', 4), ('Historical and Philosophical Perspectives', 3), ('Special Report', 3), ('Book Review', 2), ('Message from the Founders', 1), ('Message from PLoS', 1), ('Short Reports', 1), ('Methods and Resources', 1), ('Technical Report', 1), ('Message from the PLoS Founders', 1), ('Collection Review ', 1), ('Debate', 1)]\n"
     ]
    }
   ],
   "source": [
    "PLOS_article_type_list = get_plos_article_type_list()\n",
    "print(PLOS_article_type_list)"
   ]
  },
  {
   "cell_type": "markdown",
   "metadata": {
    "heading_collapsed": true,
    "hidden": true
   },
   "source": [
    "## PLOS/NLM article type mapping"
   ]
  },
  {
   "cell_type": "code",
   "execution_count": null,
   "metadata": {
    "collapsed": true,
    "hidden": true,
    "scrolled": true
   },
   "outputs": [],
   "source": [
    "article_types_map = get_article_types_map()\n",
    "PLOS_article_types_structured = counter(article_types_map).most_common()\n",
    "print(PLOS_article_types_structured)"
   ]
  },
  {
   "cell_type": "code",
   "execution_count": 85,
   "metadata": {
    "collapsed": true,
    "hidden": true
   },
   "outputs": [],
   "source": [
    "# create .csv file mapping JATS to PLOS article types\n",
    "article_types_map_to_csv(article_types_map)"
   ]
  },
  {
   "cell_type": "markdown",
   "metadata": {
    "heading_collapsed": true
   },
   "source": [
    "# Taking random samples of DOIs"
   ]
  },
  {
   "cell_type": "code",
   "execution_count": null,
   "metadata": {
    "collapsed": true,
    "hidden": true
   },
   "outputs": [],
   "source": [
    "random_sample_of_dois = get_random_list_of_DOIs()  # returns 100 DOIs by default"
   ]
  },
  {
   "cell_type": "code",
   "execution_count": 203,
   "metadata": {
    "hidden": true,
    "scrolled": true
   },
   "outputs": [
    {
     "name": "stdout",
     "output_type": "stream",
     "text": [
      "['journal.pone.0074820', 'journal.pone.0063497', 'journal.pone.0126357', 'journal.pntd.0004807', 'journal.pone.0031896', 'journal.pone.0045503', 'journal.pone.0138217', 'journal.pbio.0050002', 'journal.pone.0122848', 'journal.pone.0099248']\n"
     ]
    }
   ],
   "source": [
    "random_sample_of_articles = [doi_to_article(doi) for doi in random_sample_of_dois]\n",
    "print(random_sample_of_articles[0:10])"
   ]
  },
  {
   "cell_type": "markdown",
   "metadata": {
    "heading_collapsed": true
   },
   "source": [
    "# Retracted and corrected articles"
   ]
  },
  {
   "cell_type": "markdown",
   "metadata": {
    "hidden": true
   },
   "source": [
    "## Get list of retracted articles"
   ]
  },
  {
   "cell_type": "code",
   "execution_count": 2,
   "metadata": {
    "editable": false,
    "hidden": true,
    "run_control": {
     "frozen": true
    }
   },
   "outputs": [
    {
     "name": "stdout",
     "output_type": "stream",
     "text": [
      "79 retracted articles found.\n",
      "['journal.pbio.0030123', 'journal.pbio.0050005', 'journal.pbio.0050146', 'journal.pbio.1001212', 'journal.pcbi.1002308', 'journal.pgen.1003361', 'journal.pgen.1003791', 'journal.pgen.1005586', 'journal.pgen.1000424', 'journal.pmed.1001214', 'journal.pone.0072333', 'journal.pone.0084127', 'journal.pone.0027571', 'journal.pone.0046410', 'journal.pone.0080145', 'journal.pone.0019652', 'journal.pone.0075928', 'journal.pone.0075046', 'journal.pone.0062178', 'journal.pone.0051549', 'journal.pone.0093095', 'journal.pone.0069669', 'journal.pone.0133525', 'journal.pone.0115980', 'journal.pone.0115741', 'journal.pone.0139044', 'journal.pone.0146193', 'journal.pone.0045667', 'journal.pone.0040789', 'journal.pone.0094830', 'journal.pone.0031943', 'journal.pone.0097700', 'journal.pone.0047218', 'journal.pone.0090951', 'journal.pone.0014232', 'journal.pone.0090318', 'journal.pone.0072895', 'journal.pone.0065651', 'journal.pone.0059556', 'journal.pone.0076809', 'journal.pone.0099630', 'journal.pone.0121549', 'journal.pone.0048402', 'journal.pone.0062170', 'journal.pone.0020152', 'journal.pone.0164571', 'journal.pone.0164378', 'journal.pone.0116682', 'journal.pone.0125542', 'journal.pone.0047110', 'journal.pone.0026503', 'journal.pone.0037102', 'journal.pone.0014163', 'journal.pone.0043204', 'journal.pone.0001276', 'journal.pone.0035142', 'journal.pone.0011299', 'journal.pone.0005373', 'journal.pone.0030980', 'journal.pone.0000306', 'journal.pone.0064576', 'journal.pone.0016011', 'journal.pone.0001444', 'journal.pone.0043406', 'journal.pone.0029192', 'journal.pone.0001908', 'journal.pone.0016256', 'journal.pone.0013512', 'journal.pone.0045965', 'journal.pone.0022730', 'journal.pone.0006333', 'journal.pone.0004168', 'journal.pone.0035453', 'journal.pone.0032853', 'journal.ppat.1003435', 'journal.ppat.1002062', 'journal.ppat.1000915', 'journal.ppat.1000210', 'journal.ppat.0020025']\n"
     ]
    }
   ],
   "source": [
    "retractions_article_list, retracted_article_list = get_retracted_article_list()\n",
    "print(retracted_article_list)"
   ]
  },
  {
   "cell_type": "markdown",
   "metadata": {
    "hidden": true
   },
   "source": [
    "## Get list of corrected articles"
   ]
  },
  {
   "cell_type": "code",
   "execution_count": 18,
   "metadata": {
    "editable": false,
    "hidden": true,
    "run_control": {
     "frozen": true
    }
   },
   "outputs": [
    {
     "name": "stdout",
     "output_type": "stream",
     "text": [
      "journal.pcbi.1003582.xml has incorrect linked DOI: journal.10.1371/journal.pcbi.1003490\n",
      "journal.pcbi.1003732.xml has incorrect linked DOI: journal.10.1371/journal.pcbi.1003159\n",
      "journal.pone.0101541.xml has incorrect linked DOI: journal.PONE-D-13-26510\n",
      "journal.pone.0104353.xml has incorrect linked DOI: journal.\n",
      "journal.pone.0104472.xml has incorrect linked DOI: journal.\n",
      "journal.pone.0104581.xml has incorrect linked DOI: journal.\n",
      "journal.pone.0104601.xml has incorrect linked DOI: journal.\n",
      "journal.pone.0105485.xml has incorrect linked DOI: journal.\n",
      "journal.pone.0105486.xml has incorrect linked DOI: journal.\n",
      "journal.pone.0105490.xml has incorrect linked DOI: journal.\n",
      "journal.pone.0105658.xml has incorrect linked DOI: journal.\n",
      "journal.pone.0105668.xml has incorrect linked DOI: journal.\n",
      "journal.pone.0105669.xml has incorrect linked DOI: journal.\n",
      "9127 corrected articles found.\n"
     ]
    }
   ],
   "source": [
    "corrections_article_list, corrected_article_list = get_corrected_article_list()"
   ]
  },
  {
   "cell_type": "markdown",
   "metadata": {
    "collapsed": true
   },
   "source": [
    "# What's going on with revision_dates & article updates?"
   ]
  },
  {
   "cell_type": "markdown",
   "metadata": {},
   "source": [
    "Keep an eye on this URL for any changes. On PMC, was updated in the last few months, but that might not have has time to propagate. https://www.ncbi.nlm.nih.gov/pmc/oai/oai.cgi?verb=GetRecord&identifier=oai:pubmedcentral.nih.gov:3913708&metadataPrefix=pmc"
   ]
  },
  {
   "cell_type": "markdown",
   "metadata": {
    "heading_collapsed": true
   },
   "source": [
    "## Step 1: Query solr for revision_date field"
   ]
  },
  {
   "cell_type": "code",
   "execution_count": 16,
   "metadata": {
    "hidden": true
   },
   "outputs": [
    {
     "name": "stdout",
     "output_type": "stream",
     "text": [
      "URL for solr query: http://api.plos.org/search?q=*:*&fq=doc_type:full+-doi:image&fl=id,publication_date&wt=json&indent=true&sort=%20id%20asc&fq=publication_date:[2017-08-17T00:00:00Z+TO+2017-08-25T23:59:59Z]&rows=1000\n",
      "613 results returned from this search.\n",
      "['2017-08-21T00:00:00Z', '2017-08-18T00:00:00Z', '2017-08-22T00:00:00Z', '2017-08-18T00:00:00Z', '2017-08-24T00:00:00Z', '2017-08-24T00:00:00Z', '2017-08-18T00:00:00Z', '2017-08-23T00:00:00Z', '2017-08-24T00:00:00Z', '2017-08-17T00:00:00Z']\n"
     ]
    }
   ],
   "source": [
    "# This should print 10 date strings \n",
    "publication_dates_list = get_solr_records(days_ago=8, item='publication_date')\n",
    "print(publication_dates_list[0:10])"
   ]
  },
  {
   "cell_type": "code",
   "execution_count": null,
   "metadata": {
    "collapsed": true,
    "hidden": true
   },
   "outputs": [],
   "source": [
    "# This should return an error\n",
    "revision_dates_list = get_solr_records(days_ago=8, item='revision_date')\n",
    "print(revision_dates_list[0:10])"
   ]
  },
  {
   "cell_type": "markdown",
   "metadata": {},
   "source": [
    "## Step 2: Peek inside raw XML for any changes"
   ]
  },
  {
   "cell_type": "code",
   "execution_count": 2,
   "metadata": {},
   "outputs": [
    {
     "name": "stdout",
     "output_type": "stream",
     "text": [
      "downloaded new version of journal.pone.0182022.xml\n",
      "downloaded new version of journal.pone.0175323.xml\n",
      "downloaded new version of journal.pone.0171255.xml\n",
      "downloaded new version of journal.pone.0158499.xml\n",
      "30000 article checked for updates.\n",
      "4 articles have updates.\n",
      "['journal.pone.0182022.xml', 'journal.pone.0175323.xml', 'journal.pone.0171255.xml', 'journal.pone.0158499.xml']\n"
     ]
    }
   ],
   "source": [
    "articles_different_list = revisiondate_sanity_check()\n",
    "print(articles_different_list)"
   ]
  },
  {
   "cell_type": "markdown",
   "metadata": {},
   "source": [
    "# DOI and filename sanity check"
   ]
  },
  {
   "cell_type": "code",
   "execution_count": null,
   "metadata": {
    "collapsed": true
   },
   "outputs": [],
   "source": [
    "# Check if article filenames match their full DOIs & that DOI fields are correct\n",
    "# NOT WORKING AND MUST BE FIXED!\n",
    "messed_up_plos_list = article_doi_sanity_check()\n",
    "messed_up_pmc_list = article_doi_sanity_check(directory=pmcdir, article_list=None, source='PMC')"
   ]
  },
  {
   "cell_type": "markdown",
   "metadata": {},
   "source": [
    "# PubMed Corpus"
   ]
  },
  {
   "cell_type": "markdown",
   "metadata": {},
   "source": [
    "## Get all local, solr, and PMC DOIs"
   ]
  },
  {
   "cell_type": "code",
   "execution_count": 5,
   "metadata": {},
   "outputs": [
    {
     "name": "stdout",
     "output_type": "stream",
     "text": [
      "\u001b[1mArticles that needs to be re-indexed on Solr:\n",
      "\u001b[0m10.1371/journal.pone.0076809\n"
     ]
    }
   ],
   "source": [
    "plos_articles = compare_local_and_solr()\n",
    "doi_to_pmc = get_articles_by_doi_field(check_new=False)\n",
    "pmc_articles = list(doi_to_pmc.keys())"
   ]
  },
  {
   "cell_type": "markdown",
   "metadata": {},
   "source": [
    "## Compare PLOS's copy to PMC"
   ]
  },
  {
   "cell_type": "markdown",
   "metadata": {},
   "source": [
    "For sets of PLOS's corpus from PMC and PLOS, see which article are missing from PLOS's version of the corpus by:\n",
    "* removing Currents articles\n",
    "* checking if articles are live on journals.plos.org\n",
    "* checking that the DOIs resolve"
   ]
  },
  {
   "cell_type": "code",
   "execution_count": 5,
   "metadata": {},
   "outputs": [
    {
     "name": "stdout",
     "output_type": "stream",
     "text": [
      "\u001b[1mPMC DOI fields with spaces in them:\n",
      "\u001b[0m\"10.1371/annotation/1cdc7975-50d7-40a5-99ca-83580df2982f \" \n",
      "\n",
      "\u001b[1mWorking articles that need to be re-indexed on Solr:\n",
      "\u001b[0m10.1371/annotation/1391941e-93d3-48d3-8c9a-b7c6d98f9527\n",
      "10.1371/annotation/a81b1fab-890c-447b-a308-5bc8ca3eb21d\n",
      "10.1371/annotation/df340d50-1f94-4d8b-a252-1a82a7fa5cc7 \n",
      "\n",
      "\u001b[1mArticles on PMC but not on solr or journals:\n",
      "\u001b[0m10.1371/journal.pone.0002957\n",
      "10.1371/annotation/b83e925b-2f2a-47b9-b939-0a1eeab18324\n",
      "10.1371/journal.pbio.0020201\n",
      "10.1371/annotation/011969ee-3f4b-4260-8d95-1b9a4ca39008\n",
      "10.1371/annotation/8f2ddf91-3499-4627-9a91-449b78465f9d\n",
      "10.1371/annotation/33d82b59-59a3-4412-9853-e78e49af76b9 \n",
      "\n",
      "\u001b[1mMissing PLOS articles where DOI resolves to different DOI:\n",
      "\u001b[0m 10.1371/annotation/5e4082fd-6d86-441f-b946-a6e87a22ea57 resolves to: 10.1371/annotation/d9496d01-8c5d-4d24-8287-94449ada5064\n",
      "\u001b[0m 10.1371/annotation/b8b66a84-4919-4a3e-ba3e-bb11f3853755 resolves to: 10.1371/annotation/5fbbf39a-fb47-4ce1-8069-acd830b3d41f\n",
      "\n",
      " \u001b[1mOther articles on PMC that aren't working correctly for PLOS:\n",
      "\u001b[0m10.1371/annotation/363b6074-caec-4238-b88f-acbf45de498f\n",
      "10.1371/annotation/2259f958-a68e-4e57-92b5-2ef003070cf1 \n",
      "\n"
     ]
    }
   ],
   "source": [
    "missing_plos_articles = process_missing_plos_articles(pmc_articles=pmc_articles, plos_articles=plos_articles)"
   ]
  },
  {
   "cell_type": "markdown",
   "metadata": {},
   "source": [
    "## Compare PMC's copy to PLOS"
   ]
  },
  {
   "cell_type": "markdown",
   "metadata": {},
   "source": [
    "For sets of PLOS's corpus from PMC and PLOS, see which article are missing from PMC's version of the Corpus by:\n",
    "* updating the PMCID:DOI mapping document\n",
    "* removing articles too recent to be indexed (pubdate less than 3 weeks ago)\n",
    "* excluding uncorrected proofs\n",
    "* excluding PLOS Medicine quizzes"
   ]
  },
  {
   "cell_type": "code",
   "execution_count": 6,
   "metadata": {
    "scrolled": true
   },
   "outputs": [
    {
     "name": "stdout",
     "output_type": "stream",
     "text": [
      "\u001b[1mArticles missing from PMC:\n",
      "\u001b[0m10.1371/annotation/08286cd8-527f-4f14-856f-57267107efa8\n",
      "10.1371/annotation/0bbea8d3-1f94-48af-915c-aec02da2f5c3\n",
      "10.1371/annotation/0c5390b8-72b0-4b7e-85a3-b8c0fd9f62bf\n",
      "10.1371/annotation/0ccac188-950f-4908-b232-35fb44ba7847\n",
      "10.1371/annotation/0cfd3d5f-c1d0-48f8-ad69-34a95e31a8d2\n",
      "10.1371/annotation/0e045706-ea24-41db-be90-27d1cbcd35b1\n",
      "10.1371/annotation/17310bbb-e5bf-4901-8b6e-529577a280db\n",
      "10.1371/annotation/1c419628-f1b5-45de-9f8a-43f834309ebb\n",
      "10.1371/annotation/1dc00176-e096-4621-9494-2d848dac8262\n",
      "10.1371/annotation/1e464689-3c86-4399-b229-1e00d65593a5\n",
      "10.1371/annotation/1f110857-27d7-4e83-9eb3-4e5f51950a26\n",
      "10.1371/annotation/21379809-1376-4250-b4c2-bf51eac58a98\n",
      "10.1371/annotation/221e5f19-370e-4a52-add8-f882437bc85d\n",
      "10.1371/annotation/230cca90-58e9-4aa1-b6b2-a1d744524fbd\n",
      "10.1371/annotation/23bca9d0-f934-400e-8bb9-f5ff07f9e625\n",
      "10.1371/annotation/270b432d-50ec-41f1-ad4d-ddd9f51f62a5\n",
      "10.1371/annotation/2b218d50-a9d5-45b2-80d0-0e806e530749\n",
      "10.1371/annotation/2c275a1b-2d36-4492-b36a-192bddf14f78\n",
      "10.1371/annotation/2ca25d9c-7347-4b09-bd7a-09d6d37ff322\n",
      "10.1371/annotation/2f278ed8-d5e7-440a-9e49-c8d1df20d1f1\n",
      "10.1371/annotation/31412345-fc86-4d67-b37c-93d42f5f0a59\n",
      "10.1371/annotation/3265139d-64c7-4c4c-83d3-1e139031e7df\n",
      "10.1371/annotation/34304231-e54b-4080-af70-6f957f32d552\n",
      "10.1371/annotation/39b41d98-b117-41cf-b5de-b8486a67b1cd\n",
      "10.1371/annotation/4290dfee-64fd-4157-89e3-8edbba912420\n",
      "10.1371/annotation/44f67041-2f8e-42df-826a-82172ae05a22\n",
      "10.1371/annotation/49257f53-8cb1-431b-be64-7b410598b845\n",
      "10.1371/annotation/4993e0e2-c580-4547-90d8-3227b87e6ae9\n",
      "10.1371/annotation/4a8d9f38-1d0d-4389-a284-9f2564e1ac0b\n",
      "10.1371/annotation/4b9340db-455b-4e0d-86e5-b6783747111f\n",
      "10.1371/annotation/4bb6b73b-b5bb-4143-9ec3-99c90b93f3ad\n",
      "10.1371/annotation/4d6c4127-82e4-408d-af89-5f2e207d523b\n",
      "10.1371/annotation/4f08219c-2d7b-4309-8351-d3fe2378993f\n",
      "10.1371/annotation/5487e265-8175-47cb-b9a4-d85862a4a96f\n",
      "10.1371/annotation/59bcbe81-eddd-46a4-90dc-88c1ea70df72\n",
      "10.1371/annotation/5e0195b6-60b9-4c03-84ae-c6c31e625be1\n",
      "10.1371/annotation/6130c605-086b-46af-8f6f-6c76b8eb9c84\n",
      "10.1371/annotation/638b42e3-a351-4827-a612-17fe29b48e28\n",
      "10.1371/annotation/677fdf34-651e-4dc8-a0be-d0d633237a85\n",
      "10.1371/annotation/712bb339-6073-4e62-9f68-b285caedd913\n",
      "10.1371/annotation/730cdfd0-78c5-48fc-a095-f633905ff2f0\n",
      "10.1371/annotation/7645d066-aa98-45d6-8c3e-3a30d9e03e4d\n",
      "10.1371/annotation/7e304601-fc5c-40fe-857c-d6ea894d1647\n",
      "10.1371/annotation/7f73ed17-709e-4d7f-9aae-aab1f4a34985\n",
      "10.1371/annotation/865eaad7-8547-49ac-a42d-47e9d0755bb3\n",
      "10.1371/annotation/87e2a80b-3ed7-4ef9-96cb-1268d91b6366\n",
      "10.1371/annotation/8941aee3-4bb8-42a0-b09a-e7c416beeef7\n",
      "10.1371/annotation/8c6eaae4-72a7-460a-8b1a-f855731f3706\n",
      "10.1371/annotation/8fa70b21-32e7-4ed3-b397-ab776b5bbf30\n",
      "10.1371/annotation/9239a129-5677-43b0-8fe1-0c1e75e988df\n",
      "10.1371/annotation/93141e7a-61f3-48bd-87bd-216b030d773d\n",
      "10.1371/annotation/936a4359-1bf5-4c33-be7d-1468e75eaa8b\n",
      "10.1371/annotation/93d63399-0e71-4a25-a45c-311910ee6da5\n",
      "10.1371/annotation/9630862b-4676-4b82-9869-8d8fbb2a2e65\n",
      "10.1371/annotation/974531b0-9da4-4575-b3d1-955b0163fde0\n",
      "10.1371/annotation/98908e14-e9fd-458f-9cea-ba4bec139f20\n",
      "10.1371/annotation/b03fbc42-8f70-4873-9cce-854e48249a13\n",
      "10.1371/annotation/b0e62f4f-812f-40b1-aef8-365b229eb2cf\n",
      "10.1371/annotation/b4e623eb-4950-48d9-8d85-8d70426d95a3\n",
      "10.1371/annotation/b60d4ec5-4c6f-43ab-9f63-322e3cd59636\n",
      "10.1371/annotation/bae9fc08-fbfa-45b5-9d1d-0b8254d6efd5\n",
      "10.1371/annotation/bc97a85c-1ecd-4cd8-ab61-0aef01f949a1\n",
      "10.1371/annotation/c066bb84-13ea-4b36-a481-f149df8ce929\n",
      "10.1371/annotation/c313df3a-52bd-4cbe-af14-6676480d1a43\n",
      "10.1371/annotation/c81daa7c-5375-4349-970b-c63d288947eb\n",
      "10.1371/annotation/caf130c3-5026-41cd-9dda-5eac7c0f016f\n",
      "10.1371/annotation/d271d9c1-5588-4b43-85c3-d3de58ab61a4\n",
      "10.1371/annotation/dfa05103-fc65-4f07-b30f-72a6e91613ff\n",
      "10.1371/annotation/ea14adcb-033d-492d-8f8b-e047aa080cd4\n",
      "10.1371/annotation/ebea4bd5-2b96-4842-b110-2f7c156e5060\n",
      "10.1371/annotation/eff6e471-306a-41bd-88e3-13857af094af\n",
      "10.1371/annotation/f016476b-5b84-4c9a-899f-fe8b8bc927b5\n",
      "10.1371/annotation/f216b2b0-ab6b-45d8-b6ba-134a477b79b7\n",
      "10.1371/annotation/f32bc670-c9cf-4bb0-9376-cd8cfd1053c1\n",
      "10.1371/annotation/f8605b0a-d01c-41aa-ac9b-b605d7903a28\n",
      "10.1371/annotation/f9660803-198b-4d0d-8200-719a2eb2a443\n",
      "10.1371/annotation/fcca88ac-d684-46e0-a483-62af67e777bd\n",
      "10.1371/annotation/fd9f9796-b42d-480d-b9f4-0adfbb919148\n",
      "10.1371/annotation/fddd2ff3-c991-4c2f-8b84-a27eb20fba91\n",
      "10.1371/annotation/ff089043-990a-48c2-a90f-15606c11cc98\n",
      "10.1371/journal.pcbi.1005632\n",
      "10.1371/journal.pcbi.1005676\n",
      "10.1371/journal.pcbi.1005677\n",
      "10.1371/journal.pcbi.1005692\n",
      "10.1371/journal.pgen.1006910\n",
      "10.1371/journal.pone.0181246\n",
      "10.1371/journal.pone.0182517\n",
      "10.1371/journal.ppat.1006535\n",
      "10.1371/journal.ppat.1006543 \n",
      "\n"
     ]
    }
   ],
   "source": [
    "missing_pmc_articles = process_missing_pmc_articles(pmc_articles=pmc_articles, plos_articles=plos_articles)"
   ]
  },
  {
   "cell_type": "markdown",
   "metadata": {},
   "source": [
    "## Save lists of missing articles to text files if needed"
   ]
  },
  {
   "cell_type": "code",
   "execution_count": null,
   "metadata": {
    "collapsed": true
   },
   "outputs": [],
   "source": [
    "with open('missing_plos_articles.txt', 'w') as file:\n",
    "    for item in sorted(set(missing_plos_articles)):\n",
    "        file.write(\"%s\\n\" % item)"
   ]
  },
  {
   "cell_type": "code",
   "execution_count": null,
   "metadata": {
    "collapsed": true
   },
   "outputs": [],
   "source": [
    "with open('missing_pmc_articles.txt', 'w') as file:\n",
    "    for item in sorted(set(missing_pmc_articles)):\n",
    "        file.write(\"%s\\n\" % item)"
   ]
  },
  {
   "cell_type": "markdown",
   "metadata": {},
   "source": [
    "# Count of articles by pubdate"
   ]
  },
  {
   "cell_type": "markdown",
   "metadata": {},
   "source": [
    "## How many articles published each day? month? year? For a period of time?"
   ]
  },
  {
   "cell_type": "markdown",
   "metadata": {
    "heading_collapsed": true
   },
   "source": [
    "### Could consider making graphs of this..."
   ]
  },
  {
   "cell_type": "code",
   "execution_count": 38,
   "metadata": {
    "hidden": true
   },
   "outputs": [
    {
     "name": "stdout",
     "output_type": "stream",
     "text": [
      "[('Aug 2013', 2629), ('Dec 2013', 8), ('Jan 2014', 5), ('Jul 2013', 2627), ('Jun 2013', 2542), ('Jun 2014', 1), ('Mar 2014', 3), ('Mar 2015', 2), ('May 2013', 932), ('May 2014', 1), ('Nov 2013', 20), ('Oct 2013', 47), ('Sep 2013', 1183)]\n"
     ]
    }
   ],
   "source": [
    "import collections\n",
    "counter = collections.Counter\n",
    "\n",
    "example_article = 'journal.pone.0012380.xml'\n",
    "pubdate_list = []\n",
    "article_files = listdir_nohidden(corpusdir)\n",
    "pubdate_list = [get_article_pubdate(article_file) for article_file in listdir_nohidden(corpusdir)[90000:100000]]\n",
    "# monthly_pubdate_list = [date.replace(day=1,hour=0,minute=0,second=0,microsecond=0) for date in pubdate_list]\n",
    "monthly_pubdate_list = [date.strftime('%b %Y') for date in pubdate_list]\n",
    "monthly_pubdate_list = sorted(monthly_pubdate_list)\n",
    "pubdate_count = sorted(counter(monthly_pubdate_list).most_common())\n",
    "print(pubdate_count)\n",
    "# month_list = [x.strftime('%b %Y') for x[0] in pubdate_count]\n",
    "# month_list = [x[0].strftime('%b %Y') for x in pubdate_count]"
   ]
  },
  {
   "cell_type": "code",
   "execution_count": 60,
   "metadata": {
    "hidden": true
   },
   "outputs": [
    {
     "name": "stdout",
     "output_type": "stream",
     "text": [
      "['May 2013', 'Jun 2013', 'Jul 2013', 'Aug 2013', 'Sep 2013', 'Oct 2013', 'Dec 2013']\n"
     ]
    }
   ],
   "source": [
    "month_list = [x[0].strftime('%b %Y') for x in pubdate_count]\n",
    "print(month_list)"
   ]
  },
  {
   "cell_type": "markdown",
   "metadata": {},
   "source": [
    "# Count of articles published in each journal"
   ]
  },
  {
   "cell_type": "code",
   "execution_count": null,
   "metadata": {
    "collapsed": true
   },
   "outputs": [],
   "source": [
    "import collections\n",
    "counter = collections.Counter\n",
    "\n",
    "journal_list = []\n",
    "for article_file in listdir_nohidden(corpusdir):\n",
    "    r = get_articleXML_content(corpusdir,\n",
    "                               article_file,\n",
    "                               tag_path_elements=[\"/\",\n",
    "                                                  \"article\",\n",
    "                                                  \"front\",\n",
    "                                                  \"journal-meta\",\n",
    "                                                  \"journal-title-group\",\n",
    "                                                  \"journal-title\"])\n",
    "\n",
    "    journal = r[0].text\n",
    "    journal_list.append(journal)\n",
    "\n",
    "print(len(set(journal_list)), 'PLOS journals found.')\n",
    "journals_structured = counter(journal_list).most_common()\n",
    "print(journals_structured)"
   ]
  }
 ],
 "metadata": {
  "kernelspec": {
   "display_name": "py3",
   "language": "python",
   "name": "python3"
  },
  "language_info": {
   "codemirror_mode": {
    "name": "ipython",
    "version": 3
   },
   "file_extension": ".py",
   "mimetype": "text/x-python",
   "name": "python",
   "nbconvert_exporter": "python",
   "pygments_lexer": "ipython3",
   "version": "3.6.2"
  },
  "toc": {
   "colors": {
    "hover_highlight": "#DAA520",
    "navigate_num": "#000000",
    "navigate_text": "#333333",
    "running_highlight": "#FF0000",
    "selected_highlight": "#FFD700",
    "sidebar_border": "#EEEEEE",
    "wrapper_background": "#FFFFFF"
   },
   "moveMenuLeft": true,
   "nav_menu": {
    "height": "174px",
    "width": "252px"
   },
   "navigate_menu": true,
   "number_sections": true,
   "sideBar": true,
   "threshold": 4,
   "toc_cell": false,
   "toc_section_display": "block",
   "toc_window_display": false,
   "widenNotebook": false
  }
 },
 "nbformat": 4,
 "nbformat_minor": 2
}
