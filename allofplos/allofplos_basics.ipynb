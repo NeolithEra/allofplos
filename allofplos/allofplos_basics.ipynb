{
 "cells": [
  {
   "cell_type": "markdown",
   "metadata": {},
   "source": [
    "# Examples of basic allofplos functions"
   ]
  },
  {
   "cell_type": "code",
   "execution_count": null,
   "metadata": {
    "code_folding": []
   },
   "outputs": [],
   "source": [
    "import datetime\n",
    "from plos_corpus import (get_uncorrected_proofs_list, check_if_uncorrected_proof, download_updated_xml)\n",
    "from plos_regex import (validate_doi, show_invalid_dois, find_valid_dois)\n",
    "from samples.corpus_analysis import (get_random_list_of_dois, check_if_doi_resolves,\n",
    "                                     get_all_local_dois, get_all_solr_dois, get_all_plos_dois)\n",
    "from article_class import Article"
   ]
  },
  {
   "cell_type": "markdown",
   "metadata": {},
   "source": [
    "## Get example DOIs: get_random_list_of_dois()"
   ]
  },
  {
   "cell_type": "code",
   "execution_count": null,
   "metadata": {},
   "outputs": [],
   "source": [
    "example_dois = get_random_list_of_dois(count=10)\n",
    "example_doi = example_dois[0]\n",
    "article = Article(example_doi)\n",
    "example_file = article.filename\n",
    "example_url = article.url\n",
    "print(\"Three ways to represent an article\\nArticle as DOI: {}\\nArticle as local file: {}\\nArticle as url: {}\" \\\n",
    "       .format(example_doi, example_file, example_url))"
   ]
  },
  {
   "cell_type": "code",
   "execution_count": null,
   "metadata": {
    "collapsed": true
   },
   "outputs": [],
   "source": [
    "example_corrections_dois = ['10.1371/journal.pone.0166537',\n",
    "                            '10.1371/journal.ppat.1005301',\n",
    "                            '10.1371/journal.pone.0100397']"
   ]
  },
  {
   "cell_type": "code",
   "execution_count": null,
   "metadata": {
    "code_folding": [],
    "collapsed": true
   },
   "outputs": [],
   "source": [
    "example_retractions_dois = ['10.1371/journal.pone.0180272',\n",
    "                            '10.1371/journal.pone.0155388',\n",
    "                            '10.1371/journal.pone.0102411']"
   ]
  },
  {
   "cell_type": "code",
   "execution_count": null,
   "metadata": {},
   "outputs": [],
   "source": [
    "example_uncorrected_proofs = get_uncorrected_proofs_list()\n",
    "example_vor_doi = '10.1371/journal.ppat.1006307'"
   ]
  },
  {
   "cell_type": "markdown",
   "metadata": {},
   "source": [
    "## Validate PLOS DOI format: validate.doi(string), show_invalid_dois(list)"
   ]
  },
  {
   "cell_type": "code",
   "execution_count": null,
   "metadata": {
    "scrolled": true
   },
   "outputs": [],
   "source": [
    "validate_doi('10.1371/journal.pbio.2000797')"
   ]
  },
  {
   "cell_type": "code",
   "execution_count": null,
   "metadata": {},
   "outputs": [],
   "source": [
    "validate_doi('10.1371/journal.pone.12345678')  # too many trailing digits"
   ]
  },
  {
   "cell_type": "code",
   "execution_count": null,
   "metadata": {},
   "outputs": [],
   "source": [
    "doi_list = ['10.1371/journal.pbio.2000797', '10.1371/journal.pone.12345678', '10.1371/journal.pmed.1234567']\n",
    "show_invalid_dois(doi_list)"
   ]
  },
  {
   "cell_type": "markdown",
   "metadata": {},
   "source": [
    "## Check if a DOI resolves correctly: article.check_if_doi_resolves()"
   ]
  },
  {
   "cell_type": "code",
   "execution_count": null,
   "metadata": {},
   "outputs": [],
   "source": [
    "article = Article('10.1371/journal.pbio.2000797')\n",
    "article.check_if_doi_resolves()"
   ]
  },
  {
   "cell_type": "code",
   "execution_count": null,
   "metadata": {},
   "outputs": [],
   "source": [
    "article = Article('10.1371/annotation/b8b66a84-4919-4a3e-ba3e-bb11f3853755')\n",
    "article.check_if_doi_resolves()"
   ]
  },
  {
   "cell_type": "code",
   "execution_count": null,
   "metadata": {},
   "outputs": [],
   "source": [
    "article = Article('10.1371/journal.pone.1111111')\n",
    "article.check_if_doi_resolves()"
   ]
  },
  {
   "cell_type": "markdown",
   "metadata": {},
   "source": [
    "## Check if uncorrected proof: article.proof"
   ]
  },
  {
   "cell_type": "code",
   "execution_count": null,
   "metadata": {},
   "outputs": [],
   "source": [
    "article = Article(example_uncorrected_proofs[0])\n",
    "article.proof"
   ]
  },
  {
   "cell_type": "code",
   "execution_count": null,
   "metadata": {},
   "outputs": [],
   "source": [
    "article = Article(example_vor_doi)\n",
    "article.proof"
   ]
  },
  {
   "cell_type": "markdown",
   "metadata": {},
   "source": [
    "## Find PLOS DOIs in a string: find_valid_dois(string)"
   ]
  },
  {
   "cell_type": "code",
   "execution_count": null,
   "metadata": {},
   "outputs": [],
   "source": [
    "find_valid_dois(\"ever seen 10.1371/journal.pbio.2000797, it's great! or maybe 10.1371/journal.pone.1234567?\")"
   ]
  },
  {
   "cell_type": "markdown",
   "metadata": {},
   "source": [
    "## Get article pubdate: article.pubdate"
   ]
  },
  {
   "cell_type": "code",
   "execution_count": null,
   "metadata": {},
   "outputs": [],
   "source": [
    "# returns a datetime object\n",
    "article = Article(example_doi)\n",
    "article.pubdate"
   ]
  },
  {
   "cell_type": "code",
   "execution_count": null,
   "metadata": {
    "scrolled": true
   },
   "outputs": [],
   "source": [
    "# datetime object can be transformed into any string format\n",
    "article = Article(example_doi)\n",
    "dates = article.get_dates(string_=True, string_format='%Y-%b-%d')\n",
    "print(dates['epub'])"
   ]
  },
  {
   "cell_type": "markdown",
   "metadata": {},
   "source": [
    "## Check (JATS) article type of article file: check_article_type(doi)"
   ]
  },
  {
   "cell_type": "code",
   "execution_count": null,
   "metadata": {},
   "outputs": [],
   "source": [
    "article = Article(example_doi)\n",
    "article.type_"
   ]
  },
  {
   "cell_type": "code",
   "execution_count": null,
   "metadata": {},
   "outputs": [],
   "source": [
    "article = Article(example_corrections_dois[0])\n",
    "article.type_"
   ]
  },
  {
   "cell_type": "code",
   "execution_count": null,
   "metadata": {},
   "outputs": [],
   "source": [
    "article = Article(example_retractions_dois[0])\n",
    "article.type_"
   ]
  },
  {
   "cell_type": "markdown",
   "metadata": {},
   "source": [
    "## Get related DOI: get_related_article_doi(doi)"
   ]
  },
  {
   "cell_type": "code",
   "execution_count": null,
   "metadata": {},
   "outputs": [],
   "source": [
    "article = Article(example_corrections_dois[0])\n",
    "article.related_doi"
   ]
  },
  {
   "cell_type": "code",
   "execution_count": null,
   "metadata": {},
   "outputs": [],
   "source": [
    "article = Article(example_retractions_dois[0])\n",
    "article.related_doi"
   ]
  },
  {
   "cell_type": "markdown",
   "metadata": {},
   "source": [
    "# Working with many articles at once"
   ]
  },
  {
   "cell_type": "markdown",
   "metadata": {},
   "source": [
    "## Get list of every article DOI indexed on the PLOS search API, Solr: get_all_solr_dois()"
   ]
  },
  {
   "cell_type": "code",
   "execution_count": null,
   "metadata": {},
   "outputs": [],
   "source": [
    "solr_dois = get_all_solr_dois()\n",
    "print(len(solr_dois), \"articles indexed on Solr.\")"
   ]
  },
  {
   "cell_type": "markdown",
   "metadata": {},
   "source": [
    "## Get list of every PLOS article you have downloaded: listdir_nohidden(corpusdir)"
   ]
  },
  {
   "cell_type": "code",
   "execution_count": null,
   "metadata": {},
   "outputs": [],
   "source": [
    "all_articles = get_all_local_dois()\n",
    "print(len(all_articles), \"articles on local computer.\")"
   ]
  },
  {
   "cell_type": "markdown",
   "metadata": {},
   "source": [
    "## Combine local and solr articles: get_all_plos_dois()"
   ]
  },
  {
   "cell_type": "code",
   "execution_count": null,
   "metadata": {},
   "outputs": [],
   "source": [
    "plos_articles = get_all_plos_dois()"
   ]
  },
  {
   "cell_type": "code",
   "execution_count": null,
   "metadata": {},
   "outputs": [],
   "source": [
    "download_updated_xml('allofplos_xml/journal.pcbi.0030158.xml')"
   ]
  }
 ],
 "metadata": {
  "kernelspec": {
   "display_name": "Python 3",
   "language": "python",
   "name": "python3"
  },
  "language_info": {
   "codemirror_mode": {
    "name": "ipython",
    "version": 3
   },
   "file_extension": ".py",
   "mimetype": "text/x-python",
   "name": "python",
   "nbconvert_exporter": "python",
   "pygments_lexer": "ipython3",
   "version": "3.6.2"
  },
  "toc": {
   "colors": {
    "hover_highlight": "#DAA520",
    "navigate_num": "#000000",
    "navigate_text": "#333333",
    "running_highlight": "#FF0000",
    "selected_highlight": "#FFD700",
    "sidebar_border": "#EEEEEE",
    "wrapper_background": "#FFFFFF"
   },
   "moveMenuLeft": true,
   "nav_menu": {},
   "navigate_menu": true,
   "number_sections": true,
   "sideBar": true,
   "skip_h1_title": false,
   "threshold": 4,
   "toc_cell": false,
   "toc_position": {},
   "toc_section_display": "block",
   "toc_window_display": false,
   "widenNotebook": false
  }
 },
 "nbformat": 4,
 "nbformat_minor": 2
}
