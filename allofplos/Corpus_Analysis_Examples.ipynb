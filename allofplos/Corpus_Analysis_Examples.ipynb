{
 "cells": [
  {
   "cell_type": "markdown",
   "metadata": {},
   "source": [
    "# Required functions"
   ]
  },
  {
   "cell_type": "code",
   "execution_count": 2,
   "metadata": {
    "code_folding": [],
    "collapsed": true
   },
   "outputs": [],
   "source": [
    "from samples.corpus_analysis import *"
   ]
  },
  {
   "cell_type": "markdown",
   "metadata": {},
   "source": [
    "# PLOS article types"
   ]
  },
  {
   "cell_type": "markdown",
   "metadata": {},
   "source": [
    "## JATS-standard NLM article types"
   ]
  },
  {
   "cell_type": "code",
   "execution_count": 2,
   "metadata": {
    "editable": false,
    "run_control": {
     "frozen": true
    },
    "scrolled": true
   },
   "outputs": [
    {
     "name": "stdout",
     "output_type": "stream",
     "text": [
      "15 types of articles found.\n",
      "[('research-article', 204109), ('correction', 9113), ('article-commentary', 1284), ('discussion', 1087), ('review-article', 612), ('other', 584), ('editorial', 340), ('letter', 300), ('retraction', 79), ('book-review', 77), ('meeting-report', 38), ('case-report', 23), ('expression-of-concern', 13), ('obituary', 10), ('brief-report', 1)]\n"
     ]
    }
   ],
   "source": [
    "jats_article_type_list = get_jats_article_type_list()\n",
    "print(jats_article_type_list)"
   ]
  },
  {
   "cell_type": "markdown",
   "metadata": {},
   "source": [
    "## PLOS article types"
   ]
  },
  {
   "cell_type": "code",
   "execution_count": 2,
   "metadata": {
    "editable": false,
    "run_control": {
     "frozen": true
    },
    "scrolled": true
   },
   "outputs": [
    {
     "name": "stdout",
     "output_type": "stream",
     "text": [
      "60 types of articles found.\n",
      "[('Research Article', 202673), ('Correction', 9124), ('Synopsis', 1093), ('Perspective', 801), ('Review', 555), ('Editorial', 486), ('Pearls', 438), ('Essay', 379), ('Policy Forum', 309), ('Correspondence', 287), ('Primer', 237), ('Viewpoints', 209), ('Community Page', 139), ('Opinion', 136), ('Health in Action', 118), ('Education', 103), ('Retraction', 79), ('Book Review/Science in the Media', 76), ('Message from ISCB', 70), ('Symposium', 70), ('Policy Platform', 54), ('Feature', 53), ('Formal Comment', 52), ('Research in Translation', 51), ('Guidelines and Guidance', 51), ('Collection Review', 50), ('Research Matters', 44), ('Interview', 44), ('The PLoS Medicine Debate', 38), ('Historical Profiles and Perspectives', 38), ('Unsolved Mystery', 34), ('Overview', 34), ('Neglected Diseases', 29), ('Expert Commentary', 29), ('Learning Forum', 27), ('From Innovation to Application', 24), ('Obituary', 22), ('Quiz', 21), ('Correspondence and Other Communications', 13), ('Expression of Concern', 13), ('Journal Club', 12), ('Meta-Research Article', 12), ('Student Forum', 12), ('Open Highlights', 11), ('Topic Page', 11), ('Case Report', 10), ('Photo Quiz', 10), ('Best Practice', 5), ('Deep Reads', 4), ('Historical and Philosophical Perspectives', 3), ('Special Report', 3), ('Book Review', 2), ('Message from the Founders', 1), ('Message from PLoS', 1), ('Short Reports', 1), ('Methods and Resources', 1), ('Technical Report', 1), ('Message from the PLoS Founders', 1), ('Collection Review ', 1), ('Debate', 1)]\n"
     ]
    }
   ],
   "source": [
    "PLOS_article_type_list = get_plos_article_type_list()\n",
    "print(PLOS_article_type_list)"
   ]
  },
  {
   "cell_type": "markdown",
   "metadata": {},
   "source": [
    "# Taking random samples of DOIs"
   ]
  },
  {
   "cell_type": "code",
   "execution_count": null,
   "metadata": {
    "collapsed": true
   },
   "outputs": [],
   "source": [
    "random_sample_of_dois = get_random_list_of_DOIs()  # returns 100 DOIs by default"
   ]
  },
  {
   "cell_type": "code",
   "execution_count": 203,
   "metadata": {
    "scrolled": true
   },
   "outputs": [
    {
     "name": "stdout",
     "output_type": "stream",
     "text": [
      "['journal.pone.0074820', 'journal.pone.0063497', 'journal.pone.0126357', 'journal.pntd.0004807', 'journal.pone.0031896', 'journal.pone.0045503', 'journal.pone.0138217', 'journal.pbio.0050002', 'journal.pone.0122848', 'journal.pone.0099248']\n"
     ]
    }
   ],
   "source": [
    "random_sample_of_articles = [doi_to_article(doi) for doi in random_sample_of_dois]\n",
    "print(random_sample_of_articles[0:10])"
   ]
  },
  {
   "cell_type": "markdown",
   "metadata": {},
   "source": [
    "# Retracted and corrected articles"
   ]
  },
  {
   "cell_type": "markdown",
   "metadata": {},
   "source": [
    "## Get list of retracted articles"
   ]
  },
  {
   "cell_type": "code",
   "execution_count": 2,
   "metadata": {
    "editable": false,
    "run_control": {
     "frozen": true
    }
   },
   "outputs": [
    {
     "name": "stdout",
     "output_type": "stream",
     "text": [
      "79 retracted articles found.\n",
      "['journal.pbio.0030123', 'journal.pbio.0050005', 'journal.pbio.0050146', 'journal.pbio.1001212', 'journal.pcbi.1002308', 'journal.pgen.1003361', 'journal.pgen.1003791', 'journal.pgen.1005586', 'journal.pgen.1000424', 'journal.pmed.1001214', 'journal.pone.0072333', 'journal.pone.0084127', 'journal.pone.0027571', 'journal.pone.0046410', 'journal.pone.0080145', 'journal.pone.0019652', 'journal.pone.0075928', 'journal.pone.0075046', 'journal.pone.0062178', 'journal.pone.0051549', 'journal.pone.0093095', 'journal.pone.0069669', 'journal.pone.0133525', 'journal.pone.0115980', 'journal.pone.0115741', 'journal.pone.0139044', 'journal.pone.0146193', 'journal.pone.0045667', 'journal.pone.0040789', 'journal.pone.0094830', 'journal.pone.0031943', 'journal.pone.0097700', 'journal.pone.0047218', 'journal.pone.0090951', 'journal.pone.0014232', 'journal.pone.0090318', 'journal.pone.0072895', 'journal.pone.0065651', 'journal.pone.0059556', 'journal.pone.0076809', 'journal.pone.0099630', 'journal.pone.0121549', 'journal.pone.0048402', 'journal.pone.0062170', 'journal.pone.0020152', 'journal.pone.0164571', 'journal.pone.0164378', 'journal.pone.0116682', 'journal.pone.0125542', 'journal.pone.0047110', 'journal.pone.0026503', 'journal.pone.0037102', 'journal.pone.0014163', 'journal.pone.0043204', 'journal.pone.0001276', 'journal.pone.0035142', 'journal.pone.0011299', 'journal.pone.0005373', 'journal.pone.0030980', 'journal.pone.0000306', 'journal.pone.0064576', 'journal.pone.0016011', 'journal.pone.0001444', 'journal.pone.0043406', 'journal.pone.0029192', 'journal.pone.0001908', 'journal.pone.0016256', 'journal.pone.0013512', 'journal.pone.0045965', 'journal.pone.0022730', 'journal.pone.0006333', 'journal.pone.0004168', 'journal.pone.0035453', 'journal.pone.0032853', 'journal.ppat.1003435', 'journal.ppat.1002062', 'journal.ppat.1000915', 'journal.ppat.1000210', 'journal.ppat.0020025']\n"
     ]
    }
   ],
   "source": [
    "retractions_article_list, retracted_article_list = get_retracted_article_list()\n",
    "print(retracted_article_list)"
   ]
  },
  {
   "cell_type": "markdown",
   "metadata": {},
   "source": [
    "## Get list of corrected articles"
   ]
  },
  {
   "cell_type": "code",
   "execution_count": 18,
   "metadata": {
    "editable": false,
    "run_control": {
     "frozen": true
    }
   },
   "outputs": [
    {
     "name": "stdout",
     "output_type": "stream",
     "text": [
      "journal.pcbi.1003582.xml has incorrect linked DOI: journal.10.1371/journal.pcbi.1003490\n",
      "journal.pcbi.1003732.xml has incorrect linked DOI: journal.10.1371/journal.pcbi.1003159\n",
      "journal.pone.0101541.xml has incorrect linked DOI: journal.PONE-D-13-26510\n",
      "journal.pone.0104353.xml has incorrect linked DOI: journal.\n",
      "journal.pone.0104472.xml has incorrect linked DOI: journal.\n",
      "journal.pone.0104581.xml has incorrect linked DOI: journal.\n",
      "journal.pone.0104601.xml has incorrect linked DOI: journal.\n",
      "journal.pone.0105485.xml has incorrect linked DOI: journal.\n",
      "journal.pone.0105486.xml has incorrect linked DOI: journal.\n",
      "journal.pone.0105490.xml has incorrect linked DOI: journal.\n",
      "journal.pone.0105658.xml has incorrect linked DOI: journal.\n",
      "journal.pone.0105668.xml has incorrect linked DOI: journal.\n",
      "journal.pone.0105669.xml has incorrect linked DOI: journal.\n",
      "9127 corrected articles found.\n"
     ]
    }
   ],
   "source": [
    "corrections_article_list, corrected_article_list = get_corrected_article_list()"
   ]
  }
 ],
 "metadata": {
  "kernelspec": {
   "display_name": "Python 3",
   "language": "python",
   "name": "python3"
  },
  "language_info": {
   "codemirror_mode": {
    "name": "ipython",
    "version": 3
   },
   "file_extension": ".py",
   "mimetype": "text/x-python",
   "name": "python",
   "nbconvert_exporter": "python",
   "pygments_lexer": "ipython3",
   "version": "3.6.2"
  },
  "toc": {
   "colors": {
    "hover_highlight": "#DAA520",
    "navigate_num": "#000000",
    "navigate_text": "#333333",
    "running_highlight": "#FF0000",
    "selected_highlight": "#FFD700",
    "sidebar_border": "#EEEEEE",
    "wrapper_background": "#FFFFFF"
   },
   "moveMenuLeft": true,
   "nav_menu": {
    "height": "174px",
    "width": "252px"
   },
   "navigate_menu": true,
   "number_sections": true,
   "sideBar": true,
   "threshold": 4,
   "toc_cell": false,
   "toc_section_display": "block",
   "toc_window_display": false,
   "widenNotebook": false
  }
 },
 "nbformat": 4,
 "nbformat_minor": 2
}
