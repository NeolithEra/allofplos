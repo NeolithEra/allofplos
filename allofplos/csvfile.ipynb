{
 "cells": [
  {
   "cell_type": "code",
   "execution_count": 1,
   "metadata": {
    "collapsed": true
   },
   "outputs": [],
   "source": [
    "import os\n",
    "import datetime\n",
    "import lxml.etree as et\n",
    "import csv\n",
    "pmcdir = 'pmc_articles'\n",
    "from plos_corpus import (corpusdir, get_article_pubdate, check_if_uncorrected_proof, listdir_nohidden,\n",
    "                         get_article_xml, file_to_doi, doi_to_file)\n",
    "\n",
    "from samples.corpus_analysis import (get_plos_article_type, get_article_dtd, get_random_list_of_dois, \n",
    "                                     get_related_retraction_article, check_article_type, get_plos_journal,\n",
    "                                     get_article_title, parse_article_date, get_corpus_metadata,\n",
    "                                     get_article_abstract, corpus_metadata_to_csv)\n"
   ]
  },
  {
   "cell_type": "code",
   "execution_count": 15,
   "metadata": {
    "collapsed": true
   },
   "outputs": [],
   "source": [
    "article_files = [doi_to_file(doi) for doi in get_random_list_of_dois(count=1000)]\n"
   ]
  },
  {
   "cell_type": "code",
   "execution_count": 17,
   "metadata": {},
   "outputs": [
    {
     "name": "stderr",
     "output_type": "stream",
     "text": [
      "100% (1000 of 1000) |#####################| Elapsed Time: 0:00:26 Time: 0:00:26\n"
     ]
    }
   ],
   "source": [
    "corpus_metadata = get_corpus_metadata(article_files)"
   ]
  },
  {
   "cell_type": "code",
   "execution_count": 16,
   "metadata": {},
   "outputs": [
    {
     "name": "stdout",
     "output_type": "stream",
     "text": [
      "\n",
      "Tumorigenesis requires the re-organization of metabolism to support malignant proliferation. We examine how the altered metabolism of cancer cells is reflected in the rewiring of co-expression patterns among metabolic genes. Focusing on breast and clear-cell kidney tumors, we report the existence of key metabolic genes which act as hubs of differential co-expression, showing significantly different co-regulation patterns between normal and tumor states. We compare our findings to those from classical differential expression analysis, and counterintuitively observe that the extent of a gene's differential co-expression only weakly correlates with its differential expression, suggesting that the two measures probe different features of metabolism. Focusing on this discrepancy, we use changes in co-expression patterns to highlight the apparent loss of regulation by the transcription factor HNF4A in clear cell renal cell carcinoma, despite no differential expression of HNF4A. Finally, we aggregate the results of differential co-expression analysis into a Pan-Cancer analysis across seven distinct cancer types to identify pairs of metabolic genes which may be recurrently dysregulated. Among our results is a cluster of four genes, all components of the mitochondrial electron transport chain, which show significant loss of co-expression in tumor tissue, pointing to potential mitochondrial dysfunction in these tumor types.\n",
      "\n",
      "\n",
      "\n",
      "\n",
      "Objective\n",
      "Benzodiazepines and “Z-drug” GABA-receptor modulators (BDZ) are among the most frequently used drugs in hospitals. Adverse drug events (ADE) associated with BDZ can be the result of preventable medication errors (ME) related to dosing, drug interactions and comorbidities. The present study evaluated inpatient use of BDZ and related ME and ADE.\n",
      "\n",
      "\n",
      "Methods\n",
      "We conducted an observational study within a pharmacoepidemiological database derived from the clinical information system of a tertiary care hospital. We developed algorithms that identified dosing errors and interacting comedication for all administered BDZ. Associated ADE and risk factors were validated in medical records.\n",
      "\n",
      "\n",
      "Results\n",
      "Among 53,081 patients contributing 495,813 patient-days BDZ were administered to 25,626 patients (48.3%) on 115,150 patient-days (23.2%). We identified 3,372 patient-days (2.9%) with comedication that inhibits BDZ metabolism, and 1,197 (1.0%) with lorazepam administration in severe renal impairment. After validation we classified 134, 56, 12, and 3 cases involving lorazepam, zolpidem, midazolam and triazolam, respectively, as clinically relevant ME. Among those there were 23 cases with associated adverse drug events, including severe CNS-depression, falls with subsequent injuries and severe dyspnea. Causality for BDZ was formally assessed as ‘possible’ or ‘probable’ in 20 of those cases. Four cases with ME and associated severe ADE required administration of the BDZ antagonist flumazenil.\n",
      "\n",
      "\n",
      "Conclusions\n",
      "BDZ use was remarkably high in the studied setting, frequently involved potential ME related to dosing, co-medication and comorbidities, and rarely cases with associated ADE. We propose the implementation of automated ME screening and validation for the prevention of BDZ-related ADE.\n",
      "\n",
      "\n",
      "\n",
      "\n",
      "Angiogenesis of the microvasculature is central to the etiology of many diseases including proliferative retinopathy, age-related macular degeneration and cancer. A mouse model of microvascular angiogenesis would be very valuable and enable access to a wide range of genetically manipulated tissues that closely approximate small blood vessel growth in vivo. Vascular endothelial cells cultured in vitro are widely used, however, isolating pure vascular murine endothelial cells is technically challenging. A microvascular mouse explant model that is robust, quantitative and can be reproduced without difficulty would overcome these limitations. Here we characterized and optimized for reproducibility an organotypic microvascular angiogenesis mouse and rat model from the choroid, a microvascular bed in the posterior of eye. The choroidal tissues from C57BL/6J and 129S6/SvEvTac mice and Sprague Dawley rats were isolated and incubated in Matrigel. Vascular sprouting was comparable between choroid samples obtained from different animals of the same genetic background. The sprouting area, normalized to controls, was highly reproducible between independent experiments. We developed a semi-automated macro in ImageJ software to allow for more efficient quantification of sprouting area. Isolated choroid explants responded to manipulation of the external environment while maintaining the local interactions of endothelial cells with neighboring cells, including pericytes and macrophages as evidenced by immunohistochemistry and fluorescence-activated cell sorting (FACS) analysis. This reproducible ex vivo angiogenesis assay can be used to evaluate angiogenic potential of pharmacologic compounds on microvessels and can take advantage of genetically manipulated mouse tissue for microvascular disease research.\n",
      "\n",
      "\n",
      "\n",
      "Background\n",
      "This paper presents data on alternations in the argument structure of common domain-specific verbs and their associated verbal nominalizations in the PennBioIE corpus. Alternation is the term in theoretical linguistics for variations in the surface syntactic form of verbs, e.g. the different forms of stimulate in FSH stimulates follicular development and follicular development is stimulated by FSH. The data is used to assess the implications of alternations for biomedical text mining systems and to test the fit of the sublanguage model to biomedical texts.\n",
      "\n",
      "Methodology/Principal Findings\n",
      "We examined 1,872 tokens of the ten most common domain-specific verbs or their zero-related nouns in the PennBioIE corpus and labelled them for the presence or absence of three alternations. We then annotated the arguments of 746 tokens of the nominalizations related to these verbs and counted alternations related to the presence or absence of arguments and to the syntactic position of non-absent arguments. We found that alternations are quite common both for verbs and for nominalizations. We also found a previously undescribed alternation involving an adjectival present participle.\n",
      "\n",
      "Conclusions/Significance\n",
      "We found that even in this semantically restricted domain, alternations are quite common, and alternations involving nominalizations are exceptionally diverse. Nonetheless, the sublanguage model applies to biomedical language. We also report on a previously undescribed alternation involving an adjectival present participle.\n",
      "\n",
      "\n",
      "Alternative splicing (AS) is an intrinsic regulatory mechanism of all metazoans. Recent findings suggest that 100% of multiexonic human genes give rise to splice isoforms. AS can be specific to tissue type, environment or developmentally regulated. Splice variants have also been implicated in various diseases including cancer. Detection of these variants will enhance our understanding of the complexity of the human genome and provide disease-specific and prognostic biomarkers. We adopted a proteomics approach to identify exon skip events - the most common form of AS. We constructed a database harboring the peptide sequences derived from all hypothetical exon skip junctions in the human genome. Searching tandem mass spectrometry (MS/MS) data against the database allows the detection of exon skip events, directly at the protein level. Here we describe the application of this approach to human platelets, including the mRNA-based verification of novel splice isoforms of ITGA2, NPEPPS and FH. This methodology is applicable to all new or existing MS/MS datasets.\n",
      "\n",
      "\n",
      "Small open reading frames (sORFs) and genes for non-coding RNAs are poorly investigated components of most genomes. Our analysis of 1391 ORFs recently annotated in the soybean symbiont Bradyrhizobium japonicum USDA 110 revealed that 78% of them contain less than 80 codons. Twenty-one of these sORFs are conserved in or outside Alphaproteobacteria and most of them are similar to genes found in transposable elements, in line with their broad distribution. Stabilizing selection was demonstrated for sORFs with proteomic evidence and bll1319_ISGA which is conserved at the nucleotide level in 16 alphaproteobacterial species, 79 species from other taxa and 49 other Proteobacteria. Further we used Northern blot hybridization to validate ten small RNAs (BjsR1 to BjsR10) belonging to new RNA families. We found that BjsR1 and BjsR3 have homologs outside the genus Bradyrhizobium, and BjsR5, BjsR6, BjsR7, and BjsR10 have up to four imperfect copies in Bradyrhizobium genomes. BjsR8, BjsR9, and BjsR10 are present exclusively in nodules, while the other sRNAs are also expressed in liquid cultures. We also found that the level of BjsR4 decreases after exposure to tellurite and iron, and this down-regulation contributes to survival under high iron conditions. Analysis of additional small RNAs overlapping with 3’-UTRs revealed two new repetitive elements named Br-REP1 and Br-REP2. These REP elements may play roles in the genomic plasticity and gene regulation and could be useful for strain identification by PCR-fingerprinting. Furthermore, we studied two potential toxin genes in the symbiotic island and confirmed toxicity of the yhaV homolog bll1687 but not of the newly annotated higB homolog blr0229_ISGA in E. coli. Finally, we revealed transcription interference resulting in an antisense RNA complementary to blr1853, a gene induced in symbiosis. The presented results expand our knowledge on sORFs, non-coding RNAs and repetitive elements in B. japonicum and related bacteria.\n",
      "\n",
      "\n",
      "\n",
      "The interferon-inducible cellular protein tetherin (CD317/BST-2) inhibits the release of a broad range of enveloped viruses. The HIV-1 accessory protein Vpu enhances virus particle release by counteracting this host restriction factor. While the antagonism of human tetherin by Vpu has been associated with both proteasomal and lysosomal degradation, the link between Vpu-mediated tetherin degradation and the ability of Vpu to counteract the antiviral activity of tetherin remains poorly understood. Here, we show that human tetherin is expressed at low levels in African green monkey kidney (COS) cells. However, Vpu markedly increases tetherin expression in this cell line, apparently by sequestering it in an internal compartment that bears lysosomal markers. This stabilization of tetherin by Vpu requires the transmembrane sequence of human tetherin. Although Vpu stabilizes human tetherin in COS cells, it still counteracts the ability of tetherin to suppress virus release. The enhancement of virus release by Vpu in COS cells is associated with a modest reduction in cell-surface tetherin expression, even though the overall expression of tetherin is higher in the presence of Vpu. This study demonstrates that COS cells provide a model system in which Vpu-mediated enhancement of HIV-1 release is uncoupled from Vpu-mediated tetherin degradation.\n",
      "\n",
      "\n",
      "\n",
      "        Peptide ligands of G protein-coupled receptors constitute valuable natural lead structures for the development of highly selective drugs and high-affinity tools to probe ligand-receptor interaction. Currently, pharmacological and metabolic modification of natural peptides involves either an iterative trial-and-error process based on structure-activity relationships or screening of peptide libraries that contain many structural variants of the native molecule. Here, we present a novel neural network architecture for the improvement of metabolic stability without loss of bioactivity. In this approach the peptide sequence determines the topology of the neural network and each cell corresponds one-to-one to a single amino acid of the peptide chain. Using a training set, the learning algorithm calculated weights for each cell. The resulting network calculated the fitness function in a genetic algorithm to explore the virtual space of all possible peptides. The network training was based on gradient descent techniques which rely on the efficient calculation of the gradient by back-propagation. After three consecutive cycles of sequence design by the neural network, peptide synthesis and bioassay this new approach yielded a ligand with 70fold higher metabolic stability compared to the wild type peptide without loss of the subnanomolar activity in the biological assay. Combining specialized neural networks with an exploration of the combinatorial amino acid sequence space by genetic algorithms represents a novel rational strategy for peptide design and optimization.\n",
      "      \n",
      "\n",
      "\n",
      "α-Synuclein is a small protein strongly implicated in the pathogenesis of Parkinson’s disease and related neurodegenerative disorders. We report here the use of in-cell NMR spectroscopy to observe directly the structure and dynamics of this protein within E. coli cells. To improve the accuracy in the measurement of backbone chemical shifts within crowded in-cell NMR spectra, we have developed a deconvolution method to reduce inhomogeneous line broadening within cellular samples. The resulting chemical shift values were then used to evaluate the distribution of secondary structure populations which, in the absence of stable tertiary contacts, are a most effective way to describe the conformational fluctuations of disordered proteins. The results indicate that, at least within the bacterial cytosol, α-synuclein populates a highly dynamic state that, despite the highly crowded environment, has the same characteristics as the disordered monomeric form observed in aqueous solution.\n",
      "\n",
      "\n"
     ]
    }
   ],
   "source": [
    "for article in article_files[30:40]:\n",
    "    abstract = get_article_abstract(article)\n",
    "    print(abstract)"
   ]
  },
  {
   "cell_type": "code",
   "execution_count": null,
   "metadata": {
    "collapsed": true
   },
   "outputs": [],
   "source": [
    "def get_article_abstract(article_file):\n",
    "    \"\"\"\n",
    "    For an individual article in the PLOS corpus, create a tuple of a set of metadata fields sbout that corpus.\n",
    "    Make it small, medium, or large depending on number of fields desired.\n",
    "    :param article_file: individual local PLOS XML article\n",
    "    :return: plain-text string of content in abstract\n",
    "    \"\"\"\n",
    "    abstract = get_article_xml(article_file, tag_path_elements=[\"/\",\n",
    "                                                                \"article\",\n",
    "                                                                \"front\",\n",
    "                                                                \"article-meta\",\n",
    "                                                                \"abstract\"])\n",
    "    try:\n",
    "        abstract_text = et.tostring(abstract[0], encoding='unicode', method='text')\n",
    "    except IndexError:\n",
    "        if check_article_type(article_file) == 'research-article' and \\\n",
    "          get_plos_article_type(article_file) == 'Research Article':\n",
    "            print(check_article_type(article_file), article_file)\n",
    "\n",
    "        abstract_text = ''\n",
    "    # clean up text: rem white space, new line marks\n",
    "    abstract_text.replace('  ', '').strip()\n",
    "    if '\\n' in abstract_text:\n",
    "        print(abstract_text.decode('utf-8'))\n",
    "\n",
    "    return abstract_text"
   ]
  },
  {
   "cell_type": "code",
   "execution_count": 18,
   "metadata": {
    "collapsed": true
   },
   "outputs": [],
   "source": [
    "corpus_metadata_to_csv(corpus_metadata=corpus_metadata)"
   ]
  },
  {
   "cell_type": "code",
   "execution_count": null,
   "metadata": {
    "collapsed": true
   },
   "outputs": [],
   "source": [
    "abstract = get_article_abstract()\n",
    "print(abstract)"
   ]
  },
  {
   "cell_type": "code",
   "execution_count": null,
   "metadata": {
    "collapsed": true
   },
   "outputs": [],
   "source": [
    "abstract = b\"\".decode(\"utf-8\") "
   ]
  },
  {
   "cell_type": "code",
   "execution_count": 10,
   "metadata": {
    "collapsed": true
   },
   "outputs": [],
   "source": [
    "def get_article_metadata(article_file, size='small'):\n",
    "    \"\"\"\n",
    "    For an individual article in the PLOS corpus, create a tuple of a set of metadata fields sbout that corpus.\n",
    "    Make it small, medium, or large depending on number of fields desired.\n",
    "    :param article_file: individual local PLOS XML article\n",
    "    :param size: small, medium or large, aka how many fields to return for each article\n",
    "    :return: tuple of metadata fields\n",
    "    \"\"\"\n",
    "    doi = file_to_doi(article_file)\n",
    "    filename = os.path.basename(article_file).rstrip('.xml')\n",
    "    title = get_article_title(article_file)\n",
    "    journal = get_plos_journal(article_file)\n",
    "    jats_article_type = check_article_type(article_file)\n",
    "    plos_article_type = get_plos_article_type(article_file)\n",
    "    dtd_version = get_article_dtd(article_file)\n",
    "    dates = get_article_dates(article_file, string=True)\n",
    "    (pubdate, collection, received, accepted) = ('','','','')\n",
    "    pubdate = dates['epub']\n",
    "    abstract = get_article_abstract(article_file)\n",
    "    try:\n",
    "        collection = dates['collection']\n",
    "    except KeyError:\n",
    "        pass\n",
    "    try:\n",
    "        received = dates['received']\n",
    "    except KeyError:\n",
    "        pass\n",
    "    try:\n",
    "        accepted = dates['accepted']\n",
    "    except KeyError:\n",
    "        pass\n",
    "    metadata = [doi, filename, title, journal, jats_article_type, plos_article_type, dtd_version, pubdate,\n",
    "                received, accepted, collection, abstract]\n",
    "    metadata = tuple(metadata)\n",
    "    if len(metadata) == 12:\n",
    "        return metadata\n",
    "    else:\n",
    "        print('Error in {}: {} items'.format(article_file, len(article_file)))\n",
    "        return False"
   ]
  },
  {
   "cell_type": "code",
   "execution_count": null,
   "metadata": {
    "collapsed": true
   },
   "outputs": [],
   "source": [
    "get_article_abstract('10.1371/journal.pone.0118395')"
   ]
  },
  {
   "cell_type": "code",
   "execution_count": 118,
   "metadata": {
    "collapsed": true
   },
   "outputs": [],
   "source": [
    "one_list = [article for article in listdir_nohidden(corpusdir) if 'pone' in article]\n",
    "\n",
    "def assemble_diabetes_corpus(article_list):\n",
    "    \"\"\"\n",
    "    Find all PLOS ONE articles that say something about diabetes or technology in the abstract.\n",
    "    \"\"\"\n",
    "    diabetes_article_list = [article for article in article_list if 'diabet' in get_article_abstract(article).lower()]\n",
    "    return diabetes_article_list"
   ]
  },
  {
   "cell_type": "code",
   "execution_count": 119,
   "metadata": {},
   "outputs": [
    {
     "name": "stdout",
     "output_type": "stream",
     "text": [
      "research-article allofplos_xml/journal.pone.0150341.xml\n",
      "research-article allofplos_xml/journal.pone.0160248.xml\n",
      "research-article allofplos_xml/journal.pone.0163841.xml\n",
      "research-article allofplos_xml/journal.pone.0173427.xml\n",
      "research-article allofplos_xml/journal.pone.0174259.xml\n",
      "research-article allofplos_xml/journal.pone.0184204.xml\n"
     ]
    }
   ],
   "source": [
    "diabetes_article_list = assemble_diabetes_corpus(one_list)"
   ]
  },
  {
   "cell_type": "code",
   "execution_count": 120,
   "metadata": {},
   "outputs": [
    {
     "name": "stderr",
     "output_type": "stream",
     "text": [
      "100% (6196 of 6196) |#####################| Elapsed Time: 0:02:43 Time: 0:02:43\n"
     ]
    }
   ],
   "source": [
    "diabetes_metadata = get_corpus_metadata(article_list=diabetes_article_list)"
   ]
  },
  {
   "cell_type": "code",
   "execution_count": 135,
   "metadata": {},
   "outputs": [],
   "source": [
    "corpus_metadata_to_csv(diabetes_meta_truncated)"
   ]
  },
  {
   "cell_type": "code",
   "execution_count": null,
   "metadata": {
    "collapsed": true
   },
   "outputs": [],
   "source": [
    "print(diabetes_metadata)"
   ]
  },
  {
   "cell_type": "code",
   "execution_count": 6,
   "metadata": {
    "collapsed": true
   },
   "outputs": [],
   "source": [
    "with open('diabetes.txt', 'w') as f:\n",
    "    for article in diabetes_article_list:\n",
    "        f.write(\"%s\\n\" % '@@@')\n",
    "        f.write(\"%s\\n\" % file_to_doi(article))\n",
    "        f.write(\"%s\\n\" % '$$$')\n",
    "        f.write(\"%s\\n\" % get_article_title(article))\n",
    "        f.write(\"%s\\n\" % '###')\n",
    "        f.write(\"%s\\n\" % get_article_abstract(article))"
   ]
  },
  {
   "cell_type": "code",
   "execution_count": 110,
   "metadata": {},
   "outputs": [
    {
     "name": "stdout",
     "output_type": "stream",
     "text": [
      "True\n",
      "True\n",
      "True\n"
     ]
    }
   ],
   "source": [
    "for article in diabetes_test_list:\n",
    "    print('diabet' in get_article_abstract(article).lower())"
   ]
  },
  {
   "cell_type": "code",
   "execution_count": 111,
   "metadata": {},
   "outputs": [
    {
     "data": {
      "text/plain": [
       "['10.1371/journal.pone.0066299',\n",
       " '10.1371/journal.pone.0142480',\n",
       " '10.1371/journal.pone.0175096']"
      ]
     },
     "execution_count": 111,
     "metadata": {},
     "output_type": "execute_result"
    }
   ],
   "source": [
    "diab_techno_test_list = ['10.1371/journal.pone.0105181', '10.1371/journal.pone.0005124', ]"
   ]
  },
  {
   "cell_type": "code",
   "execution_count": 85,
   "metadata": {},
   "outputs": [
    {
     "data": {
      "text/plain": [
       "'\\nCognitive impairment occurs in both schizophrenia and diabetes. There is currently limited understanding whether schizophrenia with diabetes has more serious cognitive deficits than schizophrenia without diabetes or diabetes only. This study assessed cognitive performance in 190 healthy controls, 106 diabetes only, 127 schizophrenia without diabetes and 55 schizophrenia with diabetes. This study was conducted from January 2008 to December 2010. Compared to healthy controls, all patient groups had significantly decreased total and five index RBANS scores (all p<0.01–p<0.001), except for the visuospatial/constructional index. Schizophrenia with diabetes performed worse than schizophrenia without diabetes in immediate memory (p<0.01) and total RBANS scores (<0.05), and showed a trend for decreased attention (p\\u200a=\\u200a0.052) and visuospatial/constructional capacity (p\\u200a=\\u200a0.063). Schizophrenia with diabetes performed worse than diabetes only in immediate memory (p<0.001) and attention (p<0.05), and showed a trend for decreased total RBANS scores (p\\u200a=\\u200a0.069). Regression analysis showed that the RBANS had modest correlations with schizophrenia’ PANSS scores, their duration of current antipsychotic treatment, and diagnosis of diabetes. Schizophrenia with co-morbid diabetes showed more cognitive impairment than schizophrenia without diabetes and diabetes only, especially in immediate memory and attention.\\n\\n'"
      ]
     },
     "execution_count": 85,
     "metadata": {},
     "output_type": "execute_result"
    }
   ],
   "source": []
  },
  {
   "cell_type": "code",
   "execution_count": 89,
   "metadata": {},
   "outputs": [],
   "source": [
    "abstract_lower = get_article_abstract('10.1371/journal.pone.0066299').lower()"
   ]
  },
  {
   "cell_type": "code",
   "execution_count": 90,
   "metadata": {},
   "outputs": [
    {
     "data": {
      "text/plain": [
       "'\\ncognitive impairment occurs in both schizophrenia and diabetes. there is currently limited understanding whether schizophrenia with diabetes has more serious cognitive deficits than schizophrenia without diabetes or diabetes only. this study assessed cognitive performance in 190 healthy controls, 106 diabetes only, 127 schizophrenia without diabetes and 55 schizophrenia with diabetes. this study was conducted from january 2008 to december 2010. compared to healthy controls, all patient groups had significantly decreased total and five index rbans scores (all p<0.01–p<0.001), except for the visuospatial/constructional index. schizophrenia with diabetes performed worse than schizophrenia without diabetes in immediate memory (p<0.01) and total rbans scores (<0.05), and showed a trend for decreased attention (p\\u200a=\\u200a0.052) and visuospatial/constructional capacity (p\\u200a=\\u200a0.063). schizophrenia with diabetes performed worse than diabetes only in immediate memory (p<0.001) and attention (p<0.05), and showed a trend for decreased total rbans scores (p\\u200a=\\u200a0.069). regression analysis showed that the rbans had modest correlations with schizophrenia’ panss scores, their duration of current antipsychotic treatment, and diagnosis of diabetes. schizophrenia with co-morbid diabetes showed more cognitive impairment than schizophrenia without diabetes and diabetes only, especially in immediate memory and attention.\\n\\n'"
      ]
     },
     "execution_count": 90,
     "metadata": {},
     "output_type": "execute_result"
    }
   ],
   "source": [
    "abstract_lower"
   ]
  },
  {
   "cell_type": "code",
   "execution_count": 92,
   "metadata": {},
   "outputs": [
    {
     "data": {
      "text/plain": [
       "True"
      ]
     },
     "execution_count": 92,
     "metadata": {},
     "output_type": "execute_result"
    }
   ],
   "source": [
    "abstract = get_article_abstract('10.1371/journal.pone.0066299')\n",
    "'diabet' in abstract.lower()"
   ]
  },
  {
   "cell_type": "code",
   "execution_count": 117,
   "metadata": {},
   "outputs": [
    {
     "data": {
      "text/plain": [
       "4804"
      ]
     },
     "execution_count": 117,
     "metadata": {},
     "output_type": "execute_result"
    }
   ],
   "source": [
    "get_article_body_word_count(article_list[0])"
   ]
  },
  {
   "cell_type": "code",
   "execution_count": 129,
   "metadata": {},
   "outputs": [],
   "source": [
    "diabetes_meta_truncated = []\n",
    "for row in diabetes_metadata:\n",
    "    diabetes_meta_truncated.append(row[:-1])"
   ]
  },
  {
   "cell_type": "code",
   "execution_count": 133,
   "metadata": {},
   "outputs": [
    {
     "data": {
      "text/plain": [
       "6196"
      ]
     },
     "execution_count": 133,
     "metadata": {},
     "output_type": "execute_result"
    }
   ],
   "source": [
    "len(diabetes_meta_truncated)"
   ]
  },
  {
   "cell_type": "code",
   "execution_count": null,
   "metadata": {
    "collapsed": true
   },
   "outputs": [],
   "source": []
  }
 ],
 "metadata": {
  "kernelspec": {
   "display_name": "Python 3",
   "language": "python",
   "name": "python3"
  },
  "language_info": {
   "codemirror_mode": {
    "name": "ipython",
    "version": 3
   },
   "file_extension": ".py",
   "mimetype": "text/x-python",
   "name": "python",
   "nbconvert_exporter": "python",
   "pygments_lexer": "ipython3",
   "version": "3.6.2"
  },
  "toc": {
   "colors": {
    "hover_highlight": "#DAA520",
    "navigate_num": "#000000",
    "navigate_text": "#333333",
    "running_highlight": "#FF0000",
    "selected_highlight": "#FFD700",
    "sidebar_border": "#EEEEEE",
    "wrapper_background": "#FFFFFF"
   },
   "moveMenuLeft": true,
   "nav_menu": {
    "height": "12px",
    "width": "252px"
   },
   "navigate_menu": true,
   "number_sections": true,
   "sideBar": true,
   "skip_h1_title": false,
   "threshold": 4,
   "toc_cell": false,
   "toc_position": {},
   "toc_section_display": "block",
   "toc_window_display": false,
   "widenNotebook": false
  }
 },
 "nbformat": 4,
 "nbformat_minor": 2
}
