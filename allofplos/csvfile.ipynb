{
 "cells": [
  {
   "cell_type": "code",
   "execution_count": 1,
   "metadata": {
    "collapsed": true
   },
   "outputs": [],
   "source": [
    "import os\n",
    "import datetime\n",
    "import lxml.etree as et\n",
    "import csv\n",
    "pmcdir = 'pmc_articles'\n",
    "from plos_corpus import (corpusdir, get_article_pubdate, check_if_uncorrected_proof, listdir_nohidden,\n",
    "                         get_article_xml, file_to_doi, doi_to_file, get_all_solr_dois, download_check_and_move)\n",
    "\n",
    "from samples.corpus_analysis import (get_plos_article_type, get_article_dtd, get_random_list_of_dois, \n",
    "                                     get_related_retraction_article, check_article_type, get_plos_journal,\n",
    "                                     get_article_title, parse_article_date, get_corpus_metadata,\n",
    "                                     get_article_abstract, corpus_metadata_to_csv, get_article_dates,\n",
    "                                     read_corpus_metadata_from_csv)\n"
   ]
  },
  {
   "cell_type": "code",
   "execution_count": null,
   "metadata": {
    "collapsed": true
   },
   "outputs": [],
   "source": [
    "article_files = [doi_to_file(doi) for doi in get_random_list_of_dois(count=1000)]\n"
   ]
  },
  {
   "cell_type": "code",
   "execution_count": null,
   "metadata": {
    "collapsed": true
   },
   "outputs": [],
   "source": [
    "corpus_metadata = get_corpus_metadata(article_files)"
   ]
  },
  {
   "cell_type": "code",
   "execution_count": null,
   "metadata": {
    "collapsed": true
   },
   "outputs": [],
   "source": [
    "corpus_metadata_to_csv(corpus_metadata=corpus_metadata)"
   ]
  },
  {
   "cell_type": "code",
   "execution_count": null,
   "metadata": {
    "collapsed": true
   },
   "outputs": [],
   "source": [
    "one_list = [article for article in listdir_nohidden(corpusdir) if 'pone' in article]\n",
    "\n",
    "def assemble_diabetes_corpus(article_list):\n",
    "    \"\"\"\n",
    "    Find all PLOS ONE articles that say something about diabetes or technology in the abstract.\n",
    "    \"\"\"\n",
    "    diabetes_article_list = [article for article in article_list if 'diabet' in get_article_abstract(article).lower()]\n",
    "    return diabetes_article_list"
   ]
  },
  {
   "cell_type": "code",
   "execution_count": null,
   "metadata": {
    "collapsed": true
   },
   "outputs": [],
   "source": [
    "diabetes_article_list = assemble_diabetes_corpus(one_list)"
   ]
  },
  {
   "cell_type": "code",
   "execution_count": null,
   "metadata": {
    "collapsed": true
   },
   "outputs": [],
   "source": [
    "diabetes_metadata = get_corpus_metadata(article_list=diabetes_article_list)"
   ]
  },
  {
   "cell_type": "code",
   "execution_count": null,
   "metadata": {
    "collapsed": true
   },
   "outputs": [],
   "source": [
    "corpus_metadata_to_csv(diabetes_meta_truncated)"
   ]
  },
  {
   "cell_type": "code",
   "execution_count": null,
   "metadata": {
    "collapsed": true
   },
   "outputs": [],
   "source": [
    "diabetes_meta_truncated = []\n",
    "for row in diabetes_metadata:\n",
    "    diabetes_meta_truncated.append(row[:-1])"
   ]
  },
  {
   "cell_type": "code",
   "execution_count": null,
   "metadata": {
    "collapsed": true
   },
   "outputs": [],
   "source": [
    "len(diabetes_meta_truncated)"
   ]
  },
  {
   "cell_type": "code",
   "execution_count": null,
   "metadata": {
    "collapsed": true
   },
   "outputs": [],
   "source": [
    "corpus_metadata_remade = read_corpus_metadata_from_csv()"
   ]
  },
  {
   "cell_type": "code",
   "execution_count": null,
   "metadata": {
    "collapsed": true
   },
   "outputs": [],
   "source": [
    "csv_doi_list = [row[0] for row in corpus_metadata_remade]"
   ]
  },
  {
   "cell_type": "code",
   "execution_count": null,
   "metadata": {
    "collapsed": true
   },
   "outputs": [],
   "source": [
    "len(csv_doi_list)"
   ]
  },
  {
   "cell_type": "code",
   "execution_count": null,
   "metadata": {
    "collapsed": true
   },
   "outputs": [],
   "source": [
    "full_doi_list = get_all_solr_dois()"
   ]
  },
  {
   "cell_type": "code",
   "execution_count": null,
   "metadata": {
    "collapsed": true
   },
   "outputs": [],
   "source": [
    "dois_needed_list = list(set(full_doi_list) - set(csv_doi_list))"
   ]
  },
  {
   "cell_type": "code",
   "execution_count": null,
   "metadata": {
    "collapsed": true
   },
   "outputs": [],
   "source": [
    "len(dois_needed_list)"
   ]
  },
  {
   "cell_type": "code",
   "execution_count": null,
   "metadata": {
    "collapsed": true
   },
   "outputs": [],
   "source": [
    "print(len(corpus_metadata_remade))\n",
    "for doi in dois_needed_list[0:10]:\n",
    "    article_metadata = get_article_metadata(doi)\n",
    "    corpus_metadata_remade.append(article_metadata)\n",
    "print(len(corpus_metadata_remade))"
   ]
  },
  {
   "cell_type": "code",
   "execution_count": null,
   "metadata": {
    "collapsed": true
   },
   "outputs": [],
   "source": [
    "doi_list = dois_needed_list[0:100]"
   ]
  },
  {
   "cell_type": "code",
   "execution_count": null,
   "metadata": {
    "collapsed": true
   },
   "outputs": [],
   "source": [
    "corpus_metadata = update_corpus_metadata_csv(comparison_dois=doi_list)"
   ]
  },
  {
   "cell_type": "code",
   "execution_count": null,
   "metadata": {
    "collapsed": true
   },
   "outputs": [],
   "source": [
    "a = [(1,2), (3,4)]\n",
    "b = [(5,6), (7,8)]"
   ]
  },
  {
   "cell_type": "code",
   "execution_count": null,
   "metadata": {
    "collapsed": true
   },
   "outputs": [],
   "source": [
    "a.append(b)"
   ]
  },
  {
   "cell_type": "code",
   "execution_count": null,
   "metadata": {
    "collapsed": true
   },
   "outputs": [],
   "source": [
    "a"
   ]
  },
  {
   "cell_type": "code",
   "execution_count": null,
   "metadata": {
    "collapsed": true
   },
   "outputs": [],
   "source": [
    "'allofplos_xml/journal.ppat.1006658.xml'.split('/')[1]"
   ]
  },
  {
   "cell_type": "code",
   "execution_count": null,
   "metadata": {
    "collapsed": true
   },
   "outputs": [],
   "source": [
    "os.path.join('New articles', 'allofplos_xml/journal.ppat.1006658.xml'.split('/')[1].rstrip('.xml')+'.xml')"
   ]
  },
  {
   "cell_type": "code",
   "execution_count": 2,
   "metadata": {
    "collapsed": true
   },
   "outputs": [],
   "source": [
    "sample_article_list = get_random_list_of_dois(count=50000)"
   ]
  },
  {
   "cell_type": "code",
   "execution_count": 3,
   "metadata": {},
   "outputs": [
    {
     "name": "stderr",
     "output_type": "stream",
     "text": [
      "  2% (1046 of 50000) |                    | Elapsed Time: 0:01:08 ETA:  0:53:35"
     ]
    },
    {
     "name": "stdout",
     "output_type": "stream",
     "text": [
      "10.1371/journal.pntd.0001753 dates not in correct order: {'collection': datetime.datetime(2012, 7, 1, 0, 0), 'epub': datetime.datetime(2012, 7, 24, 0, 0), 'received': datetime.datetime(2012, 12, 17, 0, 0), 'accepted': datetime.datetime(2012, 6, 12, 0, 0)}\n"
     ]
    },
    {
     "name": "stderr",
     "output_type": "stream",
     "text": [
      "  7% (3776 of 50000) |#                   | Elapsed Time: 0:03:31 ETA:  0:42:16"
     ]
    },
    {
     "name": "stdout",
     "output_type": "stream",
     "text": [
      "10.1371/journal.pntd.0001618 dates not in correct order: {'collection': datetime.datetime(2012, 5, 1, 0, 0), 'epub': datetime.datetime(2012, 5, 1, 0, 0), 'received': datetime.datetime(2012, 12, 30, 0, 0), 'accepted': datetime.datetime(2012, 3, 5, 0, 0)}\n"
     ]
    },
    {
     "name": "stderr",
     "output_type": "stream",
     "text": [
      " 24% (12434 of 50000) |####               | Elapsed Time: 0:10:27 ETA:  0:28:57"
     ]
    },
    {
     "name": "stdout",
     "output_type": "stream",
     "text": [
      "10.1371/journal.pone.0098569 dates not in correct order: {'collection': datetime.datetime(2014, 1, 1, 0, 0), 'epub': datetime.datetime(2014, 6, 11, 0, 0), 'received': datetime.datetime(2014, 10, 2, 0, 0), 'accepted': datetime.datetime(2014, 5, 5, 0, 0)}\n"
     ]
    },
    {
     "name": "stderr",
     "output_type": "stream",
     "text": [
      " 30% (15265 of 50000) |#####              | Elapsed Time: 0:12:49 ETA:  0:29:59"
     ]
    },
    {
     "name": "stdout",
     "output_type": "stream",
     "text": [
      "10.1371/journal.pntd.0002215 dates not in correct order: {'collection': datetime.datetime(2013, 5, 1, 0, 0), 'epub': datetime.datetime(2013, 5, 16, 0, 0), 'received': datetime.datetime(2013, 12, 31, 0, 0), 'accepted': datetime.datetime(2013, 4, 2, 0, 0)}\n"
     ]
    },
    {
     "name": "stderr",
     "output_type": "stream",
     "text": [
      " 47% (23884 of 50000) |#########          | Elapsed Time: 0:20:11 ETA:  0:21:58"
     ]
    },
    {
     "name": "stdout",
     "output_type": "stream",
     "text": [
      "10.1371/journal.ppat.1005062 dates not in correct order: {'epub': datetime.datetime(2015, 7, 29, 0, 0), 'collection': datetime.datetime(2015, 7, 1, 0, 0), 'received': datetime.datetime(2015, 11, 8, 0, 0), 'accepted': datetime.datetime(2015, 7, 2, 0, 0)}\n"
     ]
    },
    {
     "name": "stderr",
     "output_type": "stream",
     "text": [
      " 51% (25770 of 50000) |#########          | Elapsed Time: 0:21:43 ETA:  0:19:36"
     ]
    },
    {
     "name": "stdout",
     "output_type": "stream",
     "text": [
      "10.1371/journal.pbio.0030092 dates not in correct order: {'ppub': datetime.datetime(2005, 4, 1, 0, 0), 'epub': datetime.datetime(2005, 3, 15, 0, 0), 'received': datetime.datetime(2004, 7, 11, 0, 0), 'accepted': datetime.datetime(2004, 1, 13, 0, 0)}\n"
     ]
    },
    {
     "name": "stderr",
     "output_type": "stream",
     "text": [
      " 55% (27954 of 50000) |##########         | Elapsed Time: 0:23:41 ETA:  0:20:15"
     ]
    },
    {
     "name": "stdout",
     "output_type": "stream",
     "text": [
      "10.1371/journal.ppat.1004917 dates not in correct order: {'epub': datetime.datetime(2015, 5, 21, 0, 0), 'collection': datetime.datetime(2015, 5, 1, 0, 0), 'received': datetime.datetime(2015, 12, 12, 0, 0), 'accepted': datetime.datetime(2015, 4, 27, 0, 0)}\n"
     ]
    },
    {
     "name": "stderr",
     "output_type": "stream",
     "text": [
      " 60% (30089 of 50000) |###########        | Elapsed Time: 0:25:40 ETA:  0:18:53"
     ]
    },
    {
     "name": "stdout",
     "output_type": "stream",
     "text": [
      "10.1371/journal.pntd.0003922 dates not in correct order: {'epub': datetime.datetime(2015, 7, 10, 0, 0), 'collection': datetime.datetime(2015, 7, 1, 0, 0), 'received': datetime.datetime(2015, 11, 7, 0, 0), 'accepted': datetime.datetime(2015, 6, 17, 0, 0)}\n"
     ]
    },
    {
     "name": "stderr",
     "output_type": "stream",
     "text": [
      " 64% (32499 of 50000) |############       | Elapsed Time: 0:27:36 ETA:  0:13:23"
     ]
    },
    {
     "name": "stdout",
     "output_type": "stream",
     "text": [
      "10.1371/journal.ppat.1003643 dates not in correct order: {'collection': datetime.datetime(2013, 9, 1, 0, 0), 'epub': datetime.datetime(2013, 9, 26, 0, 0), 'received': datetime.datetime(2013, 12, 17, 0, 0), 'accepted': datetime.datetime(2013, 8, 5, 0, 0)}\n"
     ]
    },
    {
     "name": "stderr",
     "output_type": "stream",
     "text": [
      " 69% (34921 of 50000) |#############      | Elapsed Time: 0:30:05 ETA:  0:16:22"
     ]
    },
    {
     "name": "stdout",
     "output_type": "stream",
     "text": [
      "10.1371/journal.ppat.1003408 dates not in correct order: {'collection': datetime.datetime(2013, 6, 1, 0, 0), 'epub': datetime.datetime(2013, 6, 6, 0, 0), 'received': datetime.datetime(2013, 12, 23, 0, 0), 'accepted': datetime.datetime(2013, 4, 23, 0, 0)}\n"
     ]
    },
    {
     "name": "stderr",
     "output_type": "stream",
     "text": [
      " 71% (35504 of 50000) |#############      | Elapsed Time: 0:30:39 ETA:  0:16:34"
     ]
    },
    {
     "name": "stdout",
     "output_type": "stream",
     "text": [
      "10.1371/journal.ppat.1005219 dates not in correct order: {'epub': datetime.datetime(2015, 10, 20, 0, 0), 'collection': datetime.datetime(2015, 10, 1, 0, 0), 'received': datetime.datetime(2015, 12, 4, 0, 0), 'accepted': datetime.datetime(2015, 9, 21, 0, 0)}\n"
     ]
    },
    {
     "name": "stderr",
     "output_type": "stream",
     "text": [
      " 80% (40289 of 50000) |###############    | Elapsed Time: 0:35:17 ETA:  0:09:06"
     ]
    },
    {
     "name": "stdout",
     "output_type": "stream",
     "text": [
      "10.1371/journal.pntd.0003959 dates not in correct order: {'epub': datetime.datetime(2015, 7, 28, 0, 0), 'collection': datetime.datetime(2015, 7, 1, 0, 0), 'received': datetime.datetime(2015, 10, 5, 0, 0), 'accepted': datetime.datetime(2015, 7, 7, 0, 0)}\n"
     ]
    },
    {
     "name": "stderr",
     "output_type": "stream",
     "text": [
      " 97% (48760 of 50000) |################## | Elapsed Time: 0:42:55 ETA:  0:01:14"
     ]
    },
    {
     "name": "stdout",
     "output_type": "stream",
     "text": [
      "10.1371/journal.pcbi.0020027 dates not in correct order: {'ppub': datetime.datetime(2006, 4, 1, 0, 0), 'epub': datetime.datetime(2006, 4, 14, 0, 0), 'received': datetime.datetime(2005, 12, 22, 0, 0), 'accepted': datetime.datetime(2005, 2, 20, 0, 0)}\n"
     ]
    },
    {
     "name": "stderr",
     "output_type": "stream",
     "text": [
      "100% (50000 of 50000) |###################| Elapsed Time: 0:44:05 Time: 0:44:05\n"
     ]
    }
   ],
   "source": [
    "corpus_metadata = get_corpus_metadata(article_list=sample_article_list)"
   ]
  },
  {
   "cell_type": "code",
   "execution_count": 4,
   "metadata": {
    "collapsed": true
   },
   "outputs": [],
   "source": [
    "corpus_metadata_to_csv(corpus_metadata=corpus_metadata)"
   ]
  },
  {
   "cell_type": "code",
   "execution_count": null,
   "metadata": {
    "collapsed": true
   },
   "outputs": [],
   "source": [
    "#to execute: update corpus_metadata with a list of DOIs. check that functions can handle an overlapping list, and make\n",
    "# sure that appending is working correctly. there were some errors reading in a csv that had been appended/extended."
   ]
  },
  {
   "cell_type": "code",
   "execution_count": 6,
   "metadata": {},
   "outputs": [
    {
     "data": {
      "text/plain": [
       "'10.1371/journal.pone'"
      ]
     },
     "execution_count": 6,
     "metadata": {},
     "output_type": "execute_result"
    }
   ],
   "source": [
    "file_to_doi('10.1371/journal.pone.0080675')"
   ]
  },
  {
   "cell_type": "code",
   "execution_count": null,
   "metadata": {
    "collapsed": true
   },
   "outputs": [],
   "source": []
  }
 ],
 "metadata": {
  "kernelspec": {
   "display_name": "Python 3",
   "language": "python",
   "name": "python3"
  },
  "language_info": {
   "codemirror_mode": {
    "name": "ipython",
    "version": 3
   },
   "file_extension": ".py",
   "mimetype": "text/x-python",
   "name": "python",
   "nbconvert_exporter": "python",
   "pygments_lexer": "ipython3",
   "version": "3.6.2"
  },
  "toc": {
   "colors": {
    "hover_highlight": "#DAA520",
    "navigate_num": "#000000",
    "navigate_text": "#333333",
    "running_highlight": "#FF0000",
    "selected_highlight": "#FFD700",
    "sidebar_border": "#EEEEEE",
    "wrapper_background": "#FFFFFF"
   },
   "moveMenuLeft": true,
   "nav_menu": {
    "height": "12px",
    "width": "252px"
   },
   "navigate_menu": true,
   "number_sections": true,
   "sideBar": true,
   "skip_h1_title": false,
   "threshold": 4,
   "toc_cell": false,
   "toc_position": {},
   "toc_section_display": "block",
   "toc_window_display": false,
   "widenNotebook": false
  }
 },
 "nbformat": 4,
 "nbformat_minor": 2
}
