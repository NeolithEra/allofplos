{
 "cells": [
  {
   "cell_type": "code",
   "execution_count": null,
   "metadata": {},
   "outputs": [],
   "source": [
    "import os\n",
    "import datetime\n",
    "import lxml.etree as et\n",
    "import csv\n",
    "pmcdir = 'pmc_articles'\n",
    "from plos_corpus import (corpusdir, get_article_pubdate, check_if_uncorrected_proof, listdir_nohidden,\n",
    "                         get_article_xml, file_to_doi, doi_to_file)\n",
    "\n",
    "from samples.corpus_analysis import (get_plos_article_type, get_article_dtd, get_random_list_of_dois, \n",
    "                                     get_related_retraction_article, check_article_type, get_plos_journal,\n",
    "                                     get_article_title, parse_article_date, get_corpus_metadata,\n",
    "                                     get_article_abstract, corpus_metadata_to_csv)\n"
   ]
  },
  {
   "cell_type": "code",
   "execution_count": null,
   "metadata": {},
   "outputs": [],
   "source": [
    "article_files = [doi_to_file(doi) for doi in get_random_list_of_dois(count=100)]\n"
   ]
  },
  {
   "cell_type": "code",
   "execution_count": null,
   "metadata": {},
   "outputs": [],
   "source": [
    "corpus_metadata = get_corpus_metadata(article_files)"
   ]
  },
  {
   "cell_type": "code",
   "execution_count": null,
   "metadata": {},
   "outputs": [],
   "source": [
    "for article in article_files[30:40]:\n",
    "    abstract = get_article_abstract(article)\n",
    "    print(abstract)"
   ]
  },
  {
   "cell_type": "code",
   "execution_count": null,
   "metadata": {},
   "outputs": [],
   "source": [
    "def get_article_abstract(article_file):\n",
    "    \"\"\"\n",
    "    For an individual article in the PLOS corpus, create a tuple of a set of metadata fields sbout that corpus.\n",
    "    Make it small, medium, or large depending on number of fields desired.\n",
    "    :param article_file: individual local PLOS XML article\n",
    "    :return: plain-text string of content in abstract\n",
    "    \"\"\"\n",
    "    abstract = get_article_xml(article_file, tag_path_elements=[\"/\",\n",
    "                                                                \"article\",\n",
    "                                                                \"front\",\n",
    "                                                                \"article-meta\",\n",
    "                                                                \"abstract\"])\n",
    "    try:\n",
    "        abstract_text = et.tostring(abstract[0], encoding='unicode', method='text')\n",
    "    except IndexError:\n",
    "        if check_article_type(article_file) == 'research-article' and \\\n",
    "          get_plos_article_type(article_file) == 'Research Article':\n",
    "            print(check_article_type(article_file), article_file)\n",
    "\n",
    "        abstract_text = ''\n",
    "    # clean up text: rem white space, new line marks\n",
    "    abstract_text.replace('  ', '').strip()\n",
    "    if '\\n' in abstract_text:\n",
    "        print(abstract_text.decode('utf-8'))\n",
    "\n",
    "    return abstract_text"
   ]
  },
  {
   "cell_type": "code",
   "execution_count": null,
   "metadata": {},
   "outputs": [],
   "source": [
    "corpus_metadata_to_csv(corpus_metadata=corpus_metadata)"
   ]
  },
  {
   "cell_type": "code",
   "execution_count": null,
   "metadata": {},
   "outputs": [],
   "source": [
    "abstract = get_article_abstract()\n",
    "print(abstract)"
   ]
  },
  {
   "cell_type": "code",
   "execution_count": null,
   "metadata": {},
   "outputs": [],
   "source": [
    "abstract = b\"\".decode(\"utf-8\") "
   ]
  },
  {
   "cell_type": "code",
   "execution_count": null,
   "metadata": {},
   "outputs": [],
   "source": [
    "def get_article_metadata(article_file, size='small'):\n",
    "    \"\"\"\n",
    "    For an individual article in the PLOS corpus, create a tuple of a set of metadata fields sbout that corpus.\n",
    "    Make it small, medium, or large depending on number of fields desired.\n",
    "    :param article_file: individual local PLOS XML article\n",
    "    :param size: small, medium or large, aka how many fields to return for each article\n",
    "    :return: tuple of metadata fields\n",
    "    \"\"\"\n",
    "    doi = file_to_doi(article_file)\n",
    "    filename = os.path.basename(article_file).rstrip('.xml')\n",
    "    title = get_article_title(article_file)\n",
    "    journal = get_plos_journal(article_file)\n",
    "    jats_article_type = check_article_type(article_file)\n",
    "    plos_article_type = get_plos_article_type(article_file)\n",
    "    dtd_version = get_article_dtd(article_file)\n",
    "    dates = get_article_dates(article_file, string=True)\n",
    "    (pubdate, collection, received, accepted) = ('','','','')\n",
    "    pubdate = dates['epub']\n",
    "    abstract = get_article_abstract(article_file)\n",
    "    try:\n",
    "        collection = dates['collection']\n",
    "    except KeyError:\n",
    "        pass\n",
    "    try:\n",
    "        received = dates['received']\n",
    "    except KeyError:\n",
    "        pass\n",
    "    try:\n",
    "        accepted = dates['accepted']\n",
    "    except KeyError:\n",
    "        pass\n",
    "    metadata = [doi, filename, title, journal, jats_article_type, plos_article_type, dtd_version, pubdate,\n",
    "                received, accepted, collection, abstract]\n",
    "    metadata = tuple(metadata)\n",
    "    if len(metadata) == 12:\n",
    "        return metadata\n",
    "    else:\n",
    "        print('Error in {}: {} items'.format(article_file, len(article_file)))\n",
    "        return False"
   ]
  },
  {
   "cell_type": "code",
   "execution_count": null,
   "metadata": {},
   "outputs": [],
   "source": [
    "get_article_abstract('10.1371/journal.pone.0118395')"
   ]
  },
  {
   "cell_type": "code",
   "execution_count": null,
   "metadata": {},
   "outputs": [],
   "source": [
    "one_list = [article for article in listdir_nohidden(corpusdir) if 'pone' in article]\n",
    "print(len(one_list))\n",
    "sample_list = one_list[0:1000]\n",
    "\n",
    "def assemble_diabetes_corpus(article_list):\n",
    "    \"\"\"\n",
    "    Find all PLOS ONE articles that say something about diabetes or technology in the abstract.\n",
    "    \"\"\"\n",
    "    diabetes_article_list = [article for article in article_list if all(c in get_article_abstract(article).lower() for c in ('diabet', 'techno'))]\n",
    "    return diabetes_article_list"
   ]
  },
  {
   "cell_type": "code",
   "execution_count": null,
   "metadata": {},
   "outputs": [],
   "source": [
    "def assemble_diabetes_corpus(article_list):\n",
    "    \"\"\"\n",
    "    Find all PLOS ONE articles that say something about diabetes or technology in the abstract.\n",
    "    \"\"\"\n",
    "    diabetes_article_list = [article for article in article_list if 'diabet' in get_article_abstract(article).lower()]\n",
    "    return diabetes_article_list"
   ]
  },
  {
   "cell_type": "code",
   "execution_count": null,
   "metadata": {},
   "outputs": [],
   "source": [
    "diabetes_article_list = assemble_diabetes_corpus(one_list)"
   ]
  },
  {
   "cell_type": "code",
   "execution_count": null,
   "metadata": {},
   "outputs": [],
   "source": [
    "diabetes_metadata = get_corpus_metadata(article_list=diabetes_article_list)"
   ]
  },
  {
   "cell_type": "code",
   "execution_count": null,
   "metadata": {},
   "outputs": [],
   "source": [
    "corpus_metadata_to_csv(diabetes_metadata)"
   ]
  },
  {
   "cell_type": "code",
   "execution_count": null,
   "metadata": {},
   "outputs": [],
   "source": [
    "print(diabetes_metadata)"
   ]
  },
  {
   "cell_type": "code",
   "execution_count": null,
   "metadata": {},
   "outputs": [],
   "source": [
    "with open('diabetes.txt', 'w') as f:\n",
    "    for article in diabetes_article_list:\n",
    "        f.write(\"%s\\n\" % '@@@')\n",
    "        f.write(\"%s\\n\" % file_to_doi(article))\n",
    "        f.write(\"%s\\n\" % '$$$')\n",
    "        f.write(\"%s\\n\" % get_article_title(article))\n",
    "        f.write(\"%s\\n\" % '###')\n",
    "        f.write(\"%s\\n\" % get_article_abstract(article))"
   ]
  },
  {
   "cell_type": "code",
   "execution_count": null,
   "metadata": {},
   "outputs": [],
   "source": [
    "diabetes_abstract_list = [get_article_abstract(article) for article in diabetes_article_list]"
   ]
  },
  {
   "cell_type": "code",
   "execution_count": null,
   "metadata": {},
   "outputs": [],
   "source": []
  }
 ],
 "metadata": {
  "kernelspec": {
   "display_name": "py3",
   "language": "python",
   "name": "python3"
  },
  "language_info": {
   "codemirror_mode": {
    "name": "ipython",
    "version": 3
   },
   "file_extension": ".py",
   "mimetype": "text/x-python",
   "name": "python",
   "nbconvert_exporter": "python",
   "pygments_lexer": "ipython3",
   "version": "3.6.2"
  },
  "toc": {
   "nav_menu": {
    "height": "12px",
    "width": "252px"
   },
   "number_sections": true,
   "sideBar": true,
   "skip_h1_title": false,
   "toc_cell": false,
   "toc_position": {},
   "toc_section_display": "block",
   "toc_window_display": false
  }
 },
 "nbformat": 4,
 "nbformat_minor": 2
}
