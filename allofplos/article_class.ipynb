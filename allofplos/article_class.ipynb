{
 "cells": [
  {
   "cell_type": "code",
   "execution_count": null,
   "metadata": {
    "collapsed": true
   },
   "outputs": [],
   "source": [
    "%load_ext autoreload\n",
    "%autoreload 2\n",
    "\n",
    "import datetime\n",
    "import lxml.etree as et\n",
    "import os\n",
    "from article_class import Article\n",
    "from samples.corpus_analysis import get_random_list_of_dois, get_all_local_dois\n",
    "\n",
    "\n",
    "# Main directory of article XML files\n",
    "corpusdir = 'allofplos_xml'\n",
    "\n",
    "# Temp folder for downloading and processing n/'ew articles\n",
    "newarticledir = 'new_plos_articles'\n",
    "\n",
    "# URL bases for PLOS's raw article XML\n",
    "EXT_URL_TMP = 'http://journals.plos.org/plosone/article/file?id={0}&type=manuscript'\n",
    "INT_URL_TMP = 'http://contentrepo.plos.org:8002/v1/objects/mogilefs-prod-repo?key={0}.XML'\n",
    "URL_TMP = EXT_URL_TMP\n"
   ]
  },
  {
   "cell_type": "code",
   "execution_count": null,
   "metadata": {
    "collapsed": true
   },
   "outputs": [],
   "source": [
    "doi = '10.1371/journal.pone.0032799' # doi = get_random_list_of_dois(count=1)[0]\n",
    "a = Article(doi)\n",
    "tags_to_contrib = [\"/\",\n",
    "                   \"article\",\n",
    "                   \"front\",\n",
    "                   \"article-meta\"]\n",
    "blah = a.get_element_xpath(tag_path_elements=tags_to_contrib)[0]\n"
   ]
  },
  {
   "cell_type": "code",
   "execution_count": null,
   "metadata": {
    "collapsed": true
   },
   "outputs": [],
   "source": [
    "blah0 = blah[0]\n",
    "blah1 = blah[1]\n",
    "# print(et.tostring(blah0, pretty_print=True, encoding=\"unicode\"))\n",
    "# from article_class import get_author_type\n",
    "# for x in blah0:\n",
    "#     get_author_type(x)\n",
    "print(type(blah0[1]), blah0[1].tag)\n",
    "from article_class import get_contrib_info\n",
    "get_contrib_info(blah0[0])"
   ]
  },
  {
   "cell_type": "code",
   "execution_count": null,
   "metadata": {
    "collapsed": true
   },
   "outputs": [],
   "source": [
    "tag_path_2 = [\"/\",\n",
    "              \"article\",\n",
    "              \"front\",\n",
    "              \"article-meta\",\n",
    "              \"author-notes\"]\n",
    "author_notes = a.get_element_xpath(tag_path_elements=tag_path_2)\n",
    "from article_class import get_corr_author_emails\n",
    "author_emails_dict = get_corr_author_emails(author_notes[0])"
   ]
  },
  {
   "cell_type": "code",
   "execution_count": null,
   "metadata": {
    "collapsed": true,
    "scrolled": false
   },
   "outputs": [],
   "source": [
    "import csv\n",
    "import progressbar\n",
    "dois = get_all_local_dois()\n",
    "article_array = []\n",
    "max_value = len(dois[195000:])\n",
    "bar = progressbar.ProgressBar(redirect_stdout=True, max_value=max_value)\n",
    "for i, doi in enumerate(dois[195000:]):\n",
    "    article = Article(doi)\n",
    "#     article_data = []\n",
    "    if article.type_ not in ('correction', 'retraction', 'expression-of-concern') and article.pubdate > datetime.datetime(2017, 1, 1):\n",
    "#         if type(article.author) == dict:\n",
    "#             mult_authors = False\n",
    "#             article_data = (mult_authors, article.author['last'], article.author['first'], article.author['email'], article.title, article.journal, article.type_, article.doi, article.page, article.get_pubdate(string_=True))\n",
    "#             article_array.append(article_data)\n",
    "#             pass\n",
    "#         elif type(article.author) == list:\n",
    "#             mult_authors = True\n",
    "#             for author in article.author:\n",
    "#                 article_data = (mult_authors, author['last'], author['first'], author['email'], article.title, article.journal, article.type_, article.doi, article.page, article.get_pubdate(string_=True))\n",
    "#                 print(author['first'], author['last'], author['email'], article.title)\n",
    "#                 article_array.append(article_data)\n",
    "#         else:\n",
    "#             print('Error reading author list: {}'.format(article.doi))\n",
    "#         for k, v in article.get_aff_dict().items():\n",
    "#             if v == \"not_good\":\n",
    "#                 print(article.doi)\n",
    "        article.authors\n",
    "    bar.update(i+1)\n",
    "bar.finish()\n",
    "        "
   ]
  },
  {
   "cell_type": "code",
   "execution_count": null,
   "metadata": {
    "collapsed": true
   },
   "outputs": [],
   "source": [
    "# no initials for mult corr author emails\n",
    "article = Article('10.1371/journal.pone.0172694')\n",
    "article.get_aff_dict()"
   ]
  },
  {
   "cell_type": "code",
   "execution_count": null,
   "metadata": {
    "collapsed": true
   },
   "outputs": [],
   "source": [
    "with open('testing_author_dupes2.csv', 'w', encoding='utf-8') as out:\n",
    "        csv_out = csv.writer(out)\n",
    "        csv_out.writerow(['mult. authors', 'last name', 'first name', 'email', 'title', 'journal', 'type', 'doi', 'link', 'pubdate'])\n",
    "        for row in article_array:\n",
    "            csv_out.writerow(row)"
   ]
  },
  {
   "cell_type": "code",
   "execution_count": null,
   "metadata": {
    "collapsed": true
   },
   "outputs": [],
   "source": [
    "article = Article('10.1371/journal.pone.0187065')\n",
    "article.authors"
   ]
  },
  {
   "cell_type": "code",
   "execution_count": null,
   "metadata": {
    "collapsed": true
   },
   "outputs": [],
   "source": [
    "# Editor's affiliation is in the editor, not affiliation, element\n",
    "article = Article('10.1371/journal.pmed.0020043')\n",
    "article.editor"
   ]
  },
  {
   "cell_type": "code",
   "execution_count": null,
   "metadata": {
    "collapsed": true
   },
   "outputs": [],
   "source": [
    "article = Article('10.1371/journal.pone.0182368')\n",
    "# article.get_contributors_info()\n",
    "article.authors"
   ]
  },
  {
   "cell_type": "code",
   "execution_count": null,
   "metadata": {
    "collapsed": true
   },
   "outputs": [],
   "source": [
    "article = Article('10.1371/journal.pone.0170783')\n",
    "article.get_contributors_info()"
   ]
  },
  {
   "cell_type": "code",
   "execution_count": null,
   "metadata": {
    "collapsed": true
   },
   "outputs": [],
   "source": [
    "article = Article('10.1371/journal.pone.0183408')\n",
    "article.get_contributors_info()"
   ]
  },
  {
   "cell_type": "code",
   "execution_count": null,
   "metadata": {
    "collapsed": true
   },
   "outputs": [],
   "source": [
    "# author with two email addresses\n",
    "article = Article('10.1371/journal.pone.0176107')\n",
    "article.corr_author"
   ]
  },
  {
   "cell_type": "code",
   "execution_count": null,
   "metadata": {
    "collapsed": true
   },
   "outputs": [],
   "source": [
    "# article with two authors, both have two email addresses\n",
    "article = Article('10.1371/journal.pone.0180950')\n",
    "article.corr_author"
   ]
  },
  {
   "cell_type": "code",
   "execution_count": null,
   "metadata": {
    "collapsed": true
   },
   "outputs": [],
   "source": [
    "# author initials in lower case\n",
    "article = Article('10.1371/journal.pone.0181054')\n",
    "article.corr_author"
   ]
  },
  {
   "cell_type": "code",
   "execution_count": null,
   "metadata": {
    "collapsed": true
   },
   "outputs": [],
   "source": [
    "# two consortia are authors\n",
    "article = Article('10.1371/journal.pgen.1006957')\n",
    "article.authors"
   ]
  },
  {
   "cell_type": "code",
   "execution_count": null,
   "metadata": {
    "collapsed": true
   },
   "outputs": [],
   "source": [
    "article = Article('10.1371/journal.pone.0183541')\n",
    "article.authors"
   ]
  },
  {
   "cell_type": "code",
   "execution_count": null,
   "metadata": {
    "collapsed": true
   },
   "outputs": [],
   "source": [
    "# dois for which contrib info was failing at some point\n",
    "doi_list = ['10.1371/journal.pone.0174547', '10.1371/journal.pone.0174012', '10.1371/journal.pone.0181204',\n",
    "            '10.1371/journal.pone.0183558', '10.1371/journal.pgen.1006957', '10.1371/journal.pone.0172591',\n",
    "            '10.1371/journal.pone.0177685', '10.1371/journal.pone.0168637', '10.1371/journal.pone.0172975',\n",
    "            '10.1371/journal.pone.0168487', '10.1371/journal.pone.0185160', '10.1371/journal.pone.0169164',\n",
    "            '10.1371/journal.pone.0179769', '10.1371/journal.pone.0181004', '10.1371/journal.pone.0171645',\n",
    "            '10.1371/journal.pone.0175300', '10.1371/journal.pntd.0005716', '10.1371/journal.pone.0172577',\n",
    "            '10.1371/journal.pone.0177141', '10.1371/journal.pone.0177591', '10.1371/journal.pone.0172735']\n",
    "# Non research articles for which contrib info is failing\n",
    "non_RA_doi_list = ['10.1371/journal.pmed.1002239']"
   ]
  },
  {
   "cell_type": "code",
   "execution_count": null,
   "metadata": {
    "collapsed": true
   },
   "outputs": [],
   "source": [
    "# one author, not getting matched to email address\n",
    "article = Article('10.1371/journal.pone.0184949')\n",
    "article.corr_author"
   ]
  },
  {
   "cell_type": "code",
   "execution_count": null,
   "metadata": {
    "collapsed": true
   },
   "outputs": [],
   "source": [
    "# No corresponding author (reviewer thank you)\n",
    "article = Article('10.1371/journal.pgen.1006671')\n",
    "article.corr_author"
   ]
  },
  {
   "cell_type": "code",
   "execution_count": null,
   "metadata": {
    "collapsed": true
   },
   "outputs": [],
   "source": [
    "# Error constructing author initials\n",
    "article = Article('10.1371/journal.pone.0173697')\n",
    "article.corr_author"
   ]
  },
  {
   "cell_type": "code",
   "execution_count": null,
   "metadata": {
    "collapsed": true
   },
   "outputs": [],
   "source": [
    "# author has ORCID\n",
    "article = Article('10.1371/journal.pone.0177916')\n",
    "article.authors\n",
    "# article.open_in_editor('subl')"
   ]
  },
  {
   "cell_type": "code",
   "execution_count": null,
   "metadata": {
    "collapsed": true
   },
   "outputs": [],
   "source": [
    "article = Article('10.1371/journal.pone.0172577')\n",
    "article.authors"
   ]
  },
  {
   "cell_type": "code",
   "execution_count": null,
   "metadata": {
    "collapsed": true
   },
   "outputs": [],
   "source": [
    "# author with only surname and no given names\n",
    "article = Article('10.1371/journal.pone.0185569')\n",
    "article.authors"
   ]
  },
  {
   "cell_type": "code",
   "execution_count": null,
   "metadata": {
    "collapsed": true
   },
   "outputs": [],
   "source": [
    "# includes 'on behalf of' author collab element\n",
    "article = Article('10.1371/journal.pntd.0005992')\n",
    "article.authors"
   ]
  },
  {
   "cell_type": "code",
   "execution_count": null,
   "metadata": {
    "collapsed": true
   },
   "outputs": [],
   "source": [
    "# can't parse multiple emails\n",
    "article = Article('10.1371/journal.pone.0172966')\n",
    "article.corr_author"
   ]
  },
  {
   "cell_type": "code",
   "execution_count": null,
   "metadata": {
    "collapsed": true
   },
   "outputs": [],
   "source": [
    "# email dict constructed wrong (not matching one email to initials)\n",
    "article = Article('10.1371/journal.pone.0174222')\n",
    "article.corr_author"
   ]
  },
  {
   "cell_type": "code",
   "execution_count": null,
   "metadata": {
    "collapsed": true
   },
   "outputs": [],
   "source": [
    "# uses 'or' instead of comma to divide mult emails for an author\n",
    "article = Article('10.1371/journal.pone.0177761')\n",
    "article.corr_author"
   ]
  },
  {
   "cell_type": "code",
   "execution_count": null,
   "metadata": {
    "collapsed": true
   },
   "outputs": [],
   "source": [
    "# error constructing contrib element ('on behalf of')\n",
    "article = Article('10.1371/journal.pone.0176272')\n",
    "print(article.get_contributions_dict())"
   ]
  },
  {
   "cell_type": "code",
   "execution_count": null,
   "metadata": {
    "collapsed": true
   },
   "outputs": [],
   "source": [
    "# can't parse emails\n",
    "article = Article('10.1371/journal.pone.0183174')\n",
    "article.corr_author"
   ]
  },
  {
   "cell_type": "code",
   "execution_count": null,
   "metadata": {
    "collapsed": true
   },
   "outputs": [],
   "source": [
    "# can't parse emails\n",
    "article = Article('10.1371/journal.pone.0169830')\n",
    "article.corr_author"
   ]
  },
  {
   "cell_type": "code",
   "execution_count": null,
   "metadata": {
    "collapsed": true
   },
   "outputs": [],
   "source": [
    "# can't parse emails\n",
    "article = Article('10.1371/journal.pone.0170354')\n",
    "article.corr_author"
   ]
  },
  {
   "cell_type": "code",
   "execution_count": null,
   "metadata": {
    "collapsed": true
   },
   "outputs": [],
   "source": [
    "# can't parse emails\n",
    "article = Article('10.1371/journal.pone.0171427')\n",
    "article.corr_author"
   ]
  },
  {
   "cell_type": "code",
   "execution_count": null,
   "metadata": {
    "collapsed": true
   },
   "outputs": [],
   "source": [
    "# can't parse emails\n",
    "article = Article('10.1371/journal.pone.0172108')\n",
    "article.corr_author"
   ]
  },
  {
   "cell_type": "code",
   "execution_count": null,
   "metadata": {
    "collapsed": true
   },
   "outputs": [],
   "source": [
    "# can't parse emails\n",
    "article = Article('10.1371/journal.pone.0171631')\n",
    "article.corr_author"
   ]
  },
  {
   "cell_type": "code",
   "execution_count": null,
   "metadata": {
    "collapsed": true
   },
   "outputs": [],
   "source": [
    "# two corr authors & emails, but no initials\n",
    "article = Article('10.1371/journal.pone.0182819')\n",
    "article.corr_author"
   ]
  },
  {
   "cell_type": "code",
   "execution_count": null,
   "metadata": {
    "collapsed": true
   },
   "outputs": [],
   "source": [
    "dois = get_random_list_of_dois(count=100)\n",
    "for doi in dois:\n",
    "    article = Article(doi)\n",
    "    print(article.doi, article.get_contributions_dict())"
   ]
  },
  {
   "cell_type": "code",
   "execution_count": null,
   "metadata": {
    "collapsed": true
   },
   "outputs": [],
   "source": [
    "# author_roles from unformatted text element, not CREDiT taxonomy\n",
    "article = Article('10.1371/journal.pone.0050782')\n",
    "article.get_contributors_info()"
   ]
  },
  {
   "cell_type": "code",
   "execution_count": null,
   "metadata": {
    "collapsed": true
   },
   "outputs": [],
   "source": [
    "# contrib dict not working\n",
    "article = Article('10.1371/journal.pone.0016916')\n",
    "article.authors"
   ]
  },
  {
   "cell_type": "code",
   "execution_count": null,
   "metadata": {
    "collapsed": true
   },
   "outputs": [],
   "source": [
    "# Weird spacing in author role dict\n",
    "article = Article('10.1371/journal.pntd.0000072')\n",
    "article.get_contributions_dict()"
   ]
  },
  {
   "cell_type": "code",
   "execution_count": null,
   "metadata": {
    "collapsed": true
   },
   "outputs": [],
   "source": [
    "# used non-credit taxonomy, formatted dict for author contributions\n",
    "article = Article('10.1371/journal.pone.0150755')\n",
    "article.editor"
   ]
  },
  {
   "cell_type": "code",
   "execution_count": null,
   "metadata": {
    "collapsed": true
   },
   "outputs": [],
   "source": [
    "import yaml"
   ]
  },
  {
   "cell_type": "code",
   "execution_count": null,
   "metadata": {
    "collapsed": true
   },
   "outputs": [],
   "source": [
    "article = Article('10.1371/journal.pntd.0000072')\n",
    "tag_path = [\"/\",\n",
    "            \"article\",\n",
    "            \"front\",\n",
    "            \"article-meta\",\n",
    "            \"author-notes\"]\n",
    "author_notes_element = article.get_element_xpath(tag_path_elements=tag_path)[0]"
   ]
  },
  {
   "cell_type": "code",
   "execution_count": null,
   "metadata": {
    "collapsed": true
   },
   "outputs": [],
   "source": [
    "dois = get_random_list_of_dois(count=1000)\n",
    "author_email_list = []\n",
    "for doi in dois:\n",
    "    author_emails = []\n",
    "    article = Article(doi)\n",
    "    try:\n",
    "        if article.type_ not in ('correction', 'retraction') and article.corr_author is not None and len(article.corr_author) > 1:\n",
    "            author_emails = [article.doi]\n",
    "            for author in article.corr_author:\n",
    "                author_emails.extend([' '.join([author['given_names'], author['surname']]), ';'.join(author['email'])])\n",
    "            author_email_list.append(author_emails)\n",
    "    except IndexError:\n",
    "        print('ERROR!! with author emails for {}'.format(article.doi))\n",
    "    except AttributeError:\n",
    "        print('OTHER ERROR!! with author emails for {}'.format(article.doi))"
   ]
  },
  {
   "cell_type": "code",
   "execution_count": null,
   "metadata": {
    "collapsed": true
   },
   "outputs": [],
   "source": [
    "import csv\n",
    "with open('author_email_testing.csv', 'w') as f:\n",
    "    csv_out = csv.writer(f)\n",
    "    csv_out.writerow(['DOI', 'Name 1', 'Email 1', 'Name 2', 'Email 2', 'Name 3', 'Email 3'])\n",
    "    for lst in author_email_list:\n",
    "        csv_out.writerow(lst)"
   ]
  },
  {
   "cell_type": "code",
   "execution_count": null,
   "metadata": {
    "collapsed": true
   },
   "outputs": [],
   "source": [
    "# Has two contribution elements in a single list item\n",
    "article = Article('10.1371/journal.pone.0160768')\n",
    "article.authors"
   ]
  },
  {
   "cell_type": "code",
   "execution_count": null,
   "metadata": {
    "collapsed": true
   },
   "outputs": [],
   "source": [
    "article = Article('10.1371/journal.pcbi.0020111')\n",
    "article.corr_author"
   ]
  }
 ],
 "metadata": {
  "kernelspec": {
   "display_name": "Python 3",
   "language": "python",
   "name": "python3"
  },
  "language_info": {
   "codemirror_mode": {
    "name": "ipython",
    "version": 3
   },
   "file_extension": ".py",
   "mimetype": "text/x-python",
   "name": "python",
   "nbconvert_exporter": "python",
   "pygments_lexer": "ipython3",
   "version": "3.6.3"
  },
  "toc": {
   "nav_menu": {},
   "number_sections": true,
   "sideBar": true,
   "skip_h1_title": false,
   "toc_cell": false,
   "toc_position": {},
   "toc_section_display": "block",
   "toc_window_display": false
  }
 },
 "nbformat": 4,
 "nbformat_minor": 2
}
