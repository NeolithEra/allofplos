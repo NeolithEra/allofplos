{
 "cells": [
  {
   "cell_type": "code",
   "execution_count": null,
   "metadata": {},
   "outputs": [],
   "source": [
    "import datetime\n",
    "import lxml.etree as et\n",
    "import os\n",
    "\n",
    "from article_class import Article\n",
    "from samples.corpus_analysis import get_random_list_of_dois\n",
    "\n",
    "# Main directory of article XML files\n",
    "corpusdir = 'allofplos_xml'\n",
    "\n",
    "# Temp folder for downloading and processing new articles\n",
    "newarticledir = 'new_plos_articles'\n",
    "\n",
    "# URL bases for PLOS's raw article XML\n",
    "EXT_URL_TMP = 'http://journals.plos.org/plosone/article/file?id={0}&type=manuscript'\n",
    "INT_URL_TMP = 'http://contentrepo.plos.org:8002/v1/objects/mogilefs-prod-repo?key={0}.XML'\n",
    "URL_TMP = EXT_URL_TMP\n"
   ]
  },
  {
   "cell_type": "code",
   "execution_count": null,
   "metadata": {},
   "outputs": [],
   "source": [
    "dois = get_random_list_of_dois(count=10000)\n",
    "for doi in dois:\n",
    "    article = Article(doi)\n",
    "    article_data = []\n",
    "    if article.type_ not in ('correction', 'retraction') and article.pubdate > datetime.datetime(2017, 10, 1):\n",
    "        article_data = (article.author, article.title, article.journal, article.doi, article.page, article.get_pubdate(string_=True))\n",
    "        print(article_data)"
   ]
  }
 ],
 "metadata": {
  "kernelspec": {
   "display_name": "py3",
   "language": "python",
   "name": "python3"
  },
  "language_info": {
   "codemirror_mode": {
    "name": "ipython",
    "version": 3
   },
   "file_extension": ".py",
   "mimetype": "text/x-python",
   "name": "python",
   "nbconvert_exporter": "python",
   "pygments_lexer": "ipython3",
   "version": "3.6.3"
  },
  "toc": {
   "nav_menu": {},
   "number_sections": true,
   "sideBar": true,
   "skip_h1_title": false,
   "toc_cell": false,
   "toc_position": {},
   "toc_section_display": "block",
   "toc_window_display": false
  }
 },
 "nbformat": 4,
 "nbformat_minor": 2
}
