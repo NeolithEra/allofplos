{
 "cells": [
  {
   "cell_type": "code",
   "execution_count": null,
   "metadata": {},
   "outputs": [],
   "source": [
    "import datetime\n",
    "import lxml.etree as et\n",
    "import os\n",
    "\n",
    "from article_class import Article\n",
    "from samples.corpus_analysis import get_random_list_of_dois\n",
    "\n",
    "# Main directory of article XML files\n",
    "corpusdir = 'allofplos_xml'\n",
    "\n",
    "# Temp folder for downloading and processing n/'ew articles\n",
    "newarticledir = 'new_plos_articles'\n",
    "\n",
    "# URL bases for PLOS's raw article XML\n",
    "EXT_URL_TMP = 'http://journals.plos.org/plosone/article/file?id={0}&type=manuscript'\n",
    "INT_URL_TMP = 'http://contentrepo.plos.org:8002/v1/objects/mogilefs-prod-repo?key={0}.XML'\n",
    "URL_TMP = EXT_URL_TMP\n"
   ]
  },
  {
   "cell_type": "code",
   "execution_count": null,
   "metadata": {},
   "outputs": [],
   "source": [
    "import csv\n",
    "dois = get_random_list_of_dois(count=500)\n",
    "article_array = []\n",
    "for doi in dois:\n",
    "    article = Article(doi)\n",
    "    article_data = []\n",
    "    if article.type_ not in ('correction', 'retraction') and article.pubdate > datetime.datetime(2017, 1, 1):\n",
    "#         if type(article.author) == dict:\n",
    "#             mult_authors = False\n",
    "#             article_data = (mult_authors, article.author['last'], article.author['first'], article.author['email'], article.title, article.journal, article.type_, article.doi, article.page, article.get_pubdate(string_=True))\n",
    "#             article_array.append(article_data)\n",
    "#             pass\n",
    "#         elif type(article.author) == list:\n",
    "#             mult_authors = True\n",
    "#             for author in article.author:\n",
    "#                 article_data = (mult_authors, author['last'], author['first'], author['email'], article.title, article.journal, article.type_, article.doi, article.page, article.get_pubdate(string_=True))\n",
    "#                 print(author['first'], author['last'], author['email'], article.title)\n",
    "#                 article_array.append(article_data)\n",
    "#         else:\n",
    "#             print('Error reading author list: {}'.format(article.doi))\n",
    "        print(article.doi, article.author)"
   ]
  },
  {
   "cell_type": "code",
   "execution_count": null,
   "metadata": {},
   "outputs": [],
   "source": [
    "with open('testing_author_dupes2.csv', 'w', encoding='utf-8') as out:\n",
    "        csv_out = csv.writer(out)\n",
    "        csv_out.writerow(['mult. authors', 'last name', 'first name', 'email', 'title', 'journal', 'type', 'doi', 'link', 'pubdate'])\n",
    "        for row in article_array:\n",
    "            csv_out.writerow(row)"
   ]
  },
  {
   "cell_type": "code",
   "execution_count": null,
   "metadata": {},
   "outputs": [],
   "source": [
    "article = Article('10.1371/journal.pone.0187065')\n",
    "foo = article.author\n",
    "# dois = get_random_list_of_dois(count=100)\n",
    "# for doi in dois:\n",
    "#     article = Article(doi)\n",
    "#     for author in article.author:\n",
    "#         print(author)"
   ]
  },
  {
   "cell_type": "code",
   "execution_count": null,
   "metadata": {},
   "outputs": [],
   "source": [
    "article = Article('10.1371/journal.pmed.0020043')\n",
    "article.author"
   ]
  },
  {
   "cell_type": "code",
   "execution_count": null,
   "metadata": {},
   "outputs": [],
   "source": [
    "article = Article('10.1371/journal.pone.0182368')\n",
    "article.author"
   ]
  },
  {
   "cell_type": "code",
   "execution_count": null,
   "metadata": {},
   "outputs": [],
   "source": [
    "article = Article('10.1371/journal.pone.0170783')\n",
    "article.author"
   ]
  }
 ],
 "metadata": {
  "kernelspec": {
   "display_name": "py3",
   "language": "python",
   "name": "python3"
  },
  "language_info": {
   "codemirror_mode": {
    "name": "ipython",
    "version": 3
   },
   "file_extension": ".py",
   "mimetype": "text/x-python",
   "name": "python",
   "nbconvert_exporter": "python",
   "pygments_lexer": "ipython3",
   "version": "3.6.3"
  },
  "toc": {
   "nav_menu": {},
   "number_sections": true,
   "sideBar": true,
   "skip_h1_title": false,
   "toc_cell": false,
   "toc_position": {},
   "toc_section_display": "block",
   "toc_window_display": false
  }
 },
 "nbformat": 4,
 "nbformat_minor": 2
}
